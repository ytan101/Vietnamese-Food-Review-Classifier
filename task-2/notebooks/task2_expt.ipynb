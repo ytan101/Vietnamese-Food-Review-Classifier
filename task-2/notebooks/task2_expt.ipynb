{
 "cells": [
  {
   "attachments": {},
   "cell_type": "markdown",
   "metadata": {},
   "source": [
    "# Vietnam Food Review Sentiment Classifier"
   ]
  },
  {
   "attachments": {},
   "cell_type": "markdown",
   "metadata": {},
   "source": [
    "## Section 1: EDA"
   ]
  },
  {
   "cell_type": "code",
   "execution_count": 1,
   "metadata": {},
   "outputs": [],
   "source": [
    "import pandas as pd\n",
    "from rich import print\n",
    "\n",
    "positive_file_path = '../data/raw/positive_data.csv'\n",
    "negative_file_path = '../data/raw/negative_data.csv'\n",
    "neutral_file_path = '../data/raw/neural_data.csv'\n",
    "\n",
    "files = [positive_file_path, negative_file_path, neutral_file_path]\n",
    "\n",
    "# positive_reviews_df = pd.read_csv(positive_file_path)\n",
    "# negative_reviews_df = pd.read_csv(negative_file_path)\n",
    "# neutral_reviews_df = pd.read_csv(neutral_file_path)\n",
    "combined_reviews_df = pd.concat([pd.read_csv(file) for file in files])"
   ]
  },
  {
   "attachments": {},
   "cell_type": "markdown",
   "metadata": {},
   "source": [
    "First, we check if any rows have `NaN` values."
   ]
  },
  {
   "cell_type": "code",
   "execution_count": 2,
   "metadata": {},
   "outputs": [
    {
     "data": {
      "text/plain": [
       "5914"
      ]
     },
     "execution_count": 2,
     "metadata": {},
     "output_type": "execute_result"
    }
   ],
   "source": [
    "len(combined_reviews_df)"
   ]
  },
  {
   "cell_type": "code",
   "execution_count": 3,
   "metadata": {},
   "outputs": [
    {
     "data": {
      "text/html": [
       "<div>\n",
       "<style scoped>\n",
       "    .dataframe tbody tr th:only-of-type {\n",
       "        vertical-align: middle;\n",
       "    }\n",
       "\n",
       "    .dataframe tbody tr th {\n",
       "        vertical-align: top;\n",
       "    }\n",
       "\n",
       "    .dataframe thead th {\n",
       "        text-align: right;\n",
       "    }\n",
       "</style>\n",
       "<table border=\"1\" class=\"dataframe\">\n",
       "  <thead>\n",
       "    <tr style=\"text-align: right;\">\n",
       "      <th></th>\n",
       "      <th>Rate</th>\n",
       "      <th>Review</th>\n",
       "      <th>Label</th>\n",
       "    </tr>\n",
       "  </thead>\n",
       "  <tbody>\n",
       "    <tr>\n",
       "      <th>337</th>\n",
       "      <td>4.2</td>\n",
       "      <td>Lúc mình đến bạn phục vụ bàn đang ăn bánh cuố...</td>\n",
       "      <td>NaN</td>\n",
       "    </tr>\n",
       "    <tr>\n",
       "      <th>382</th>\n",
       "      <td>4.2</td>\n",
       "      <td>ăn Không gian Nhân viên ngoan bây không cho e...</td>\n",
       "      <td>NaN</td>\n",
       "    </tr>\n",
       "    <tr>\n",
       "      <th>813</th>\n",
       "      <td>4.6</td>\n",
       "      <td>Nhìn địa chỉ gì mà Bis tức là Đi từ phố huế r...</td>\n",
       "      <td>NaN</td>\n",
       "    </tr>\n",
       "    <tr>\n",
       "      <th>1083</th>\n",
       "      <td>qua mất lại phải đi vòng quay lại vào đây uốn...</td>\n",
       "      <td>0</td>\n",
       "      <td>NaN</td>\n",
       "    </tr>\n",
       "  </tbody>\n",
       "</table>\n",
       "</div>"
      ],
      "text/plain": [
       "                                                   Rate  \\\n",
       "337                                                 4.2   \n",
       "382                                                 4.2   \n",
       "813                                                 4.6   \n",
       "1083   qua mất lại phải đi vòng quay lại vào đây uốn...   \n",
       "\n",
       "                                                 Review  Label  \n",
       "337    Lúc mình đến bạn phục vụ bàn đang ăn bánh cuố...    NaN  \n",
       "382    ăn Không gian Nhân viên ngoan bây không cho e...    NaN  \n",
       "813    Nhìn địa chỉ gì mà Bis tức là Đi từ phố huế r...    NaN  \n",
       "1083                                                  0    NaN  "
      ]
     },
     "execution_count": 3,
     "metadata": {},
     "output_type": "execute_result"
    }
   ],
   "source": [
    "nan_rows = combined_reviews_df.loc[combined_reviews_df.isna().any(axis=1)]\n",
    "nan_rows"
   ]
  },
  {
   "attachments": {},
   "cell_type": "markdown",
   "metadata": {},
   "source": [
    "As there are only 4 rows with missing labels out of 5914 samples, we remove the rows"
   ]
  },
  {
   "cell_type": "code",
   "execution_count": 4,
   "metadata": {},
   "outputs": [],
   "source": [
    "combined_reviews_df = combined_reviews_df.dropna()"
   ]
  },
  {
   "cell_type": "code",
   "execution_count": 5,
   "metadata": {},
   "outputs": [],
   "source": [
    "# Drop rows with NaN\n",
    "combined_reviews_df = combined_reviews_df.dropna()\n",
    "\n",
    "# Reset the index column\n",
    "combined_reviews_df.reset_index(drop=True)\n",
    "num_rows = combined_reviews_df.shape[0]\n",
    "combined_reviews_df['Index'] = range(num_rows)\n",
    "combined_reviews_df.set_index('Index', inplace=True)"
   ]
  },
  {
   "cell_type": "code",
   "execution_count": 6,
   "metadata": {},
   "outputs": [],
   "source": [
    "# We expect Rate to be float64 while Label to be int32\n",
    "combined_reviews_df = combined_reviews_df.astype({'Rate': 'float64'})\n",
    "combined_reviews_df = combined_reviews_df.astype({'Label': 'int32'})\n",
    "\n",
    "# Let's also count the total number of words in each review\n",
    "combined_reviews_df['word_count'] = combined_reviews_df['Review'].str.split().apply(len) "
   ]
  },
  {
   "attachments": {},
   "cell_type": "markdown",
   "metadata": {},
   "source": [
    "Now let's get 3 separate dataframes based on the sentiment label of `1: positive, 0: neutral, -1: negative`"
   ]
  },
  {
   "cell_type": "code",
   "execution_count": 7,
   "metadata": {},
   "outputs": [],
   "source": [
    "# Positive overview\n",
    "positive_df = combined_reviews_df[combined_reviews_df['Label'] == 1]\n",
    "\n",
    "# Negative overview\n",
    "negative_df = combined_reviews_df[combined_reviews_df['Label'] == -1]\n",
    "\n",
    "# Neutral overview\n",
    "neutral_df = combined_reviews_df[combined_reviews_df['Label'] == 0]"
   ]
  },
  {
   "cell_type": "code",
   "execution_count": 8,
   "metadata": {},
   "outputs": [
    {
     "data": {
      "text/html": [
       "<pre style=\"white-space:pre;overflow-x:auto;line-height:normal;font-family:Menlo,'DejaVu Sans Mono',consolas,'Courier New',monospace\">Positive:\n",
       "              Rate   Label   word_count\n",
       "count  <span style=\"color: #008080; text-decoration-color: #008080; font-weight: bold\">2779.000000</span>  <span style=\"color: #008080; text-decoration-color: #008080; font-weight: bold\">2779.0</span>  <span style=\"color: #008080; text-decoration-color: #008080; font-weight: bold\">2779.000000</span>\n",
       "mean      <span style=\"color: #008080; text-decoration-color: #008080; font-weight: bold\">9.163512</span>     <span style=\"color: #008080; text-decoration-color: #008080; font-weight: bold\">1.0</span>    <span style=\"color: #008080; text-decoration-color: #008080; font-weight: bold\">71.879813</span>\n",
       "std       <span style=\"color: #008080; text-decoration-color: #008080; font-weight: bold\">1.039248</span>     <span style=\"color: #008080; text-decoration-color: #008080; font-weight: bold\">0.0</span>    <span style=\"color: #008080; text-decoration-color: #008080; font-weight: bold\">74.308678</span>\n",
       "min       <span style=\"color: #008080; text-decoration-color: #008080; font-weight: bold\">4.200000</span>     <span style=\"color: #008080; text-decoration-color: #008080; font-weight: bold\">1.0</span>     <span style=\"color: #008080; text-decoration-color: #008080; font-weight: bold\">1.000000</span>\n",
       "<span style=\"color: #008080; text-decoration-color: #008080; font-weight: bold\">25</span>%       <span style=\"color: #008080; text-decoration-color: #008080; font-weight: bold\">9.000000</span>     <span style=\"color: #008080; text-decoration-color: #008080; font-weight: bold\">1.0</span>    <span style=\"color: #008080; text-decoration-color: #008080; font-weight: bold\">22.000000</span>\n",
       "<span style=\"color: #008080; text-decoration-color: #008080; font-weight: bold\">50</span>%       <span style=\"color: #008080; text-decoration-color: #008080; font-weight: bold\">9.200000</span>     <span style=\"color: #008080; text-decoration-color: #008080; font-weight: bold\">1.0</span>    <span style=\"color: #008080; text-decoration-color: #008080; font-weight: bold\">50.000000</span>\n",
       "<span style=\"color: #008080; text-decoration-color: #008080; font-weight: bold\">75</span>%       <span style=\"color: #008080; text-decoration-color: #008080; font-weight: bold\">9.600000</span>     <span style=\"color: #008080; text-decoration-color: #008080; font-weight: bold\">1.0</span>    <span style=\"color: #008080; text-decoration-color: #008080; font-weight: bold\">99.000000</span>\n",
       "max      <span style=\"color: #008080; text-decoration-color: #008080; font-weight: bold\">10.000000</span>     <span style=\"color: #008080; text-decoration-color: #008080; font-weight: bold\">1.0</span>   <span style=\"color: #008080; text-decoration-color: #008080; font-weight: bold\">972.000000</span>\n",
       "</pre>\n"
      ],
      "text/plain": [
       "Positive:\n",
       "              Rate   Label   word_count\n",
       "count  \u001b[1;36m2779.000000\u001b[0m  \u001b[1;36m2779.0\u001b[0m  \u001b[1;36m2779.000000\u001b[0m\n",
       "mean      \u001b[1;36m9.163512\u001b[0m     \u001b[1;36m1.0\u001b[0m    \u001b[1;36m71.879813\u001b[0m\n",
       "std       \u001b[1;36m1.039248\u001b[0m     \u001b[1;36m0.0\u001b[0m    \u001b[1;36m74.308678\u001b[0m\n",
       "min       \u001b[1;36m4.200000\u001b[0m     \u001b[1;36m1.0\u001b[0m     \u001b[1;36m1.000000\u001b[0m\n",
       "\u001b[1;36m25\u001b[0m%       \u001b[1;36m9.000000\u001b[0m     \u001b[1;36m1.0\u001b[0m    \u001b[1;36m22.000000\u001b[0m\n",
       "\u001b[1;36m50\u001b[0m%       \u001b[1;36m9.200000\u001b[0m     \u001b[1;36m1.0\u001b[0m    \u001b[1;36m50.000000\u001b[0m\n",
       "\u001b[1;36m75\u001b[0m%       \u001b[1;36m9.600000\u001b[0m     \u001b[1;36m1.0\u001b[0m    \u001b[1;36m99.000000\u001b[0m\n",
       "max      \u001b[1;36m10.000000\u001b[0m     \u001b[1;36m1.0\u001b[0m   \u001b[1;36m972.000000\u001b[0m\n"
      ]
     },
     "metadata": {},
     "output_type": "display_data"
    },
    {
     "data": {
      "text/html": [
       "<pre style=\"white-space:pre;overflow-x:auto;line-height:normal;font-family:Menlo,'DejaVu Sans Mono',consolas,'Courier New',monospace\">Negative:\n",
       "              Rate   Label   word_count\n",
       "count  <span style=\"color: #008080; text-decoration-color: #008080; font-weight: bold\">2416.000000</span>  <span style=\"color: #008080; text-decoration-color: #008080; font-weight: bold\">2416.0</span>  <span style=\"color: #008080; text-decoration-color: #008080; font-weight: bold\">2416.000000</span>\n",
       "mean      <span style=\"color: #008080; text-decoration-color: #008080; font-weight: bold\">3.317632</span>    <span style=\"color: #008080; text-decoration-color: #008080; font-weight: bold\">-1.0</span>    <span style=\"color: #008080; text-decoration-color: #008080; font-weight: bold\">91.695364</span>\n",
       "std       <span style=\"color: #008080; text-decoration-color: #008080; font-weight: bold\">1.218540</span>     <span style=\"color: #008080; text-decoration-color: #008080; font-weight: bold\">0.0</span>    <span style=\"color: #008080; text-decoration-color: #008080; font-weight: bold\">91.331566</span>\n",
       "min       <span style=\"color: #008080; text-decoration-color: #008080; font-weight: bold\">1.000000</span>    <span style=\"color: #008080; text-decoration-color: #008080; font-weight: bold\">-1.0</span>     <span style=\"color: #008080; text-decoration-color: #008080; font-weight: bold\">1.000000</span>\n",
       "<span style=\"color: #008080; text-decoration-color: #008080; font-weight: bold\">25</span>%       <span style=\"color: #008080; text-decoration-color: #008080; font-weight: bold\">2.600000</span>    <span style=\"color: #008080; text-decoration-color: #008080; font-weight: bold\">-1.0</span>    <span style=\"color: #008080; text-decoration-color: #008080; font-weight: bold\">32.000000</span>\n",
       "<span style=\"color: #008080; text-decoration-color: #008080; font-weight: bold\">50</span>%       <span style=\"color: #008080; text-decoration-color: #008080; font-weight: bold\">3.600000</span>    <span style=\"color: #008080; text-decoration-color: #008080; font-weight: bold\">-1.0</span>    <span style=\"color: #008080; text-decoration-color: #008080; font-weight: bold\">66.000000</span>\n",
       "<span style=\"color: #008080; text-decoration-color: #008080; font-weight: bold\">75</span>%       <span style=\"color: #008080; text-decoration-color: #008080; font-weight: bold\">4.200000</span>    <span style=\"color: #008080; text-decoration-color: #008080; font-weight: bold\">-1.0</span>   <span style=\"color: #008080; text-decoration-color: #008080; font-weight: bold\">116.250000</span>\n",
       "max       <span style=\"color: #008080; text-decoration-color: #008080; font-weight: bold\">5.000000</span>    <span style=\"color: #008080; text-decoration-color: #008080; font-weight: bold\">-1.0</span>   <span style=\"color: #008080; text-decoration-color: #008080; font-weight: bold\">928.000000</span>\n",
       "</pre>\n"
      ],
      "text/plain": [
       "Negative:\n",
       "              Rate   Label   word_count\n",
       "count  \u001b[1;36m2416.000000\u001b[0m  \u001b[1;36m2416.0\u001b[0m  \u001b[1;36m2416.000000\u001b[0m\n",
       "mean      \u001b[1;36m3.317632\u001b[0m    \u001b[1;36m-1.0\u001b[0m    \u001b[1;36m91.695364\u001b[0m\n",
       "std       \u001b[1;36m1.218540\u001b[0m     \u001b[1;36m0.0\u001b[0m    \u001b[1;36m91.331566\u001b[0m\n",
       "min       \u001b[1;36m1.000000\u001b[0m    \u001b[1;36m-1.0\u001b[0m     \u001b[1;36m1.000000\u001b[0m\n",
       "\u001b[1;36m25\u001b[0m%       \u001b[1;36m2.600000\u001b[0m    \u001b[1;36m-1.0\u001b[0m    \u001b[1;36m32.000000\u001b[0m\n",
       "\u001b[1;36m50\u001b[0m%       \u001b[1;36m3.600000\u001b[0m    \u001b[1;36m-1.0\u001b[0m    \u001b[1;36m66.000000\u001b[0m\n",
       "\u001b[1;36m75\u001b[0m%       \u001b[1;36m4.200000\u001b[0m    \u001b[1;36m-1.0\u001b[0m   \u001b[1;36m116.250000\u001b[0m\n",
       "max       \u001b[1;36m5.000000\u001b[0m    \u001b[1;36m-1.0\u001b[0m   \u001b[1;36m928.000000\u001b[0m\n"
      ]
     },
     "metadata": {},
     "output_type": "display_data"
    },
    {
     "data": {
      "text/html": [
       "<pre style=\"white-space:pre;overflow-x:auto;line-height:normal;font-family:Menlo,'DejaVu Sans Mono',consolas,'Courier New',monospace\">Neutral:\n",
       "             Rate  Label   word_count\n",
       "count  <span style=\"color: #008080; text-decoration-color: #008080; font-weight: bold\">715.000000</span>  <span style=\"color: #008080; text-decoration-color: #008080; font-weight: bold\">715.0</span>   <span style=\"color: #008080; text-decoration-color: #008080; font-weight: bold\">715.000000</span>\n",
       "mean     <span style=\"color: #008080; text-decoration-color: #008080; font-weight: bold\">4.769510</span>    <span style=\"color: #008080; text-decoration-color: #008080; font-weight: bold\">0.0</span>    <span style=\"color: #008080; text-decoration-color: #008080; font-weight: bold\">64.135664</span>\n",
       "std      <span style=\"color: #008080; text-decoration-color: #008080; font-weight: bold\">0.332075</span>    <span style=\"color: #008080; text-decoration-color: #008080; font-weight: bold\">0.0</span>    <span style=\"color: #008080; text-decoration-color: #008080; font-weight: bold\">76.688115</span>\n",
       "min      <span style=\"color: #008080; text-decoration-color: #008080; font-weight: bold\">0.000000</span>    <span style=\"color: #008080; text-decoration-color: #008080; font-weight: bold\">0.0</span>     <span style=\"color: #008080; text-decoration-color: #008080; font-weight: bold\">1.000000</span>\n",
       "<span style=\"color: #008080; text-decoration-color: #008080; font-weight: bold\">25</span>%      <span style=\"color: #008080; text-decoration-color: #008080; font-weight: bold\">4.600000</span>    <span style=\"color: #008080; text-decoration-color: #008080; font-weight: bold\">0.0</span>    <span style=\"color: #008080; text-decoration-color: #008080; font-weight: bold\">20.000000</span>\n",
       "<span style=\"color: #008080; text-decoration-color: #008080; font-weight: bold\">50</span>%      <span style=\"color: #008080; text-decoration-color: #008080; font-weight: bold\">5.000000</span>    <span style=\"color: #008080; text-decoration-color: #008080; font-weight: bold\">0.0</span>    <span style=\"color: #008080; text-decoration-color: #008080; font-weight: bold\">44.000000</span>\n",
       "<span style=\"color: #008080; text-decoration-color: #008080; font-weight: bold\">75</span>%      <span style=\"color: #008080; text-decoration-color: #008080; font-weight: bold\">5.000000</span>    <span style=\"color: #008080; text-decoration-color: #008080; font-weight: bold\">0.0</span>    <span style=\"color: #008080; text-decoration-color: #008080; font-weight: bold\">86.000000</span>\n",
       "max      <span style=\"color: #008080; text-decoration-color: #008080; font-weight: bold\">5.000000</span>    <span style=\"color: #008080; text-decoration-color: #008080; font-weight: bold\">0.0</span>  <span style=\"color: #008080; text-decoration-color: #008080; font-weight: bold\">1046.000000</span>\n",
       "</pre>\n"
      ],
      "text/plain": [
       "Neutral:\n",
       "             Rate  Label   word_count\n",
       "count  \u001b[1;36m715.000000\u001b[0m  \u001b[1;36m715.0\u001b[0m   \u001b[1;36m715.000000\u001b[0m\n",
       "mean     \u001b[1;36m4.769510\u001b[0m    \u001b[1;36m0.0\u001b[0m    \u001b[1;36m64.135664\u001b[0m\n",
       "std      \u001b[1;36m0.332075\u001b[0m    \u001b[1;36m0.0\u001b[0m    \u001b[1;36m76.688115\u001b[0m\n",
       "min      \u001b[1;36m0.000000\u001b[0m    \u001b[1;36m0.0\u001b[0m     \u001b[1;36m1.000000\u001b[0m\n",
       "\u001b[1;36m25\u001b[0m%      \u001b[1;36m4.600000\u001b[0m    \u001b[1;36m0.0\u001b[0m    \u001b[1;36m20.000000\u001b[0m\n",
       "\u001b[1;36m50\u001b[0m%      \u001b[1;36m5.000000\u001b[0m    \u001b[1;36m0.0\u001b[0m    \u001b[1;36m44.000000\u001b[0m\n",
       "\u001b[1;36m75\u001b[0m%      \u001b[1;36m5.000000\u001b[0m    \u001b[1;36m0.0\u001b[0m    \u001b[1;36m86.000000\u001b[0m\n",
       "max      \u001b[1;36m5.000000\u001b[0m    \u001b[1;36m0.0\u001b[0m  \u001b[1;36m1046.000000\u001b[0m\n"
      ]
     },
     "metadata": {},
     "output_type": "display_data"
    }
   ],
   "source": [
    "# Positive stats:\n",
    "print(f\"Positive:\\n{positive_df.describe()}\")\n",
    "\n",
    "# Negative stats:\n",
    "print(f\"Negative:\\n{negative_df.describe()}\")\n",
    "\n",
    "# Neutral stats\n",
    "print(f\"Neutral:\\n{neutral_df.describe()}\")"
   ]
  },
  {
   "cell_type": "code",
   "execution_count": 9,
   "metadata": {},
   "outputs": [
    {
     "data": {
      "text/html": [
       "<pre style=\"white-space:pre;overflow-x:auto;line-height:normal;font-family:Menlo,'DejaVu Sans Mono',consolas,'Courier New',monospace\">Positive: <span style=\"color: #008080; text-decoration-color: #008080; font-weight: bold\">0.47</span>, Negative: <span style=\"color: #008080; text-decoration-color: #008080; font-weight: bold\">0.41</span>, Neutral: <span style=\"color: #008080; text-decoration-color: #008080; font-weight: bold\">0.12</span>\n",
       "</pre>\n"
      ],
      "text/plain": [
       "Positive: \u001b[1;36m0.47\u001b[0m, Negative: \u001b[1;36m0.41\u001b[0m, Neutral: \u001b[1;36m0.12\u001b[0m\n"
      ]
     },
     "metadata": {},
     "output_type": "display_data"
    }
   ],
   "source": [
    "# From the above, we can see the distribution of labels as follows:\n",
    "print(f\"Positive: {len(positive_df)/len(combined_reviews_df):.2f}, Negative: {len(negative_df)/len(combined_reviews_df):.2f}, Neutral: {len(neutral_df)/len(combined_reviews_df):.2f}\")"
   ]
  },
  {
   "attachments": {},
   "cell_type": "markdown",
   "metadata": {},
   "source": [
    "### Observations\n",
    "- The dataset is almost evenly split between `Positive` and `Negative`, with `Neutral` accounting for a small percentage\n",
    "- The range for `Positive` reviews is broader (4.2 - 10.0) as compared to `Negative` (1.0 - 5.0) and `Neutral` (0.0 - 5.0)\n",
    "- Some ratings in `Positive` overlaps with `Negative`\n",
    "- `Neutral` has a lower min rating as compared to `Negative`\n",
    "- Most reviews have around 60-90 words, with `Negative` reviews having 20 more words than `Positive` reviews on average"
   ]
  },
  {
   "attachments": {},
   "cell_type": "markdown",
   "metadata": {},
   "source": [
    "### Rating distribution analysis\n",
    "\n",
    "To properly see the rating distribution across the three labels, let's plot a graph."
   ]
  },
  {
   "cell_type": "code",
   "execution_count": 10,
   "metadata": {},
   "outputs": [],
   "source": [
    "import seaborn as sns\n",
    "import matplotlib.pyplot as plt\n",
    "import numpy as np\n",
    "\n",
    "def plot_distributions(df, column, num_bins=10, title=10):\n",
    "    ax = sns.displot(df[column], bins = num_bins, kde=False)\n",
    "    plt.yscale(\"log\")\n",
    "    plt.title(title)\n",
    "    plt.show()\n",
    "\n",
    "    # Get the count of each bin\n",
    "    bins = np.histogram_bin_edges(df[column], bins=num_bins)\n",
    "    values, _= np.histogram(df[column], bins=bins)\n",
    "    values = [float(value) for value in values]\n",
    "\n",
    "    # Get the percentage of each bin\n",
    "    percentages = [value/sum(values) for value in values]\n",
    "    percentages = [round(percentage,2) for percentage in percentages]\n",
    "\n",
    "    bin_stats = []\n",
    "    for i, value in enumerate(values):\n",
    "        bin_stats.append(\n",
    "            {\n",
    "            \"bin_lower\": round(bins[i], 2),\n",
    "            \"bin_upper\": round(bins[i+1], 2),\n",
    "            \"value\": round(value, 2),\n",
    "            \"percentage\": round(percentages[i], 2),\n",
    "            }\n",
    "        )\n",
    "    print(bin_stats)\n"
   ]
  },
  {
   "cell_type": "code",
   "execution_count": 11,
   "metadata": {},
   "outputs": [
    {
     "data": {
      "image/png": "[encoded data removed]",
      "text/plain": [
       "<Figure size 500x500 with 1 Axes>"
      ]
     },
     "metadata": {},
     "output_type": "display_data"
    },
    {
     "data": {
      "text/html": [
       "<pre style=\"white-space:pre;overflow-x:auto;line-height:normal;font-family:Menlo,'DejaVu Sans Mono',consolas,'Courier New',monospace\"><span style=\"font-weight: bold\">[</span>\n",
       "    <span style=\"font-weight: bold\">{</span><span style=\"color: #008000; text-decoration-color: #008000\">'bin_lower'</span>: <span style=\"color: #008080; text-decoration-color: #008080; font-weight: bold\">4.2</span>, <span style=\"color: #008000; text-decoration-color: #008000\">'bin_upper'</span>: <span style=\"color: #008080; text-decoration-color: #008080; font-weight: bold\">4.78</span>, <span style=\"color: #008000; text-decoration-color: #008000\">'value'</span>: <span style=\"color: #008080; text-decoration-color: #008080; font-weight: bold\">17.0</span>, <span style=\"color: #008000; text-decoration-color: #008000\">'percentage'</span>: <span style=\"color: #008080; text-decoration-color: #008080; font-weight: bold\">0.01</span><span style=\"font-weight: bold\">}</span>,\n",
       "    <span style=\"font-weight: bold\">{</span><span style=\"color: #008000; text-decoration-color: #008000\">'bin_lower'</span>: <span style=\"color: #008080; text-decoration-color: #008080; font-weight: bold\">4.78</span>, <span style=\"color: #008000; text-decoration-color: #008000\">'bin_upper'</span>: <span style=\"color: #008080; text-decoration-color: #008080; font-weight: bold\">5.36</span>, <span style=\"color: #008000; text-decoration-color: #008000\">'value'</span>: <span style=\"color: #008080; text-decoration-color: #008080; font-weight: bold\">120.0</span>, <span style=\"color: #008000; text-decoration-color: #008000\">'percentage'</span>: <span style=\"color: #008080; text-decoration-color: #008080; font-weight: bold\">0.04</span><span style=\"font-weight: bold\">}</span>,\n",
       "    <span style=\"font-weight: bold\">{</span><span style=\"color: #008000; text-decoration-color: #008000\">'bin_lower'</span>: <span style=\"color: #008080; text-decoration-color: #008080; font-weight: bold\">5.36</span>, <span style=\"color: #008000; text-decoration-color: #008000\">'bin_upper'</span>: <span style=\"color: #008080; text-decoration-color: #008080; font-weight: bold\">5.94</span>, <span style=\"color: #008000; text-decoration-color: #008000\">'value'</span>: <span style=\"color: #008080; text-decoration-color: #008080; font-weight: bold\">0.0</span>, <span style=\"color: #008000; text-decoration-color: #008000\">'percentage'</span>: <span style=\"color: #008080; text-decoration-color: #008080; font-weight: bold\">0.0</span><span style=\"font-weight: bold\">}</span>,\n",
       "    <span style=\"font-weight: bold\">{</span><span style=\"color: #008000; text-decoration-color: #008000\">'bin_lower'</span>: <span style=\"color: #008080; text-decoration-color: #008080; font-weight: bold\">5.94</span>, <span style=\"color: #008000; text-decoration-color: #008000\">'bin_upper'</span>: <span style=\"color: #008080; text-decoration-color: #008080; font-weight: bold\">6.52</span>, <span style=\"color: #008000; text-decoration-color: #008000\">'value'</span>: <span style=\"color: #008080; text-decoration-color: #008080; font-weight: bold\">0.0</span>, <span style=\"color: #008000; text-decoration-color: #008000\">'percentage'</span>: <span style=\"color: #008080; text-decoration-color: #008080; font-weight: bold\">0.0</span><span style=\"font-weight: bold\">}</span>,\n",
       "    <span style=\"font-weight: bold\">{</span><span style=\"color: #008000; text-decoration-color: #008000\">'bin_lower'</span>: <span style=\"color: #008080; text-decoration-color: #008080; font-weight: bold\">6.52</span>, <span style=\"color: #008000; text-decoration-color: #008000\">'bin_upper'</span>: <span style=\"color: #008080; text-decoration-color: #008080; font-weight: bold\">7.1</span>, <span style=\"color: #008000; text-decoration-color: #008000\">'value'</span>: <span style=\"color: #008080; text-decoration-color: #008080; font-weight: bold\">0.0</span>, <span style=\"color: #008000; text-decoration-color: #008000\">'percentage'</span>: <span style=\"color: #008080; text-decoration-color: #008080; font-weight: bold\">0.0</span><span style=\"font-weight: bold\">}</span>,\n",
       "    <span style=\"font-weight: bold\">{</span><span style=\"color: #008000; text-decoration-color: #008000\">'bin_lower'</span>: <span style=\"color: #008080; text-decoration-color: #008080; font-weight: bold\">7.1</span>, <span style=\"color: #008000; text-decoration-color: #008000\">'bin_upper'</span>: <span style=\"color: #008080; text-decoration-color: #008080; font-weight: bold\">7.68</span>, <span style=\"color: #008000; text-decoration-color: #008000\">'value'</span>: <span style=\"color: #008080; text-decoration-color: #008080; font-weight: bold\">0.0</span>, <span style=\"color: #008000; text-decoration-color: #008000\">'percentage'</span>: <span style=\"color: #008080; text-decoration-color: #008080; font-weight: bold\">0.0</span><span style=\"font-weight: bold\">}</span>,\n",
       "    <span style=\"font-weight: bold\">{</span><span style=\"color: #008000; text-decoration-color: #008000\">'bin_lower'</span>: <span style=\"color: #008080; text-decoration-color: #008080; font-weight: bold\">7.68</span>, <span style=\"color: #008000; text-decoration-color: #008000\">'bin_upper'</span>: <span style=\"color: #008080; text-decoration-color: #008080; font-weight: bold\">8.26</span>, <span style=\"color: #008000; text-decoration-color: #008000\">'value'</span>: <span style=\"color: #008080; text-decoration-color: #008080; font-weight: bold\">0.0</span>, <span style=\"color: #008000; text-decoration-color: #008000\">'percentage'</span>: <span style=\"color: #008080; text-decoration-color: #008080; font-weight: bold\">0.0</span><span style=\"font-weight: bold\">}</span>,\n",
       "    <span style=\"font-weight: bold\">{</span><span style=\"color: #008000; text-decoration-color: #008000\">'bin_lower'</span>: <span style=\"color: #008080; text-decoration-color: #008080; font-weight: bold\">8.26</span>, <span style=\"color: #008000; text-decoration-color: #008000\">'bin_upper'</span>: <span style=\"color: #008080; text-decoration-color: #008080; font-weight: bold\">8.84</span>, <span style=\"color: #008000; text-decoration-color: #008000\">'value'</span>: <span style=\"color: #008080; text-decoration-color: #008080; font-weight: bold\">0.0</span>, <span style=\"color: #008000; text-decoration-color: #008000\">'percentage'</span>: <span style=\"color: #008080; text-decoration-color: #008080; font-weight: bold\">0.0</span><span style=\"font-weight: bold\">}</span>,\n",
       "    <span style=\"font-weight: bold\">{</span><span style=\"color: #008000; text-decoration-color: #008000\">'bin_lower'</span>: <span style=\"color: #008080; text-decoration-color: #008080; font-weight: bold\">8.84</span>, <span style=\"color: #008000; text-decoration-color: #008000\">'bin_upper'</span>: <span style=\"color: #008080; text-decoration-color: #008080; font-weight: bold\">9.42</span>, <span style=\"color: #008000; text-decoration-color: #008000\">'value'</span>: <span style=\"color: #008080; text-decoration-color: #008080; font-weight: bold\">1715.0</span>, <span style=\"color: #008000; text-decoration-color: #008000\">'percentage'</span>: <span style=\"color: #008080; text-decoration-color: #008080; font-weight: bold\">0.62</span><span style=\"font-weight: bold\">}</span>,\n",
       "    <span style=\"font-weight: bold\">{</span><span style=\"color: #008000; text-decoration-color: #008000\">'bin_lower'</span>: <span style=\"color: #008080; text-decoration-color: #008080; font-weight: bold\">9.42</span>, <span style=\"color: #008000; text-decoration-color: #008000\">'bin_upper'</span>: <span style=\"color: #008080; text-decoration-color: #008080; font-weight: bold\">10.0</span>, <span style=\"color: #008000; text-decoration-color: #008000\">'value'</span>: <span style=\"color: #008080; text-decoration-color: #008080; font-weight: bold\">927.0</span>, <span style=\"color: #008000; text-decoration-color: #008000\">'percentage'</span>: <span style=\"color: #008080; text-decoration-color: #008080; font-weight: bold\">0.33</span><span style=\"font-weight: bold\">}</span>\n",
       "<span style=\"font-weight: bold\">]</span>\n",
       "</pre>\n"
      ],
      "text/plain": [
       "\u001b[1m[\u001b[0m\n",
       "    \u001b[1m{\u001b[0m\u001b[32m'bin_lower'\u001b[0m: \u001b[1;36m4.2\u001b[0m, \u001b[32m'bin_upper'\u001b[0m: \u001b[1;36m4.78\u001b[0m, \u001b[32m'value'\u001b[0m: \u001b[1;36m17.0\u001b[0m, \u001b[32m'percentage'\u001b[0m: \u001b[1;36m0.01\u001b[0m\u001b[1m}\u001b[0m,\n",
       "    \u001b[1m{\u001b[0m\u001b[32m'bin_lower'\u001b[0m: \u001b[1;36m4.78\u001b[0m, \u001b[32m'bin_upper'\u001b[0m: \u001b[1;36m5.36\u001b[0m, \u001b[32m'value'\u001b[0m: \u001b[1;36m120.0\u001b[0m, \u001b[32m'percentage'\u001b[0m: \u001b[1;36m0.04\u001b[0m\u001b[1m}\u001b[0m,\n",
       "    \u001b[1m{\u001b[0m\u001b[32m'bin_lower'\u001b[0m: \u001b[1;36m5.36\u001b[0m, \u001b[32m'bin_upper'\u001b[0m: \u001b[1;36m5.94\u001b[0m, \u001b[32m'value'\u001b[0m: \u001b[1;36m0.0\u001b[0m, \u001b[32m'percentage'\u001b[0m: \u001b[1;36m0.0\u001b[0m\u001b[1m}\u001b[0m,\n",
       "    \u001b[1m{\u001b[0m\u001b[32m'bin_lower'\u001b[0m: \u001b[1;36m5.94\u001b[0m, \u001b[32m'bin_upper'\u001b[0m: \u001b[1;36m6.52\u001b[0m, \u001b[32m'value'\u001b[0m: \u001b[1;36m0.0\u001b[0m, \u001b[32m'percentage'\u001b[0m: \u001b[1;36m0.0\u001b[0m\u001b[1m}\u001b[0m,\n",
       "    \u001b[1m{\u001b[0m\u001b[32m'bin_lower'\u001b[0m: \u001b[1;36m6.52\u001b[0m, \u001b[32m'bin_upper'\u001b[0m: \u001b[1;36m7.1\u001b[0m, \u001b[32m'value'\u001b[0m: \u001b[1;36m0.0\u001b[0m, \u001b[32m'percentage'\u001b[0m: \u001b[1;36m0.0\u001b[0m\u001b[1m}\u001b[0m,\n",
       "    \u001b[1m{\u001b[0m\u001b[32m'bin_lower'\u001b[0m: \u001b[1;36m7.1\u001b[0m, \u001b[32m'bin_upper'\u001b[0m: \u001b[1;36m7.68\u001b[0m, \u001b[32m'value'\u001b[0m: \u001b[1;36m0.0\u001b[0m, \u001b[32m'percentage'\u001b[0m: \u001b[1;36m0.0\u001b[0m\u001b[1m}\u001b[0m,\n",
       "    \u001b[1m{\u001b[0m\u001b[32m'bin_lower'\u001b[0m: \u001b[1;36m7.68\u001b[0m, \u001b[32m'bin_upper'\u001b[0m: \u001b[1;36m8.26\u001b[0m, \u001b[32m'value'\u001b[0m: \u001b[1;36m0.0\u001b[0m, \u001b[32m'percentage'\u001b[0m: \u001b[1;36m0.0\u001b[0m\u001b[1m}\u001b[0m,\n",
       "    \u001b[1m{\u001b[0m\u001b[32m'bin_lower'\u001b[0m: \u001b[1;36m8.26\u001b[0m, \u001b[32m'bin_upper'\u001b[0m: \u001b[1;36m8.84\u001b[0m, \u001b[32m'value'\u001b[0m: \u001b[1;36m0.0\u001b[0m, \u001b[32m'percentage'\u001b[0m: \u001b[1;36m0.0\u001b[0m\u001b[1m}\u001b[0m,\n",
       "    \u001b[1m{\u001b[0m\u001b[32m'bin_lower'\u001b[0m: \u001b[1;36m8.84\u001b[0m, \u001b[32m'bin_upper'\u001b[0m: \u001b[1;36m9.42\u001b[0m, \u001b[32m'value'\u001b[0m: \u001b[1;36m1715.0\u001b[0m, \u001b[32m'percentage'\u001b[0m: \u001b[1;36m0.62\u001b[0m\u001b[1m}\u001b[0m,\n",
       "    \u001b[1m{\u001b[0m\u001b[32m'bin_lower'\u001b[0m: \u001b[1;36m9.42\u001b[0m, \u001b[32m'bin_upper'\u001b[0m: \u001b[1;36m10.0\u001b[0m, \u001b[32m'value'\u001b[0m: \u001b[1;36m927.0\u001b[0m, \u001b[32m'percentage'\u001b[0m: \u001b[1;36m0.33\u001b[0m\u001b[1m}\u001b[0m\n",
       "\u001b[1m]\u001b[0m\n"
      ]
     },
     "metadata": {},
     "output_type": "display_data"
    }
   ],
   "source": [
    "plot_distributions(positive_df, \"Rate\", 10, \"Positive Rate Dist\")"
   ]
  },
  {
   "cell_type": "code",
   "execution_count": 12,
   "metadata": {},
   "outputs": [
    {
     "data": {
      "image/png": "[encoded data removed]",
      "text/plain": [
       "<Figure size 500x500 with 1 Axes>"
      ]
     },
     "metadata": {},
     "output_type": "display_data"
    },
    {
     "data": {
      "text/html": [
       "<pre style=\"white-space:pre;overflow-x:auto;line-height:normal;font-family:Menlo,'DejaVu Sans Mono',consolas,'Courier New',monospace\"><span style=\"font-weight: bold\">[</span>\n",
       "    <span style=\"font-weight: bold\">{</span><span style=\"color: #008000; text-decoration-color: #008000\">'bin_lower'</span>: <span style=\"color: #008080; text-decoration-color: #008080; font-weight: bold\">1.0</span>, <span style=\"color: #008000; text-decoration-color: #008000\">'bin_upper'</span>: <span style=\"color: #008080; text-decoration-color: #008080; font-weight: bold\">1.4</span>, <span style=\"color: #008000; text-decoration-color: #008000\">'value'</span>: <span style=\"color: #008080; text-decoration-color: #008080; font-weight: bold\">277.0</span>, <span style=\"color: #008000; text-decoration-color: #008000\">'percentage'</span>: <span style=\"color: #008080; text-decoration-color: #008080; font-weight: bold\">0.11</span><span style=\"font-weight: bold\">}</span>,\n",
       "    <span style=\"font-weight: bold\">{</span><span style=\"color: #008000; text-decoration-color: #008000\">'bin_lower'</span>: <span style=\"color: #008080; text-decoration-color: #008080; font-weight: bold\">1.4</span>, <span style=\"color: #008000; text-decoration-color: #008000\">'bin_upper'</span>: <span style=\"color: #008080; text-decoration-color: #008080; font-weight: bold\">1.8</span>, <span style=\"color: #008000; text-decoration-color: #008000\">'value'</span>: <span style=\"color: #008080; text-decoration-color: #008080; font-weight: bold\">49.0</span>, <span style=\"color: #008000; text-decoration-color: #008000\">'percentage'</span>: <span style=\"color: #008080; text-decoration-color: #008080; font-weight: bold\">0.02</span><span style=\"font-weight: bold\">}</span>,\n",
       "    <span style=\"font-weight: bold\">{</span><span style=\"color: #008000; text-decoration-color: #008000\">'bin_lower'</span>: <span style=\"color: #008080; text-decoration-color: #008080; font-weight: bold\">1.8</span>, <span style=\"color: #008000; text-decoration-color: #008000\">'bin_upper'</span>: <span style=\"color: #008080; text-decoration-color: #008080; font-weight: bold\">2.2</span>, <span style=\"color: #008000; text-decoration-color: #008000\">'value'</span>: <span style=\"color: #008080; text-decoration-color: #008080; font-weight: bold\">128.0</span>, <span style=\"color: #008000; text-decoration-color: #008000\">'percentage'</span>: <span style=\"color: #008080; text-decoration-color: #008080; font-weight: bold\">0.05</span><span style=\"font-weight: bold\">}</span>,\n",
       "    <span style=\"font-weight: bold\">{</span><span style=\"color: #008000; text-decoration-color: #008000\">'bin_lower'</span>: <span style=\"color: #008080; text-decoration-color: #008080; font-weight: bold\">2.2</span>, <span style=\"color: #008000; text-decoration-color: #008000\">'bin_upper'</span>: <span style=\"color: #008080; text-decoration-color: #008080; font-weight: bold\">2.6</span>, <span style=\"color: #008000; text-decoration-color: #008000\">'value'</span>: <span style=\"color: #008080; text-decoration-color: #008080; font-weight: bold\">122.0</span>, <span style=\"color: #008000; text-decoration-color: #008000\">'percentage'</span>: <span style=\"color: #008080; text-decoration-color: #008080; font-weight: bold\">0.05</span><span style=\"font-weight: bold\">}</span>,\n",
       "    <span style=\"font-weight: bold\">{</span><span style=\"color: #008000; text-decoration-color: #008000\">'bin_lower'</span>: <span style=\"color: #008080; text-decoration-color: #008080; font-weight: bold\">2.6</span>, <span style=\"color: #008000; text-decoration-color: #008000\">'bin_upper'</span>: <span style=\"color: #008080; text-decoration-color: #008080; font-weight: bold\">3.0</span>, <span style=\"color: #008000; text-decoration-color: #008000\">'value'</span>: <span style=\"color: #008080; text-decoration-color: #008080; font-weight: bold\">193.0</span>, <span style=\"color: #008000; text-decoration-color: #008000\">'percentage'</span>: <span style=\"color: #008080; text-decoration-color: #008080; font-weight: bold\">0.08</span><span style=\"font-weight: bold\">}</span>,\n",
       "    <span style=\"font-weight: bold\">{</span><span style=\"color: #008000; text-decoration-color: #008000\">'bin_lower'</span>: <span style=\"color: #008080; text-decoration-color: #008080; font-weight: bold\">3.0</span>, <span style=\"color: #008000; text-decoration-color: #008000\">'bin_upper'</span>: <span style=\"color: #008080; text-decoration-color: #008080; font-weight: bold\">3.4</span>, <span style=\"color: #008000; text-decoration-color: #008000\">'value'</span>: <span style=\"color: #008080; text-decoration-color: #008080; font-weight: bold\">426.0</span>, <span style=\"color: #008000; text-decoration-color: #008000\">'percentage'</span>: <span style=\"color: #008080; text-decoration-color: #008080; font-weight: bold\">0.18</span><span style=\"font-weight: bold\">}</span>,\n",
       "    <span style=\"font-weight: bold\">{</span><span style=\"color: #008000; text-decoration-color: #008000\">'bin_lower'</span>: <span style=\"color: #008080; text-decoration-color: #008080; font-weight: bold\">3.4</span>, <span style=\"color: #008000; text-decoration-color: #008000\">'bin_upper'</span>: <span style=\"color: #008080; text-decoration-color: #008080; font-weight: bold\">3.8</span>, <span style=\"color: #008000; text-decoration-color: #008000\">'value'</span>: <span style=\"color: #008080; text-decoration-color: #008080; font-weight: bold\">334.0</span>, <span style=\"color: #008000; text-decoration-color: #008000\">'percentage'</span>: <span style=\"color: #008080; text-decoration-color: #008080; font-weight: bold\">0.14</span><span style=\"font-weight: bold\">}</span>,\n",
       "    <span style=\"font-weight: bold\">{</span><span style=\"color: #008000; text-decoration-color: #008000\">'bin_lower'</span>: <span style=\"color: #008080; text-decoration-color: #008080; font-weight: bold\">3.8</span>, <span style=\"color: #008000; text-decoration-color: #008000\">'bin_upper'</span>: <span style=\"color: #008080; text-decoration-color: #008080; font-weight: bold\">4.2</span>, <span style=\"color: #008000; text-decoration-color: #008000\">'value'</span>: <span style=\"color: #008080; text-decoration-color: #008080; font-weight: bold\">236.0</span>, <span style=\"color: #008000; text-decoration-color: #008000\">'percentage'</span>: <span style=\"color: #008080; text-decoration-color: #008080; font-weight: bold\">0.1</span><span style=\"font-weight: bold\">}</span>,\n",
       "    <span style=\"font-weight: bold\">{</span><span style=\"color: #008000; text-decoration-color: #008000\">'bin_lower'</span>: <span style=\"color: #008080; text-decoration-color: #008080; font-weight: bold\">4.2</span>, <span style=\"color: #008000; text-decoration-color: #008000\">'bin_upper'</span>: <span style=\"color: #008080; text-decoration-color: #008080; font-weight: bold\">4.6</span>, <span style=\"color: #008000; text-decoration-color: #008000\">'value'</span>: <span style=\"color: #008080; text-decoration-color: #008080; font-weight: bold\">181.0</span>, <span style=\"color: #008000; text-decoration-color: #008000\">'percentage'</span>: <span style=\"color: #008080; text-decoration-color: #008080; font-weight: bold\">0.07</span><span style=\"font-weight: bold\">}</span>,\n",
       "    <span style=\"font-weight: bold\">{</span><span style=\"color: #008000; text-decoration-color: #008000\">'bin_lower'</span>: <span style=\"color: #008080; text-decoration-color: #008080; font-weight: bold\">4.6</span>, <span style=\"color: #008000; text-decoration-color: #008000\">'bin_upper'</span>: <span style=\"color: #008080; text-decoration-color: #008080; font-weight: bold\">5.0</span>, <span style=\"color: #008000; text-decoration-color: #008000\">'value'</span>: <span style=\"color: #008080; text-decoration-color: #008080; font-weight: bold\">470.0</span>, <span style=\"color: #008000; text-decoration-color: #008000\">'percentage'</span>: <span style=\"color: #008080; text-decoration-color: #008080; font-weight: bold\">0.19</span><span style=\"font-weight: bold\">}</span>\n",
       "<span style=\"font-weight: bold\">]</span>\n",
       "</pre>\n"
      ],
      "text/plain": [
       "\u001b[1m[\u001b[0m\n",
       "    \u001b[1m{\u001b[0m\u001b[32m'bin_lower'\u001b[0m: \u001b[1;36m1.0\u001b[0m, \u001b[32m'bin_upper'\u001b[0m: \u001b[1;36m1.4\u001b[0m, \u001b[32m'value'\u001b[0m: \u001b[1;36m277.0\u001b[0m, \u001b[32m'percentage'\u001b[0m: \u001b[1;36m0.11\u001b[0m\u001b[1m}\u001b[0m,\n",
       "    \u001b[1m{\u001b[0m\u001b[32m'bin_lower'\u001b[0m: \u001b[1;36m1.4\u001b[0m, \u001b[32m'bin_upper'\u001b[0m: \u001b[1;36m1.8\u001b[0m, \u001b[32m'value'\u001b[0m: \u001b[1;36m49.0\u001b[0m, \u001b[32m'percentage'\u001b[0m: \u001b[1;36m0.02\u001b[0m\u001b[1m}\u001b[0m,\n",
       "    \u001b[1m{\u001b[0m\u001b[32m'bin_lower'\u001b[0m: \u001b[1;36m1.8\u001b[0m, \u001b[32m'bin_upper'\u001b[0m: \u001b[1;36m2.2\u001b[0m, \u001b[32m'value'\u001b[0m: \u001b[1;36m128.0\u001b[0m, \u001b[32m'percentage'\u001b[0m: \u001b[1;36m0.05\u001b[0m\u001b[1m}\u001b[0m,\n",
       "    \u001b[1m{\u001b[0m\u001b[32m'bin_lower'\u001b[0m: \u001b[1;36m2.2\u001b[0m, \u001b[32m'bin_upper'\u001b[0m: \u001b[1;36m2.6\u001b[0m, \u001b[32m'value'\u001b[0m: \u001b[1;36m122.0\u001b[0m, \u001b[32m'percentage'\u001b[0m: \u001b[1;36m0.05\u001b[0m\u001b[1m}\u001b[0m,\n",
       "    \u001b[1m{\u001b[0m\u001b[32m'bin_lower'\u001b[0m: \u001b[1;36m2.6\u001b[0m, \u001b[32m'bin_upper'\u001b[0m: \u001b[1;36m3.0\u001b[0m, \u001b[32m'value'\u001b[0m: \u001b[1;36m193.0\u001b[0m, \u001b[32m'percentage'\u001b[0m: \u001b[1;36m0.08\u001b[0m\u001b[1m}\u001b[0m,\n",
       "    \u001b[1m{\u001b[0m\u001b[32m'bin_lower'\u001b[0m: \u001b[1;36m3.0\u001b[0m, \u001b[32m'bin_upper'\u001b[0m: \u001b[1;36m3.4\u001b[0m, \u001b[32m'value'\u001b[0m: \u001b[1;36m426.0\u001b[0m, \u001b[32m'percentage'\u001b[0m: \u001b[1;36m0.18\u001b[0m\u001b[1m}\u001b[0m,\n",
       "    \u001b[1m{\u001b[0m\u001b[32m'bin_lower'\u001b[0m: \u001b[1;36m3.4\u001b[0m, \u001b[32m'bin_upper'\u001b[0m: \u001b[1;36m3.8\u001b[0m, \u001b[32m'value'\u001b[0m: \u001b[1;36m334.0\u001b[0m, \u001b[32m'percentage'\u001b[0m: \u001b[1;36m0.14\u001b[0m\u001b[1m}\u001b[0m,\n",
       "    \u001b[1m{\u001b[0m\u001b[32m'bin_lower'\u001b[0m: \u001b[1;36m3.8\u001b[0m, \u001b[32m'bin_upper'\u001b[0m: \u001b[1;36m4.2\u001b[0m, \u001b[32m'value'\u001b[0m: \u001b[1;36m236.0\u001b[0m, \u001b[32m'percentage'\u001b[0m: \u001b[1;36m0.1\u001b[0m\u001b[1m}\u001b[0m,\n",
       "    \u001b[1m{\u001b[0m\u001b[32m'bin_lower'\u001b[0m: \u001b[1;36m4.2\u001b[0m, \u001b[32m'bin_upper'\u001b[0m: \u001b[1;36m4.6\u001b[0m, \u001b[32m'value'\u001b[0m: \u001b[1;36m181.0\u001b[0m, \u001b[32m'percentage'\u001b[0m: \u001b[1;36m0.07\u001b[0m\u001b[1m}\u001b[0m,\n",
       "    \u001b[1m{\u001b[0m\u001b[32m'bin_lower'\u001b[0m: \u001b[1;36m4.6\u001b[0m, \u001b[32m'bin_upper'\u001b[0m: \u001b[1;36m5.0\u001b[0m, \u001b[32m'value'\u001b[0m: \u001b[1;36m470.0\u001b[0m, \u001b[32m'percentage'\u001b[0m: \u001b[1;36m0.19\u001b[0m\u001b[1m}\u001b[0m\n",
       "\u001b[1m]\u001b[0m\n"
      ]
     },
     "metadata": {},
     "output_type": "display_data"
    }
   ],
   "source": [
    "plot_distributions(negative_df, \"Rate\", 10, \"Negative Rate Dist\")"
   ]
  },
  {
   "cell_type": "code",
   "execution_count": 13,
   "metadata": {},
   "outputs": [
    {
     "data": {
      "image/png": "[encoded data removed]",
      "text/plain": [
       "<Figure size 500x500 with 1 Axes>"
      ]
     },
     "metadata": {},
     "output_type": "display_data"
    },
    {
     "data": {
      "text/html": [
       "<pre style=\"white-space:pre;overflow-x:auto;line-height:normal;font-family:Menlo,'DejaVu Sans Mono',consolas,'Courier New',monospace\"><span style=\"font-weight: bold\">[</span>\n",
       "    <span style=\"font-weight: bold\">{</span><span style=\"color: #008000; text-decoration-color: #008000\">'bin_lower'</span>: <span style=\"color: #008080; text-decoration-color: #008080; font-weight: bold\">0.0</span>, <span style=\"color: #008000; text-decoration-color: #008000\">'bin_upper'</span>: <span style=\"color: #008080; text-decoration-color: #008080; font-weight: bold\">0.5</span>, <span style=\"color: #008000; text-decoration-color: #008000\">'value'</span>: <span style=\"color: #008080; text-decoration-color: #008080; font-weight: bold\">1.0</span>, <span style=\"color: #008000; text-decoration-color: #008000\">'percentage'</span>: <span style=\"color: #008080; text-decoration-color: #008080; font-weight: bold\">0.0</span><span style=\"font-weight: bold\">}</span>,\n",
       "    <span style=\"font-weight: bold\">{</span><span style=\"color: #008000; text-decoration-color: #008000\">'bin_lower'</span>: <span style=\"color: #008080; text-decoration-color: #008080; font-weight: bold\">0.5</span>, <span style=\"color: #008000; text-decoration-color: #008000\">'bin_upper'</span>: <span style=\"color: #008080; text-decoration-color: #008080; font-weight: bold\">1.0</span>, <span style=\"color: #008000; text-decoration-color: #008000\">'value'</span>: <span style=\"color: #008080; text-decoration-color: #008080; font-weight: bold\">0.0</span>, <span style=\"color: #008000; text-decoration-color: #008000\">'percentage'</span>: <span style=\"color: #008080; text-decoration-color: #008080; font-weight: bold\">0.0</span><span style=\"font-weight: bold\">}</span>,\n",
       "    <span style=\"font-weight: bold\">{</span><span style=\"color: #008000; text-decoration-color: #008000\">'bin_lower'</span>: <span style=\"color: #008080; text-decoration-color: #008080; font-weight: bold\">1.0</span>, <span style=\"color: #008000; text-decoration-color: #008000\">'bin_upper'</span>: <span style=\"color: #008080; text-decoration-color: #008080; font-weight: bold\">1.5</span>, <span style=\"color: #008000; text-decoration-color: #008000\">'value'</span>: <span style=\"color: #008080; text-decoration-color: #008080; font-weight: bold\">0.0</span>, <span style=\"color: #008000; text-decoration-color: #008000\">'percentage'</span>: <span style=\"color: #008080; text-decoration-color: #008080; font-weight: bold\">0.0</span><span style=\"font-weight: bold\">}</span>,\n",
       "    <span style=\"font-weight: bold\">{</span><span style=\"color: #008000; text-decoration-color: #008000\">'bin_lower'</span>: <span style=\"color: #008080; text-decoration-color: #008080; font-weight: bold\">1.5</span>, <span style=\"color: #008000; text-decoration-color: #008000\">'bin_upper'</span>: <span style=\"color: #008080; text-decoration-color: #008080; font-weight: bold\">2.0</span>, <span style=\"color: #008000; text-decoration-color: #008000\">'value'</span>: <span style=\"color: #008080; text-decoration-color: #008080; font-weight: bold\">0.0</span>, <span style=\"color: #008000; text-decoration-color: #008000\">'percentage'</span>: <span style=\"color: #008080; text-decoration-color: #008080; font-weight: bold\">0.0</span><span style=\"font-weight: bold\">}</span>,\n",
       "    <span style=\"font-weight: bold\">{</span><span style=\"color: #008000; text-decoration-color: #008000\">'bin_lower'</span>: <span style=\"color: #008080; text-decoration-color: #008080; font-weight: bold\">2.0</span>, <span style=\"color: #008000; text-decoration-color: #008000\">'bin_upper'</span>: <span style=\"color: #008080; text-decoration-color: #008080; font-weight: bold\">2.5</span>, <span style=\"color: #008000; text-decoration-color: #008000\">'value'</span>: <span style=\"color: #008080; text-decoration-color: #008080; font-weight: bold\">0.0</span>, <span style=\"color: #008000; text-decoration-color: #008000\">'percentage'</span>: <span style=\"color: #008080; text-decoration-color: #008080; font-weight: bold\">0.0</span><span style=\"font-weight: bold\">}</span>,\n",
       "    <span style=\"font-weight: bold\">{</span><span style=\"color: #008000; text-decoration-color: #008000\">'bin_lower'</span>: <span style=\"color: #008080; text-decoration-color: #008080; font-weight: bold\">2.5</span>, <span style=\"color: #008000; text-decoration-color: #008000\">'bin_upper'</span>: <span style=\"color: #008080; text-decoration-color: #008080; font-weight: bold\">3.0</span>, <span style=\"color: #008000; text-decoration-color: #008000\">'value'</span>: <span style=\"color: #008080; text-decoration-color: #008080; font-weight: bold\">0.0</span>, <span style=\"color: #008000; text-decoration-color: #008000\">'percentage'</span>: <span style=\"color: #008080; text-decoration-color: #008080; font-weight: bold\">0.0</span><span style=\"font-weight: bold\">}</span>,\n",
       "    <span style=\"font-weight: bold\">{</span><span style=\"color: #008000; text-decoration-color: #008000\">'bin_lower'</span>: <span style=\"color: #008080; text-decoration-color: #008080; font-weight: bold\">3.0</span>, <span style=\"color: #008000; text-decoration-color: #008000\">'bin_upper'</span>: <span style=\"color: #008080; text-decoration-color: #008080; font-weight: bold\">3.5</span>, <span style=\"color: #008000; text-decoration-color: #008000\">'value'</span>: <span style=\"color: #008080; text-decoration-color: #008080; font-weight: bold\">0.0</span>, <span style=\"color: #008000; text-decoration-color: #008000\">'percentage'</span>: <span style=\"color: #008080; text-decoration-color: #008080; font-weight: bold\">0.0</span><span style=\"font-weight: bold\">}</span>,\n",
       "    <span style=\"font-weight: bold\">{</span><span style=\"color: #008000; text-decoration-color: #008000\">'bin_lower'</span>: <span style=\"color: #008080; text-decoration-color: #008080; font-weight: bold\">3.5</span>, <span style=\"color: #008000; text-decoration-color: #008000\">'bin_upper'</span>: <span style=\"color: #008080; text-decoration-color: #008080; font-weight: bold\">4.0</span>, <span style=\"color: #008000; text-decoration-color: #008000\">'value'</span>: <span style=\"color: #008080; text-decoration-color: #008080; font-weight: bold\">0.0</span>, <span style=\"color: #008000; text-decoration-color: #008000\">'percentage'</span>: <span style=\"color: #008080; text-decoration-color: #008080; font-weight: bold\">0.0</span><span style=\"font-weight: bold\">}</span>,\n",
       "    <span style=\"font-weight: bold\">{</span><span style=\"color: #008000; text-decoration-color: #008000\">'bin_lower'</span>: <span style=\"color: #008080; text-decoration-color: #008080; font-weight: bold\">4.0</span>, <span style=\"color: #008000; text-decoration-color: #008000\">'bin_upper'</span>: <span style=\"color: #008080; text-decoration-color: #008080; font-weight: bold\">4.5</span>, <span style=\"color: #008000; text-decoration-color: #008000\">'value'</span>: <span style=\"color: #008080; text-decoration-color: #008080; font-weight: bold\">150.0</span>, <span style=\"color: #008000; text-decoration-color: #008000\">'percentage'</span>: <span style=\"color: #008080; text-decoration-color: #008080; font-weight: bold\">0.21</span><span style=\"font-weight: bold\">}</span>,\n",
       "    <span style=\"font-weight: bold\">{</span><span style=\"color: #008000; text-decoration-color: #008000\">'bin_lower'</span>: <span style=\"color: #008080; text-decoration-color: #008080; font-weight: bold\">4.5</span>, <span style=\"color: #008000; text-decoration-color: #008000\">'bin_upper'</span>: <span style=\"color: #008080; text-decoration-color: #008080; font-weight: bold\">5.0</span>, <span style=\"color: #008000; text-decoration-color: #008000\">'value'</span>: <span style=\"color: #008080; text-decoration-color: #008080; font-weight: bold\">564.0</span>, <span style=\"color: #008000; text-decoration-color: #008000\">'percentage'</span>: <span style=\"color: #008080; text-decoration-color: #008080; font-weight: bold\">0.79</span><span style=\"font-weight: bold\">}</span>\n",
       "<span style=\"font-weight: bold\">]</span>\n",
       "</pre>\n"
      ],
      "text/plain": [
       "\u001b[1m[\u001b[0m\n",
       "    \u001b[1m{\u001b[0m\u001b[32m'bin_lower'\u001b[0m: \u001b[1;36m0.0\u001b[0m, \u001b[32m'bin_upper'\u001b[0m: \u001b[1;36m0.5\u001b[0m, \u001b[32m'value'\u001b[0m: \u001b[1;36m1.0\u001b[0m, \u001b[32m'percentage'\u001b[0m: \u001b[1;36m0.0\u001b[0m\u001b[1m}\u001b[0m,\n",
       "    \u001b[1m{\u001b[0m\u001b[32m'bin_lower'\u001b[0m: \u001b[1;36m0.5\u001b[0m, \u001b[32m'bin_upper'\u001b[0m: \u001b[1;36m1.0\u001b[0m, \u001b[32m'value'\u001b[0m: \u001b[1;36m0.0\u001b[0m, \u001b[32m'percentage'\u001b[0m: \u001b[1;36m0.0\u001b[0m\u001b[1m}\u001b[0m,\n",
       "    \u001b[1m{\u001b[0m\u001b[32m'bin_lower'\u001b[0m: \u001b[1;36m1.0\u001b[0m, \u001b[32m'bin_upper'\u001b[0m: \u001b[1;36m1.5\u001b[0m, \u001b[32m'value'\u001b[0m: \u001b[1;36m0.0\u001b[0m, \u001b[32m'percentage'\u001b[0m: \u001b[1;36m0.0\u001b[0m\u001b[1m}\u001b[0m,\n",
       "    \u001b[1m{\u001b[0m\u001b[32m'bin_lower'\u001b[0m: \u001b[1;36m1.5\u001b[0m, \u001b[32m'bin_upper'\u001b[0m: \u001b[1;36m2.0\u001b[0m, \u001b[32m'value'\u001b[0m: \u001b[1;36m0.0\u001b[0m, \u001b[32m'percentage'\u001b[0m: \u001b[1;36m0.0\u001b[0m\u001b[1m}\u001b[0m,\n",
       "    \u001b[1m{\u001b[0m\u001b[32m'bin_lower'\u001b[0m: \u001b[1;36m2.0\u001b[0m, \u001b[32m'bin_upper'\u001b[0m: \u001b[1;36m2.5\u001b[0m, \u001b[32m'value'\u001b[0m: \u001b[1;36m0.0\u001b[0m, \u001b[32m'percentage'\u001b[0m: \u001b[1;36m0.0\u001b[0m\u001b[1m}\u001b[0m,\n",
       "    \u001b[1m{\u001b[0m\u001b[32m'bin_lower'\u001b[0m: \u001b[1;36m2.5\u001b[0m, \u001b[32m'bin_upper'\u001b[0m: \u001b[1;36m3.0\u001b[0m, \u001b[32m'value'\u001b[0m: \u001b[1;36m0.0\u001b[0m, \u001b[32m'percentage'\u001b[0m: \u001b[1;36m0.0\u001b[0m\u001b[1m}\u001b[0m,\n",
       "    \u001b[1m{\u001b[0m\u001b[32m'bin_lower'\u001b[0m: \u001b[1;36m3.0\u001b[0m, \u001b[32m'bin_upper'\u001b[0m: \u001b[1;36m3.5\u001b[0m, \u001b[32m'value'\u001b[0m: \u001b[1;36m0.0\u001b[0m, \u001b[32m'percentage'\u001b[0m: \u001b[1;36m0.0\u001b[0m\u001b[1m}\u001b[0m,\n",
       "    \u001b[1m{\u001b[0m\u001b[32m'bin_lower'\u001b[0m: \u001b[1;36m3.5\u001b[0m, \u001b[32m'bin_upper'\u001b[0m: \u001b[1;36m4.0\u001b[0m, \u001b[32m'value'\u001b[0m: \u001b[1;36m0.0\u001b[0m, \u001b[32m'percentage'\u001b[0m: \u001b[1;36m0.0\u001b[0m\u001b[1m}\u001b[0m,\n",
       "    \u001b[1m{\u001b[0m\u001b[32m'bin_lower'\u001b[0m: \u001b[1;36m4.0\u001b[0m, \u001b[32m'bin_upper'\u001b[0m: \u001b[1;36m4.5\u001b[0m, \u001b[32m'value'\u001b[0m: \u001b[1;36m150.0\u001b[0m, \u001b[32m'percentage'\u001b[0m: \u001b[1;36m0.21\u001b[0m\u001b[1m}\u001b[0m,\n",
       "    \u001b[1m{\u001b[0m\u001b[32m'bin_lower'\u001b[0m: \u001b[1;36m4.5\u001b[0m, \u001b[32m'bin_upper'\u001b[0m: \u001b[1;36m5.0\u001b[0m, \u001b[32m'value'\u001b[0m: \u001b[1;36m564.0\u001b[0m, \u001b[32m'percentage'\u001b[0m: \u001b[1;36m0.79\u001b[0m\u001b[1m}\u001b[0m\n",
       "\u001b[1m]\u001b[0m\n"
      ]
     },
     "metadata": {},
     "output_type": "display_data"
    }
   ],
   "source": [
    "plot_distributions(neutral_df, \"Rate\", 10, \"Neutral Rate Dist\")"
   ]
  },
  {
   "attachments": {},
   "cell_type": "markdown",
   "metadata": {},
   "source": [
    "From the above, we see that positive and neutral (to a lesser extent) has 2 distinct distributions\n",
    "- `Positive`: There are 137/2779 ratings (5%) congregating around 4 to 5, while the rest of the ratings congregate at high 8's to 10s\n",
    "- `Neutral`: There is 1 rating with a score of 0, while the rest are between 4 to 5.\n",
    "\n",
    "This observation does not happen in `Negative` as it is rather spread out from 1 to 5.\n",
    "Hence, we may wish to remove the lower distributions from `Positive` and `Neutral` later on."
   ]
  },
  {
   "attachments": {},
   "cell_type": "markdown",
   "metadata": {},
   "source": [
    "### Distribution of words\n",
    "Let's check out the review lengths for each dataset"
   ]
  },
  {
   "cell_type": "code",
   "execution_count": 14,
   "metadata": {},
   "outputs": [
    {
     "data": {
      "image/png": "[encoded data removed]",
      "text/plain": [
       "<Figure size 500x500 with 1 Axes>"
      ]
     },
     "metadata": {},
     "output_type": "display_data"
    },
    {
     "data": {
      "text/html": [
       "<pre style=\"white-space:pre;overflow-x:auto;line-height:normal;font-family:Menlo,'DejaVu Sans Mono',consolas,'Courier New',monospace\"><span style=\"font-weight: bold\">[</span>\n",
       "    <span style=\"font-weight: bold\">{</span><span style=\"color: #008000; text-decoration-color: #008000\">'bin_lower'</span>: <span style=\"color: #008080; text-decoration-color: #008080; font-weight: bold\">1.0</span>, <span style=\"color: #008000; text-decoration-color: #008000\">'bin_upper'</span>: <span style=\"color: #008080; text-decoration-color: #008080; font-weight: bold\">98.1</span>, <span style=\"color: #008000; text-decoration-color: #008000\">'value'</span>: <span style=\"color: #008080; text-decoration-color: #008080; font-weight: bold\">2078.0</span>, <span style=\"color: #008000; text-decoration-color: #008000\">'percentage'</span>: <span style=\"color: #008080; text-decoration-color: #008080; font-weight: bold\">0.75</span><span style=\"font-weight: bold\">}</span>,\n",
       "    <span style=\"font-weight: bold\">{</span><span style=\"color: #008000; text-decoration-color: #008000\">'bin_lower'</span>: <span style=\"color: #008080; text-decoration-color: #008080; font-weight: bold\">98.1</span>, <span style=\"color: #008000; text-decoration-color: #008000\">'bin_upper'</span>: <span style=\"color: #008080; text-decoration-color: #008080; font-weight: bold\">195.2</span>, <span style=\"color: #008000; text-decoration-color: #008000\">'value'</span>: <span style=\"color: #008080; text-decoration-color: #008080; font-weight: bold\">553.0</span>, <span style=\"color: #008000; text-decoration-color: #008000\">'percentage'</span>: <span style=\"color: #008080; text-decoration-color: #008080; font-weight: bold\">0.2</span><span style=\"font-weight: bold\">}</span>,\n",
       "    <span style=\"font-weight: bold\">{</span><span style=\"color: #008000; text-decoration-color: #008000\">'bin_lower'</span>: <span style=\"color: #008080; text-decoration-color: #008080; font-weight: bold\">195.2</span>, <span style=\"color: #008000; text-decoration-color: #008000\">'bin_upper'</span>: <span style=\"color: #008080; text-decoration-color: #008080; font-weight: bold\">292.3</span>, <span style=\"color: #008000; text-decoration-color: #008000\">'value'</span>: <span style=\"color: #008080; text-decoration-color: #008080; font-weight: bold\">96.0</span>, <span style=\"color: #008000; text-decoration-color: #008000\">'percentage'</span>: <span style=\"color: #008080; text-decoration-color: #008080; font-weight: bold\">0.03</span><span style=\"font-weight: bold\">}</span>,\n",
       "    <span style=\"font-weight: bold\">{</span><span style=\"color: #008000; text-decoration-color: #008000\">'bin_lower'</span>: <span style=\"color: #008080; text-decoration-color: #008080; font-weight: bold\">292.3</span>, <span style=\"color: #008000; text-decoration-color: #008000\">'bin_upper'</span>: <span style=\"color: #008080; text-decoration-color: #008080; font-weight: bold\">389.4</span>, <span style=\"color: #008000; text-decoration-color: #008000\">'value'</span>: <span style=\"color: #008080; text-decoration-color: #008080; font-weight: bold\">32.0</span>, <span style=\"color: #008000; text-decoration-color: #008000\">'percentage'</span>: <span style=\"color: #008080; text-decoration-color: #008080; font-weight: bold\">0.01</span><span style=\"font-weight: bold\">}</span>,\n",
       "    <span style=\"font-weight: bold\">{</span><span style=\"color: #008000; text-decoration-color: #008000\">'bin_lower'</span>: <span style=\"color: #008080; text-decoration-color: #008080; font-weight: bold\">389.4</span>, <span style=\"color: #008000; text-decoration-color: #008000\">'bin_upper'</span>: <span style=\"color: #008080; text-decoration-color: #008080; font-weight: bold\">486.5</span>, <span style=\"color: #008000; text-decoration-color: #008000\">'value'</span>: <span style=\"color: #008080; text-decoration-color: #008080; font-weight: bold\">11.0</span>, <span style=\"color: #008000; text-decoration-color: #008000\">'percentage'</span>: <span style=\"color: #008080; text-decoration-color: #008080; font-weight: bold\">0.0</span><span style=\"font-weight: bold\">}</span>,\n",
       "    <span style=\"font-weight: bold\">{</span><span style=\"color: #008000; text-decoration-color: #008000\">'bin_lower'</span>: <span style=\"color: #008080; text-decoration-color: #008080; font-weight: bold\">486.5</span>, <span style=\"color: #008000; text-decoration-color: #008000\">'bin_upper'</span>: <span style=\"color: #008080; text-decoration-color: #008080; font-weight: bold\">583.6</span>, <span style=\"color: #008000; text-decoration-color: #008000\">'value'</span>: <span style=\"color: #008080; text-decoration-color: #008080; font-weight: bold\">6.0</span>, <span style=\"color: #008000; text-decoration-color: #008000\">'percentage'</span>: <span style=\"color: #008080; text-decoration-color: #008080; font-weight: bold\">0.0</span><span style=\"font-weight: bold\">}</span>,\n",
       "    <span style=\"font-weight: bold\">{</span><span style=\"color: #008000; text-decoration-color: #008000\">'bin_lower'</span>: <span style=\"color: #008080; text-decoration-color: #008080; font-weight: bold\">583.6</span>, <span style=\"color: #008000; text-decoration-color: #008000\">'bin_upper'</span>: <span style=\"color: #008080; text-decoration-color: #008080; font-weight: bold\">680.7</span>, <span style=\"color: #008000; text-decoration-color: #008000\">'value'</span>: <span style=\"color: #008080; text-decoration-color: #008080; font-weight: bold\">1.0</span>, <span style=\"color: #008000; text-decoration-color: #008000\">'percentage'</span>: <span style=\"color: #008080; text-decoration-color: #008080; font-weight: bold\">0.0</span><span style=\"font-weight: bold\">}</span>,\n",
       "    <span style=\"font-weight: bold\">{</span><span style=\"color: #008000; text-decoration-color: #008000\">'bin_lower'</span>: <span style=\"color: #008080; text-decoration-color: #008080; font-weight: bold\">680.7</span>, <span style=\"color: #008000; text-decoration-color: #008000\">'bin_upper'</span>: <span style=\"color: #008080; text-decoration-color: #008080; font-weight: bold\">777.8</span>, <span style=\"color: #008000; text-decoration-color: #008000\">'value'</span>: <span style=\"color: #008080; text-decoration-color: #008080; font-weight: bold\">0.0</span>, <span style=\"color: #008000; text-decoration-color: #008000\">'percentage'</span>: <span style=\"color: #008080; text-decoration-color: #008080; font-weight: bold\">0.0</span><span style=\"font-weight: bold\">}</span>,\n",
       "    <span style=\"font-weight: bold\">{</span><span style=\"color: #008000; text-decoration-color: #008000\">'bin_lower'</span>: <span style=\"color: #008080; text-decoration-color: #008080; font-weight: bold\">777.8</span>, <span style=\"color: #008000; text-decoration-color: #008000\">'bin_upper'</span>: <span style=\"color: #008080; text-decoration-color: #008080; font-weight: bold\">874.9</span>, <span style=\"color: #008000; text-decoration-color: #008000\">'value'</span>: <span style=\"color: #008080; text-decoration-color: #008080; font-weight: bold\">1.0</span>, <span style=\"color: #008000; text-decoration-color: #008000\">'percentage'</span>: <span style=\"color: #008080; text-decoration-color: #008080; font-weight: bold\">0.0</span><span style=\"font-weight: bold\">}</span>,\n",
       "    <span style=\"font-weight: bold\">{</span><span style=\"color: #008000; text-decoration-color: #008000\">'bin_lower'</span>: <span style=\"color: #008080; text-decoration-color: #008080; font-weight: bold\">874.9</span>, <span style=\"color: #008000; text-decoration-color: #008000\">'bin_upper'</span>: <span style=\"color: #008080; text-decoration-color: #008080; font-weight: bold\">972.0</span>, <span style=\"color: #008000; text-decoration-color: #008000\">'value'</span>: <span style=\"color: #008080; text-decoration-color: #008080; font-weight: bold\">1.0</span>, <span style=\"color: #008000; text-decoration-color: #008000\">'percentage'</span>: <span style=\"color: #008080; text-decoration-color: #008080; font-weight: bold\">0.0</span><span style=\"font-weight: bold\">}</span>\n",
       "<span style=\"font-weight: bold\">]</span>\n",
       "</pre>\n"
      ],
      "text/plain": [
       "\u001b[1m[\u001b[0m\n",
       "    \u001b[1m{\u001b[0m\u001b[32m'bin_lower'\u001b[0m: \u001b[1;36m1.0\u001b[0m, \u001b[32m'bin_upper'\u001b[0m: \u001b[1;36m98.1\u001b[0m, \u001b[32m'value'\u001b[0m: \u001b[1;36m2078.0\u001b[0m, \u001b[32m'percentage'\u001b[0m: \u001b[1;36m0.75\u001b[0m\u001b[1m}\u001b[0m,\n",
       "    \u001b[1m{\u001b[0m\u001b[32m'bin_lower'\u001b[0m: \u001b[1;36m98.1\u001b[0m, \u001b[32m'bin_upper'\u001b[0m: \u001b[1;36m195.2\u001b[0m, \u001b[32m'value'\u001b[0m: \u001b[1;36m553.0\u001b[0m, \u001b[32m'percentage'\u001b[0m: \u001b[1;36m0.2\u001b[0m\u001b[1m}\u001b[0m,\n",
       "    \u001b[1m{\u001b[0m\u001b[32m'bin_lower'\u001b[0m: \u001b[1;36m195.2\u001b[0m, \u001b[32m'bin_upper'\u001b[0m: \u001b[1;36m292.3\u001b[0m, \u001b[32m'value'\u001b[0m: \u001b[1;36m96.0\u001b[0m, \u001b[32m'percentage'\u001b[0m: \u001b[1;36m0.03\u001b[0m\u001b[1m}\u001b[0m,\n",
       "    \u001b[1m{\u001b[0m\u001b[32m'bin_lower'\u001b[0m: \u001b[1;36m292.3\u001b[0m, \u001b[32m'bin_upper'\u001b[0m: \u001b[1;36m389.4\u001b[0m, \u001b[32m'value'\u001b[0m: \u001b[1;36m32.0\u001b[0m, \u001b[32m'percentage'\u001b[0m: \u001b[1;36m0.01\u001b[0m\u001b[1m}\u001b[0m,\n",
       "    \u001b[1m{\u001b[0m\u001b[32m'bin_lower'\u001b[0m: \u001b[1;36m389.4\u001b[0m, \u001b[32m'bin_upper'\u001b[0m: \u001b[1;36m486.5\u001b[0m, \u001b[32m'value'\u001b[0m: \u001b[1;36m11.0\u001b[0m, \u001b[32m'percentage'\u001b[0m: \u001b[1;36m0.0\u001b[0m\u001b[1m}\u001b[0m,\n",
       "    \u001b[1m{\u001b[0m\u001b[32m'bin_lower'\u001b[0m: \u001b[1;36m486.5\u001b[0m, \u001b[32m'bin_upper'\u001b[0m: \u001b[1;36m583.6\u001b[0m, \u001b[32m'value'\u001b[0m: \u001b[1;36m6.0\u001b[0m, \u001b[32m'percentage'\u001b[0m: \u001b[1;36m0.0\u001b[0m\u001b[1m}\u001b[0m,\n",
       "    \u001b[1m{\u001b[0m\u001b[32m'bin_lower'\u001b[0m: \u001b[1;36m583.6\u001b[0m, \u001b[32m'bin_upper'\u001b[0m: \u001b[1;36m680.7\u001b[0m, \u001b[32m'value'\u001b[0m: \u001b[1;36m1.0\u001b[0m, \u001b[32m'percentage'\u001b[0m: \u001b[1;36m0.0\u001b[0m\u001b[1m}\u001b[0m,\n",
       "    \u001b[1m{\u001b[0m\u001b[32m'bin_lower'\u001b[0m: \u001b[1;36m680.7\u001b[0m, \u001b[32m'bin_upper'\u001b[0m: \u001b[1;36m777.8\u001b[0m, \u001b[32m'value'\u001b[0m: \u001b[1;36m0.0\u001b[0m, \u001b[32m'percentage'\u001b[0m: \u001b[1;36m0.0\u001b[0m\u001b[1m}\u001b[0m,\n",
       "    \u001b[1m{\u001b[0m\u001b[32m'bin_lower'\u001b[0m: \u001b[1;36m777.8\u001b[0m, \u001b[32m'bin_upper'\u001b[0m: \u001b[1;36m874.9\u001b[0m, \u001b[32m'value'\u001b[0m: \u001b[1;36m1.0\u001b[0m, \u001b[32m'percentage'\u001b[0m: \u001b[1;36m0.0\u001b[0m\u001b[1m}\u001b[0m,\n",
       "    \u001b[1m{\u001b[0m\u001b[32m'bin_lower'\u001b[0m: \u001b[1;36m874.9\u001b[0m, \u001b[32m'bin_upper'\u001b[0m: \u001b[1;36m972.0\u001b[0m, \u001b[32m'value'\u001b[0m: \u001b[1;36m1.0\u001b[0m, \u001b[32m'percentage'\u001b[0m: \u001b[1;36m0.0\u001b[0m\u001b[1m}\u001b[0m\n",
       "\u001b[1m]\u001b[0m\n"
      ]
     },
     "metadata": {},
     "output_type": "display_data"
    },
    {
     "data": {
      "image/png": "[encoded data removed]",
      "text/plain": [
       "<Figure size 500x500 with 1 Axes>"
      ]
     },
     "metadata": {},
     "output_type": "display_data"
    },
    {
     "data": {
      "text/html": [
       "<pre style=\"white-space:pre;overflow-x:auto;line-height:normal;font-family:Menlo,'DejaVu Sans Mono',consolas,'Courier New',monospace\"><span style=\"font-weight: bold\">[</span>\n",
       "    <span style=\"font-weight: bold\">{</span><span style=\"color: #008000; text-decoration-color: #008000\">'bin_lower'</span>: <span style=\"color: #008080; text-decoration-color: #008080; font-weight: bold\">1.0</span>, <span style=\"color: #008000; text-decoration-color: #008000\">'bin_upper'</span>: <span style=\"color: #008080; text-decoration-color: #008080; font-weight: bold\">93.7</span>, <span style=\"color: #008000; text-decoration-color: #008000\">'value'</span>: <span style=\"color: #008080; text-decoration-color: #008080; font-weight: bold\">1562.0</span>, <span style=\"color: #008000; text-decoration-color: #008000\">'percentage'</span>: <span style=\"color: #008080; text-decoration-color: #008080; font-weight: bold\">0.65</span><span style=\"font-weight: bold\">}</span>,\n",
       "    <span style=\"font-weight: bold\">{</span><span style=\"color: #008000; text-decoration-color: #008000\">'bin_lower'</span>: <span style=\"color: #008080; text-decoration-color: #008080; font-weight: bold\">93.7</span>, <span style=\"color: #008000; text-decoration-color: #008000\">'bin_upper'</span>: <span style=\"color: #008080; text-decoration-color: #008080; font-weight: bold\">186.4</span>, <span style=\"color: #008000; text-decoration-color: #008000\">'value'</span>: <span style=\"color: #008080; text-decoration-color: #008080; font-weight: bold\">568.0</span>, <span style=\"color: #008000; text-decoration-color: #008000\">'percentage'</span>: <span style=\"color: #008080; text-decoration-color: #008080; font-weight: bold\">0.24</span><span style=\"font-weight: bold\">}</span>,\n",
       "    <span style=\"font-weight: bold\">{</span><span style=\"color: #008000; text-decoration-color: #008000\">'bin_lower'</span>: <span style=\"color: #008080; text-decoration-color: #008080; font-weight: bold\">186.4</span>, <span style=\"color: #008000; text-decoration-color: #008000\">'bin_upper'</span>: <span style=\"color: #008080; text-decoration-color: #008080; font-weight: bold\">279.1</span>, <span style=\"color: #008000; text-decoration-color: #008000\">'value'</span>: <span style=\"color: #008080; text-decoration-color: #008080; font-weight: bold\">175.0</span>, <span style=\"color: #008000; text-decoration-color: #008000\">'percentage'</span>: <span style=\"color: #008080; text-decoration-color: #008080; font-weight: bold\">0.07</span><span style=\"font-weight: bold\">}</span>,\n",
       "    <span style=\"font-weight: bold\">{</span><span style=\"color: #008000; text-decoration-color: #008000\">'bin_lower'</span>: <span style=\"color: #008080; text-decoration-color: #008080; font-weight: bold\">279.1</span>, <span style=\"color: #008000; text-decoration-color: #008000\">'bin_upper'</span>: <span style=\"color: #008080; text-decoration-color: #008080; font-weight: bold\">371.8</span>, <span style=\"color: #008000; text-decoration-color: #008000\">'value'</span>: <span style=\"color: #008080; text-decoration-color: #008080; font-weight: bold\">67.0</span>, <span style=\"color: #008000; text-decoration-color: #008000\">'percentage'</span>: <span style=\"color: #008080; text-decoration-color: #008080; font-weight: bold\">0.03</span><span style=\"font-weight: bold\">}</span>,\n",
       "    <span style=\"font-weight: bold\">{</span><span style=\"color: #008000; text-decoration-color: #008000\">'bin_lower'</span>: <span style=\"color: #008080; text-decoration-color: #008080; font-weight: bold\">371.8</span>, <span style=\"color: #008000; text-decoration-color: #008000\">'bin_upper'</span>: <span style=\"color: #008080; text-decoration-color: #008080; font-weight: bold\">464.5</span>, <span style=\"color: #008000; text-decoration-color: #008000\">'value'</span>: <span style=\"color: #008080; text-decoration-color: #008080; font-weight: bold\">22.0</span>, <span style=\"color: #008000; text-decoration-color: #008000\">'percentage'</span>: <span style=\"color: #008080; text-decoration-color: #008080; font-weight: bold\">0.01</span><span style=\"font-weight: bold\">}</span>,\n",
       "    <span style=\"font-weight: bold\">{</span><span style=\"color: #008000; text-decoration-color: #008000\">'bin_lower'</span>: <span style=\"color: #008080; text-decoration-color: #008080; font-weight: bold\">464.5</span>, <span style=\"color: #008000; text-decoration-color: #008000\">'bin_upper'</span>: <span style=\"color: #008080; text-decoration-color: #008080; font-weight: bold\">557.2</span>, <span style=\"color: #008000; text-decoration-color: #008000\">'value'</span>: <span style=\"color: #008080; text-decoration-color: #008080; font-weight: bold\">12.0</span>, <span style=\"color: #008000; text-decoration-color: #008000\">'percentage'</span>: <span style=\"color: #008080; text-decoration-color: #008080; font-weight: bold\">0.0</span><span style=\"font-weight: bold\">}</span>,\n",
       "    <span style=\"font-weight: bold\">{</span><span style=\"color: #008000; text-decoration-color: #008000\">'bin_lower'</span>: <span style=\"color: #008080; text-decoration-color: #008080; font-weight: bold\">557.2</span>, <span style=\"color: #008000; text-decoration-color: #008000\">'bin_upper'</span>: <span style=\"color: #008080; text-decoration-color: #008080; font-weight: bold\">649.9</span>, <span style=\"color: #008000; text-decoration-color: #008000\">'value'</span>: <span style=\"color: #008080; text-decoration-color: #008080; font-weight: bold\">7.0</span>, <span style=\"color: #008000; text-decoration-color: #008000\">'percentage'</span>: <span style=\"color: #008080; text-decoration-color: #008080; font-weight: bold\">0.0</span><span style=\"font-weight: bold\">}</span>,\n",
       "    <span style=\"font-weight: bold\">{</span><span style=\"color: #008000; text-decoration-color: #008000\">'bin_lower'</span>: <span style=\"color: #008080; text-decoration-color: #008080; font-weight: bold\">649.9</span>, <span style=\"color: #008000; text-decoration-color: #008000\">'bin_upper'</span>: <span style=\"color: #008080; text-decoration-color: #008080; font-weight: bold\">742.6</span>, <span style=\"color: #008000; text-decoration-color: #008000\">'value'</span>: <span style=\"color: #008080; text-decoration-color: #008080; font-weight: bold\">0.0</span>, <span style=\"color: #008000; text-decoration-color: #008000\">'percentage'</span>: <span style=\"color: #008080; text-decoration-color: #008080; font-weight: bold\">0.0</span><span style=\"font-weight: bold\">}</span>,\n",
       "    <span style=\"font-weight: bold\">{</span><span style=\"color: #008000; text-decoration-color: #008000\">'bin_lower'</span>: <span style=\"color: #008080; text-decoration-color: #008080; font-weight: bold\">742.6</span>, <span style=\"color: #008000; text-decoration-color: #008000\">'bin_upper'</span>: <span style=\"color: #008080; text-decoration-color: #008080; font-weight: bold\">835.3</span>, <span style=\"color: #008000; text-decoration-color: #008000\">'value'</span>: <span style=\"color: #008080; text-decoration-color: #008080; font-weight: bold\">1.0</span>, <span style=\"color: #008000; text-decoration-color: #008000\">'percentage'</span>: <span style=\"color: #008080; text-decoration-color: #008080; font-weight: bold\">0.0</span><span style=\"font-weight: bold\">}</span>,\n",
       "    <span style=\"font-weight: bold\">{</span><span style=\"color: #008000; text-decoration-color: #008000\">'bin_lower'</span>: <span style=\"color: #008080; text-decoration-color: #008080; font-weight: bold\">835.3</span>, <span style=\"color: #008000; text-decoration-color: #008000\">'bin_upper'</span>: <span style=\"color: #008080; text-decoration-color: #008080; font-weight: bold\">928.0</span>, <span style=\"color: #008000; text-decoration-color: #008000\">'value'</span>: <span style=\"color: #008080; text-decoration-color: #008080; font-weight: bold\">2.0</span>, <span style=\"color: #008000; text-decoration-color: #008000\">'percentage'</span>: <span style=\"color: #008080; text-decoration-color: #008080; font-weight: bold\">0.0</span><span style=\"font-weight: bold\">}</span>\n",
       "<span style=\"font-weight: bold\">]</span>\n",
       "</pre>\n"
      ],
      "text/plain": [
       "\u001b[1m[\u001b[0m\n",
       "    \u001b[1m{\u001b[0m\u001b[32m'bin_lower'\u001b[0m: \u001b[1;36m1.0\u001b[0m, \u001b[32m'bin_upper'\u001b[0m: \u001b[1;36m93.7\u001b[0m, \u001b[32m'value'\u001b[0m: \u001b[1;36m1562.0\u001b[0m, \u001b[32m'percentage'\u001b[0m: \u001b[1;36m0.65\u001b[0m\u001b[1m}\u001b[0m,\n",
       "    \u001b[1m{\u001b[0m\u001b[32m'bin_lower'\u001b[0m: \u001b[1;36m93.7\u001b[0m, \u001b[32m'bin_upper'\u001b[0m: \u001b[1;36m186.4\u001b[0m, \u001b[32m'value'\u001b[0m: \u001b[1;36m568.0\u001b[0m, \u001b[32m'percentage'\u001b[0m: \u001b[1;36m0.24\u001b[0m\u001b[1m}\u001b[0m,\n",
       "    \u001b[1m{\u001b[0m\u001b[32m'bin_lower'\u001b[0m: \u001b[1;36m186.4\u001b[0m, \u001b[32m'bin_upper'\u001b[0m: \u001b[1;36m279.1\u001b[0m, \u001b[32m'value'\u001b[0m: \u001b[1;36m175.0\u001b[0m, \u001b[32m'percentage'\u001b[0m: \u001b[1;36m0.07\u001b[0m\u001b[1m}\u001b[0m,\n",
       "    \u001b[1m{\u001b[0m\u001b[32m'bin_lower'\u001b[0m: \u001b[1;36m279.1\u001b[0m, \u001b[32m'bin_upper'\u001b[0m: \u001b[1;36m371.8\u001b[0m, \u001b[32m'value'\u001b[0m: \u001b[1;36m67.0\u001b[0m, \u001b[32m'percentage'\u001b[0m: \u001b[1;36m0.03\u001b[0m\u001b[1m}\u001b[0m,\n",
       "    \u001b[1m{\u001b[0m\u001b[32m'bin_lower'\u001b[0m: \u001b[1;36m371.8\u001b[0m, \u001b[32m'bin_upper'\u001b[0m: \u001b[1;36m464.5\u001b[0m, \u001b[32m'value'\u001b[0m: \u001b[1;36m22.0\u001b[0m, \u001b[32m'percentage'\u001b[0m: \u001b[1;36m0.01\u001b[0m\u001b[1m}\u001b[0m,\n",
       "    \u001b[1m{\u001b[0m\u001b[32m'bin_lower'\u001b[0m: \u001b[1;36m464.5\u001b[0m, \u001b[32m'bin_upper'\u001b[0m: \u001b[1;36m557.2\u001b[0m, \u001b[32m'value'\u001b[0m: \u001b[1;36m12.0\u001b[0m, \u001b[32m'percentage'\u001b[0m: \u001b[1;36m0.0\u001b[0m\u001b[1m}\u001b[0m,\n",
       "    \u001b[1m{\u001b[0m\u001b[32m'bin_lower'\u001b[0m: \u001b[1;36m557.2\u001b[0m, \u001b[32m'bin_upper'\u001b[0m: \u001b[1;36m649.9\u001b[0m, \u001b[32m'value'\u001b[0m: \u001b[1;36m7.0\u001b[0m, \u001b[32m'percentage'\u001b[0m: \u001b[1;36m0.0\u001b[0m\u001b[1m}\u001b[0m,\n",
       "    \u001b[1m{\u001b[0m\u001b[32m'bin_lower'\u001b[0m: \u001b[1;36m649.9\u001b[0m, \u001b[32m'bin_upper'\u001b[0m: \u001b[1;36m742.6\u001b[0m, \u001b[32m'value'\u001b[0m: \u001b[1;36m0.0\u001b[0m, \u001b[32m'percentage'\u001b[0m: \u001b[1;36m0.0\u001b[0m\u001b[1m}\u001b[0m,\n",
       "    \u001b[1m{\u001b[0m\u001b[32m'bin_lower'\u001b[0m: \u001b[1;36m742.6\u001b[0m, \u001b[32m'bin_upper'\u001b[0m: \u001b[1;36m835.3\u001b[0m, \u001b[32m'value'\u001b[0m: \u001b[1;36m1.0\u001b[0m, \u001b[32m'percentage'\u001b[0m: \u001b[1;36m0.0\u001b[0m\u001b[1m}\u001b[0m,\n",
       "    \u001b[1m{\u001b[0m\u001b[32m'bin_lower'\u001b[0m: \u001b[1;36m835.3\u001b[0m, \u001b[32m'bin_upper'\u001b[0m: \u001b[1;36m928.0\u001b[0m, \u001b[32m'value'\u001b[0m: \u001b[1;36m2.0\u001b[0m, \u001b[32m'percentage'\u001b[0m: \u001b[1;36m0.0\u001b[0m\u001b[1m}\u001b[0m\n",
       "\u001b[1m]\u001b[0m\n"
      ]
     },
     "metadata": {},
     "output_type": "display_data"
    },
    {
     "data": {
      "image/png": "[encoded data removed]",
      "text/plain": [
       "<Figure size 500x500 with 1 Axes>"
      ]
     },
     "metadata": {},
     "output_type": "display_data"
    },
    {
     "data": {
      "text/html": [
       "<pre style=\"white-space:pre;overflow-x:auto;line-height:normal;font-family:Menlo,'DejaVu Sans Mono',consolas,'Courier New',monospace\"><span style=\"font-weight: bold\">[</span>\n",
       "    <span style=\"font-weight: bold\">{</span><span style=\"color: #008000; text-decoration-color: #008000\">'bin_lower'</span>: <span style=\"color: #008080; text-decoration-color: #008080; font-weight: bold\">1.0</span>, <span style=\"color: #008000; text-decoration-color: #008000\">'bin_upper'</span>: <span style=\"color: #008080; text-decoration-color: #008080; font-weight: bold\">105.5</span>, <span style=\"color: #008000; text-decoration-color: #008000\">'value'</span>: <span style=\"color: #008080; text-decoration-color: #008080; font-weight: bold\">596.0</span>, <span style=\"color: #008000; text-decoration-color: #008000\">'percentage'</span>: <span style=\"color: #008080; text-decoration-color: #008080; font-weight: bold\">0.83</span><span style=\"font-weight: bold\">}</span>,\n",
       "    <span style=\"font-weight: bold\">{</span><span style=\"color: #008000; text-decoration-color: #008000\">'bin_lower'</span>: <span style=\"color: #008080; text-decoration-color: #008080; font-weight: bold\">105.5</span>, <span style=\"color: #008000; text-decoration-color: #008000\">'bin_upper'</span>: <span style=\"color: #008080; text-decoration-color: #008080; font-weight: bold\">210.0</span>, <span style=\"color: #008000; text-decoration-color: #008000\">'value'</span>: <span style=\"color: #008080; text-decoration-color: #008080; font-weight: bold\">96.0</span>, <span style=\"color: #008000; text-decoration-color: #008000\">'percentage'</span>: <span style=\"color: #008080; text-decoration-color: #008080; font-weight: bold\">0.13</span><span style=\"font-weight: bold\">}</span>,\n",
       "    <span style=\"font-weight: bold\">{</span><span style=\"color: #008000; text-decoration-color: #008000\">'bin_lower'</span>: <span style=\"color: #008080; text-decoration-color: #008080; font-weight: bold\">210.0</span>, <span style=\"color: #008000; text-decoration-color: #008000\">'bin_upper'</span>: <span style=\"color: #008080; text-decoration-color: #008080; font-weight: bold\">314.5</span>, <span style=\"color: #008000; text-decoration-color: #008000\">'value'</span>: <span style=\"color: #008080; text-decoration-color: #008080; font-weight: bold\">14.0</span>, <span style=\"color: #008000; text-decoration-color: #008000\">'percentage'</span>: <span style=\"color: #008080; text-decoration-color: #008080; font-weight: bold\">0.02</span><span style=\"font-weight: bold\">}</span>,\n",
       "    <span style=\"font-weight: bold\">{</span><span style=\"color: #008000; text-decoration-color: #008000\">'bin_lower'</span>: <span style=\"color: #008080; text-decoration-color: #008080; font-weight: bold\">314.5</span>, <span style=\"color: #008000; text-decoration-color: #008000\">'bin_upper'</span>: <span style=\"color: #008080; text-decoration-color: #008080; font-weight: bold\">419.0</span>, <span style=\"color: #008000; text-decoration-color: #008000\">'value'</span>: <span style=\"color: #008080; text-decoration-color: #008080; font-weight: bold\">6.0</span>, <span style=\"color: #008000; text-decoration-color: #008000\">'percentage'</span>: <span style=\"color: #008080; text-decoration-color: #008080; font-weight: bold\">0.01</span><span style=\"font-weight: bold\">}</span>,\n",
       "    <span style=\"font-weight: bold\">{</span><span style=\"color: #008000; text-decoration-color: #008000\">'bin_lower'</span>: <span style=\"color: #008080; text-decoration-color: #008080; font-weight: bold\">419.0</span>, <span style=\"color: #008000; text-decoration-color: #008000\">'bin_upper'</span>: <span style=\"color: #008080; text-decoration-color: #008080; font-weight: bold\">523.5</span>, <span style=\"color: #008000; text-decoration-color: #008000\">'value'</span>: <span style=\"color: #008080; text-decoration-color: #008080; font-weight: bold\">0.0</span>, <span style=\"color: #008000; text-decoration-color: #008000\">'percentage'</span>: <span style=\"color: #008080; text-decoration-color: #008080; font-weight: bold\">0.0</span><span style=\"font-weight: bold\">}</span>,\n",
       "    <span style=\"font-weight: bold\">{</span><span style=\"color: #008000; text-decoration-color: #008000\">'bin_lower'</span>: <span style=\"color: #008080; text-decoration-color: #008080; font-weight: bold\">523.5</span>, <span style=\"color: #008000; text-decoration-color: #008000\">'bin_upper'</span>: <span style=\"color: #008080; text-decoration-color: #008080; font-weight: bold\">628.0</span>, <span style=\"color: #008000; text-decoration-color: #008000\">'value'</span>: <span style=\"color: #008080; text-decoration-color: #008080; font-weight: bold\">1.0</span>, <span style=\"color: #008000; text-decoration-color: #008000\">'percentage'</span>: <span style=\"color: #008080; text-decoration-color: #008080; font-weight: bold\">0.0</span><span style=\"font-weight: bold\">}</span>,\n",
       "    <span style=\"font-weight: bold\">{</span><span style=\"color: #008000; text-decoration-color: #008000\">'bin_lower'</span>: <span style=\"color: #008080; text-decoration-color: #008080; font-weight: bold\">628.0</span>, <span style=\"color: #008000; text-decoration-color: #008000\">'bin_upper'</span>: <span style=\"color: #008080; text-decoration-color: #008080; font-weight: bold\">732.5</span>, <span style=\"color: #008000; text-decoration-color: #008000\">'value'</span>: <span style=\"color: #008080; text-decoration-color: #008080; font-weight: bold\">1.0</span>, <span style=\"color: #008000; text-decoration-color: #008000\">'percentage'</span>: <span style=\"color: #008080; text-decoration-color: #008080; font-weight: bold\">0.0</span><span style=\"font-weight: bold\">}</span>,\n",
       "    <span style=\"font-weight: bold\">{</span><span style=\"color: #008000; text-decoration-color: #008000\">'bin_lower'</span>: <span style=\"color: #008080; text-decoration-color: #008080; font-weight: bold\">732.5</span>, <span style=\"color: #008000; text-decoration-color: #008000\">'bin_upper'</span>: <span style=\"color: #008080; text-decoration-color: #008080; font-weight: bold\">837.0</span>, <span style=\"color: #008000; text-decoration-color: #008000\">'value'</span>: <span style=\"color: #008080; text-decoration-color: #008080; font-weight: bold\">0.0</span>, <span style=\"color: #008000; text-decoration-color: #008000\">'percentage'</span>: <span style=\"color: #008080; text-decoration-color: #008080; font-weight: bold\">0.0</span><span style=\"font-weight: bold\">}</span>,\n",
       "    <span style=\"font-weight: bold\">{</span><span style=\"color: #008000; text-decoration-color: #008000\">'bin_lower'</span>: <span style=\"color: #008080; text-decoration-color: #008080; font-weight: bold\">837.0</span>, <span style=\"color: #008000; text-decoration-color: #008000\">'bin_upper'</span>: <span style=\"color: #008080; text-decoration-color: #008080; font-weight: bold\">941.5</span>, <span style=\"color: #008000; text-decoration-color: #008000\">'value'</span>: <span style=\"color: #008080; text-decoration-color: #008080; font-weight: bold\">0.0</span>, <span style=\"color: #008000; text-decoration-color: #008000\">'percentage'</span>: <span style=\"color: #008080; text-decoration-color: #008080; font-weight: bold\">0.0</span><span style=\"font-weight: bold\">}</span>,\n",
       "    <span style=\"font-weight: bold\">{</span><span style=\"color: #008000; text-decoration-color: #008000\">'bin_lower'</span>: <span style=\"color: #008080; text-decoration-color: #008080; font-weight: bold\">941.5</span>, <span style=\"color: #008000; text-decoration-color: #008000\">'bin_upper'</span>: <span style=\"color: #008080; text-decoration-color: #008080; font-weight: bold\">1046.0</span>, <span style=\"color: #008000; text-decoration-color: #008000\">'value'</span>: <span style=\"color: #008080; text-decoration-color: #008080; font-weight: bold\">1.0</span>, <span style=\"color: #008000; text-decoration-color: #008000\">'percentage'</span>: <span style=\"color: #008080; text-decoration-color: #008080; font-weight: bold\">0.0</span><span style=\"font-weight: bold\">}</span>\n",
       "<span style=\"font-weight: bold\">]</span>\n",
       "</pre>\n"
      ],
      "text/plain": [
       "\u001b[1m[\u001b[0m\n",
       "    \u001b[1m{\u001b[0m\u001b[32m'bin_lower'\u001b[0m: \u001b[1;36m1.0\u001b[0m, \u001b[32m'bin_upper'\u001b[0m: \u001b[1;36m105.5\u001b[0m, \u001b[32m'value'\u001b[0m: \u001b[1;36m596.0\u001b[0m, \u001b[32m'percentage'\u001b[0m: \u001b[1;36m0.83\u001b[0m\u001b[1m}\u001b[0m,\n",
       "    \u001b[1m{\u001b[0m\u001b[32m'bin_lower'\u001b[0m: \u001b[1;36m105.5\u001b[0m, \u001b[32m'bin_upper'\u001b[0m: \u001b[1;36m210.0\u001b[0m, \u001b[32m'value'\u001b[0m: \u001b[1;36m96.0\u001b[0m, \u001b[32m'percentage'\u001b[0m: \u001b[1;36m0.13\u001b[0m\u001b[1m}\u001b[0m,\n",
       "    \u001b[1m{\u001b[0m\u001b[32m'bin_lower'\u001b[0m: \u001b[1;36m210.0\u001b[0m, \u001b[32m'bin_upper'\u001b[0m: \u001b[1;36m314.5\u001b[0m, \u001b[32m'value'\u001b[0m: \u001b[1;36m14.0\u001b[0m, \u001b[32m'percentage'\u001b[0m: \u001b[1;36m0.02\u001b[0m\u001b[1m}\u001b[0m,\n",
       "    \u001b[1m{\u001b[0m\u001b[32m'bin_lower'\u001b[0m: \u001b[1;36m314.5\u001b[0m, \u001b[32m'bin_upper'\u001b[0m: \u001b[1;36m419.0\u001b[0m, \u001b[32m'value'\u001b[0m: \u001b[1;36m6.0\u001b[0m, \u001b[32m'percentage'\u001b[0m: \u001b[1;36m0.01\u001b[0m\u001b[1m}\u001b[0m,\n",
       "    \u001b[1m{\u001b[0m\u001b[32m'bin_lower'\u001b[0m: \u001b[1;36m419.0\u001b[0m, \u001b[32m'bin_upper'\u001b[0m: \u001b[1;36m523.5\u001b[0m, \u001b[32m'value'\u001b[0m: \u001b[1;36m0.0\u001b[0m, \u001b[32m'percentage'\u001b[0m: \u001b[1;36m0.0\u001b[0m\u001b[1m}\u001b[0m,\n",
       "    \u001b[1m{\u001b[0m\u001b[32m'bin_lower'\u001b[0m: \u001b[1;36m523.5\u001b[0m, \u001b[32m'bin_upper'\u001b[0m: \u001b[1;36m628.0\u001b[0m, \u001b[32m'value'\u001b[0m: \u001b[1;36m1.0\u001b[0m, \u001b[32m'percentage'\u001b[0m: \u001b[1;36m0.0\u001b[0m\u001b[1m}\u001b[0m,\n",
       "    \u001b[1m{\u001b[0m\u001b[32m'bin_lower'\u001b[0m: \u001b[1;36m628.0\u001b[0m, \u001b[32m'bin_upper'\u001b[0m: \u001b[1;36m732.5\u001b[0m, \u001b[32m'value'\u001b[0m: \u001b[1;36m1.0\u001b[0m, \u001b[32m'percentage'\u001b[0m: \u001b[1;36m0.0\u001b[0m\u001b[1m}\u001b[0m,\n",
       "    \u001b[1m{\u001b[0m\u001b[32m'bin_lower'\u001b[0m: \u001b[1;36m732.5\u001b[0m, \u001b[32m'bin_upper'\u001b[0m: \u001b[1;36m837.0\u001b[0m, \u001b[32m'value'\u001b[0m: \u001b[1;36m0.0\u001b[0m, \u001b[32m'percentage'\u001b[0m: \u001b[1;36m0.0\u001b[0m\u001b[1m}\u001b[0m,\n",
       "    \u001b[1m{\u001b[0m\u001b[32m'bin_lower'\u001b[0m: \u001b[1;36m837.0\u001b[0m, \u001b[32m'bin_upper'\u001b[0m: \u001b[1;36m941.5\u001b[0m, \u001b[32m'value'\u001b[0m: \u001b[1;36m0.0\u001b[0m, \u001b[32m'percentage'\u001b[0m: \u001b[1;36m0.0\u001b[0m\u001b[1m}\u001b[0m,\n",
       "    \u001b[1m{\u001b[0m\u001b[32m'bin_lower'\u001b[0m: \u001b[1;36m941.5\u001b[0m, \u001b[32m'bin_upper'\u001b[0m: \u001b[1;36m1046.0\u001b[0m, \u001b[32m'value'\u001b[0m: \u001b[1;36m1.0\u001b[0m, \u001b[32m'percentage'\u001b[0m: \u001b[1;36m0.0\u001b[0m\u001b[1m}\u001b[0m\n",
       "\u001b[1m]\u001b[0m\n"
      ]
     },
     "metadata": {},
     "output_type": "display_data"
    }
   ],
   "source": [
    "plot_distributions(positive_df, \"word_count\", 10, \"Positive Word Dist\")\n",
    "plot_distributions(negative_df, \"word_count\", 10, \"Negative Word Dist\")\n",
    "plot_distributions(neutral_df, \"word_count\", 10, \"Neutral Word Dist\")"
   ]
  },
  {
   "attachments": {},
   "cell_type": "markdown",
   "metadata": {},
   "source": [
    "From the above distributions, we see most reviews having less than 100 words. Hence, we may want to ignore reviews that are too long or too short (outliers) as it may introduce noise into the model."
   ]
  },
  {
   "attachments": {},
   "cell_type": "markdown",
   "metadata": {},
   "source": [
    "### Looking at the texts\n",
    "While looking through the dataset, some examples had a mix of English and Vietnamese, and a very few minority of reviews were in English. Some examples are shown below"
   ]
  },
  {
   "cell_type": "code",
   "execution_count": 15,
   "metadata": {},
   "outputs": [
    {
     "data": {
      "text/html": [
       "<div>\n",
       "<style scoped>\n",
       "    .dataframe tbody tr th:only-of-type {\n",
       "        vertical-align: middle;\n",
       "    }\n",
       "\n",
       "    .dataframe tbody tr th {\n",
       "        vertical-align: top;\n",
       "    }\n",
       "\n",
       "    .dataframe thead th {\n",
       "        text-align: right;\n",
       "    }\n",
       "</style>\n",
       "<table border=\"1\" class=\"dataframe\">\n",
       "  <thead>\n",
       "    <tr style=\"text-align: right;\">\n",
       "      <th></th>\n",
       "      <th>Rate</th>\n",
       "      <th>Review</th>\n",
       "      <th>Label</th>\n",
       "      <th>word_count</th>\n",
       "    </tr>\n",
       "    <tr>\n",
       "      <th>Index</th>\n",
       "      <th></th>\n",
       "      <th></th>\n",
       "      <th></th>\n",
       "      <th></th>\n",
       "    </tr>\n",
       "  </thead>\n",
       "  <tbody>\n",
       "    <tr>\n",
       "      <th>2662</th>\n",
       "      <td>3.2</td>\n",
       "      <td>Mình ăn caramen ở đây vị cũng ko có gì đặc sắ...</td>\n",
       "      <td>-1</td>\n",
       "      <td>34</td>\n",
       "    </tr>\n",
       "    <tr>\n",
       "      <th>2663</th>\n",
       "      <td>1.0</td>\n",
       "      <td>Food is But boss is a we asked for the price ...</td>\n",
       "      <td>-1</td>\n",
       "      <td>72</td>\n",
       "    </tr>\n",
       "    <tr>\n",
       "      <th>2664</th>\n",
       "      <td>2.8</td>\n",
       "      <td>Shipper đến muộn Sữa chua chưa lên men</td>\n",
       "      <td>-1</td>\n",
       "      <td>8</td>\n",
       "    </tr>\n",
       "    <tr>\n",
       "      <th>2665</th>\n",
       "      <td>2.2</td>\n",
       "      <td>Lúc đầu mình mới bước vào quán thấy hơi ngộp ...</td>\n",
       "      <td>-1</td>\n",
       "      <td>117</td>\n",
       "    </tr>\n",
       "    <tr>\n",
       "      <th>2666</th>\n",
       "      <td>3.2</td>\n",
       "      <td>Mấy bạn trông xe của quán ở phía Lotteria quá...</td>\n",
       "      <td>-1</td>\n",
       "      <td>48</td>\n",
       "    </tr>\n",
       "    <tr>\n",
       "      <th>2667</th>\n",
       "      <td>3.2</td>\n",
       "      <td>Mình ăn ở đây do thấy các bạn khen rất ăn xon...</td>\n",
       "      <td>-1</td>\n",
       "      <td>66</td>\n",
       "    </tr>\n",
       "    <tr>\n",
       "      <th>2668</th>\n",
       "      <td>4.0</td>\n",
       "      <td>Đi ăn kem dừa ở đây thực sự là thấy quá thì q...</td>\n",
       "      <td>-1</td>\n",
       "      <td>98</td>\n",
       "    </tr>\n",
       "    <tr>\n",
       "      <th>2669</th>\n",
       "      <td>3.0</td>\n",
       "      <td>Mới ăn kem và bánh Giá hạt ze nhưng chẳng ngo...</td>\n",
       "      <td>-1</td>\n",
       "      <td>47</td>\n",
       "    </tr>\n",
       "    <tr>\n",
       "      <th>2670</th>\n",
       "      <td>2.8</td>\n",
       "      <td>Nhà hàng này sẽ làm hỏng hình ảnh của hệ thốn...</td>\n",
       "      <td>-1</td>\n",
       "      <td>40</td>\n",
       "    </tr>\n",
       "    <tr>\n",
       "      <th>2671</th>\n",
       "      <td>4.0</td>\n",
       "      <td>Phở cuốn ở đây hương vị cực kì bình thường và...</td>\n",
       "      <td>-1</td>\n",
       "      <td>55</td>\n",
       "    </tr>\n",
       "  </tbody>\n",
       "</table>\n",
       "</div>"
      ],
      "text/plain": [
       "       Rate                                             Review  Label  \\\n",
       "Index                                                                   \n",
       "2662    3.2   Mình ăn caramen ở đây vị cũng ko có gì đặc sắ...     -1   \n",
       "2663    1.0   Food is But boss is a we asked for the price ...     -1   \n",
       "2664    2.8             Shipper đến muộn Sữa chua chưa lên men     -1   \n",
       "2665    2.2   Lúc đầu mình mới bước vào quán thấy hơi ngộp ...     -1   \n",
       "2666    3.2   Mấy bạn trông xe của quán ở phía Lotteria quá...     -1   \n",
       "2667    3.2   Mình ăn ở đây do thấy các bạn khen rất ăn xon...     -1   \n",
       "2668    4.0   Đi ăn kem dừa ở đây thực sự là thấy quá thì q...     -1   \n",
       "2669    3.0   Mới ăn kem và bánh Giá hạt ze nhưng chẳng ngo...     -1   \n",
       "2670    2.8   Nhà hàng này sẽ làm hỏng hình ảnh của hệ thốn...     -1   \n",
       "2671    4.0   Phở cuốn ở đây hương vị cực kì bình thường và...     -1   \n",
       "\n",
       "       word_count  \n",
       "Index              \n",
       "2662           34  \n",
       "2663           72  \n",
       "2664            8  \n",
       "2665          117  \n",
       "2666           48  \n",
       "2667           66  \n",
       "2668           98  \n",
       "2669           47  \n",
       "2670           40  \n",
       "2671           55  "
      ]
     },
     "execution_count": 15,
     "metadata": {},
     "output_type": "execute_result"
    }
   ],
   "source": [
    "negative_df.iloc[20:30]"
   ]
  },
  {
   "attachments": {},
   "cell_type": "markdown",
   "metadata": {},
   "source": [
    "We see in Index 2663 (from `negative_df`), the review is entirely in English, while in 2665 and 2666, there are some nouns in English. Hence we may need to use a multi-lingual tokenizer to address this, or remove all non-Vietnamese reviews"
   ]
  },
  {
   "attachments": {},
   "cell_type": "markdown",
   "metadata": {},
   "source": [
    "## Section 2: Data Processing\n",
    "Let's do some of these preliminary steps to process the data:\n",
    "- Lowercase `Review` column\n",
    "- Remove Vietnamese stopwords\n",
    "- Perform lemmatization if needed\n",
    "- Use a multi-lingual tokenizer"
   ]
  },
  {
   "attachments": {},
   "cell_type": "markdown",
   "metadata": {},
   "source": [
    "### Apply lowercasing"
   ]
  },
  {
   "cell_type": "code",
   "execution_count": 16,
   "metadata": {},
   "outputs": [],
   "source": [
    "# Lowercase Review column\n",
    "combined_reviews_df[\"Review\"] = combined_reviews_df[\"Review\"].str.lower()"
   ]
  },
  {
   "cell_type": "code",
   "execution_count": 17,
   "metadata": {},
   "outputs": [
    {
     "data": {
      "text/html": [
       "<div>\n",
       "<style scoped>\n",
       "    .dataframe tbody tr th:only-of-type {\n",
       "        vertical-align: middle;\n",
       "    }\n",
       "\n",
       "    .dataframe tbody tr th {\n",
       "        vertical-align: top;\n",
       "    }\n",
       "\n",
       "    .dataframe thead th {\n",
       "        text-align: right;\n",
       "    }\n",
       "</style>\n",
       "<table border=\"1\" class=\"dataframe\">\n",
       "  <thead>\n",
       "    <tr style=\"text-align: right;\">\n",
       "      <th></th>\n",
       "      <th>Rate</th>\n",
       "      <th>Review</th>\n",
       "      <th>Label</th>\n",
       "      <th>word_count</th>\n",
       "    </tr>\n",
       "    <tr>\n",
       "      <th>Index</th>\n",
       "      <th></th>\n",
       "      <th></th>\n",
       "      <th></th>\n",
       "      <th></th>\n",
       "    </tr>\n",
       "  </thead>\n",
       "  <tbody>\n",
       "    <tr>\n",
       "      <th>0</th>\n",
       "      <td>9.0</td>\n",
       "      <td>khu ẩm thực với đa dạng đồ lại còn bày trí đẹ...</td>\n",
       "      <td>1</td>\n",
       "      <td>111</td>\n",
       "    </tr>\n",
       "    <tr>\n",
       "      <th>1</th>\n",
       "      <td>9.0</td>\n",
       "      <td>lúc nào đến aeon là lúc đấy phải tống một đốn...</td>\n",
       "      <td>1</td>\n",
       "      <td>89</td>\n",
       "    </tr>\n",
       "    <tr>\n",
       "      <th>2</th>\n",
       "      <td>10.0</td>\n",
       "      <td>bánh ngon lại rẻ chê đâu được gần hết các loạ...</td>\n",
       "      <td>1</td>\n",
       "      <td>18</td>\n",
       "    </tr>\n",
       "    <tr>\n",
       "      <th>3</th>\n",
       "      <td>9.0</td>\n",
       "      <td>ngon rẻ</td>\n",
       "      <td>1</td>\n",
       "      <td>2</td>\n",
       "    </tr>\n",
       "    <tr>\n",
       "      <th>4</th>\n",
       "      <td>9.6</td>\n",
       "      <td>tôi sắp chết vì ngập trong sushi mấttttt lên ...</td>\n",
       "      <td>1</td>\n",
       "      <td>42</td>\n",
       "    </tr>\n",
       "  </tbody>\n",
       "</table>\n",
       "</div>"
      ],
      "text/plain": [
       "       Rate                                             Review  Label  \\\n",
       "Index                                                                   \n",
       "0       9.0   khu ẩm thực với đa dạng đồ lại còn bày trí đẹ...      1   \n",
       "1       9.0   lúc nào đến aeon là lúc đấy phải tống một đốn...      1   \n",
       "2      10.0   bánh ngon lại rẻ chê đâu được gần hết các loạ...      1   \n",
       "3       9.0                                            ngon rẻ      1   \n",
       "4       9.6   tôi sắp chết vì ngập trong sushi mấttttt lên ...      1   \n",
       "\n",
       "       word_count  \n",
       "Index              \n",
       "0             111  \n",
       "1              89  \n",
       "2              18  \n",
       "3               2  \n",
       "4              42  "
      ]
     },
     "execution_count": 17,
     "metadata": {},
     "output_type": "execute_result"
    }
   ],
   "source": [
    "combined_reviews_df.head(5)"
   ]
  },
  {
   "attachments": {},
   "cell_type": "markdown",
   "metadata": {},
   "source": [
    "### Removing stopwords"
   ]
  },
  {
   "cell_type": "code",
   "execution_count": 18,
   "metadata": {},
   "outputs": [],
   "source": [
    "import nltk\n",
    "from typing import List\n",
    "\n",
    "def remove_vn_stopwords(text: str):\n",
    "    vn_stopwords_file = open(\"../data/vietnamese-stopwords.txt\", encoding=\"utf8\")\n",
    "    vn_stopwords = vn_stopwords_file.read()\n",
    "    vn_stopwords = vn_stopwords.split(\"\\n\")\n",
    "\n",
    "    for stopword in vn_stopwords:\n",
    "        text = text.replace(stopword, \"\")\n",
    "    return text"
   ]
  },
  {
   "cell_type": "code",
   "execution_count": 19,
   "metadata": {},
   "outputs": [],
   "source": [
    "combined_reviews_df[\"Review\"] = combined_reviews_df[\"Review\"].apply(remove_vn_stopwords)\n",
    "\n",
    "# Let's also update the word_count\n",
    "combined_reviews_df['word_count'] = combined_reviews_df['Review'].str.split().apply(len) "
   ]
  },
  {
   "cell_type": "code",
   "execution_count": 20,
   "metadata": {},
   "outputs": [
    {
     "data": {
      "text/html": [
       "<div>\n",
       "<style scoped>\n",
       "    .dataframe tbody tr th:only-of-type {\n",
       "        vertical-align: middle;\n",
       "    }\n",
       "\n",
       "    .dataframe tbody tr th {\n",
       "        vertical-align: top;\n",
       "    }\n",
       "\n",
       "    .dataframe thead th {\n",
       "        text-align: right;\n",
       "    }\n",
       "</style>\n",
       "<table border=\"1\" class=\"dataframe\">\n",
       "  <thead>\n",
       "    <tr style=\"text-align: right;\">\n",
       "      <th></th>\n",
       "      <th>Rate</th>\n",
       "      <th>Review</th>\n",
       "      <th>Label</th>\n",
       "      <th>word_count</th>\n",
       "    </tr>\n",
       "    <tr>\n",
       "      <th>Index</th>\n",
       "      <th></th>\n",
       "      <th></th>\n",
       "      <th></th>\n",
       "      <th></th>\n",
       "    </tr>\n",
       "  </thead>\n",
       "  <tbody>\n",
       "    <tr>\n",
       "      <th>0</th>\n",
       "      <td>9.0</td>\n",
       "      <td>khu ẩm thực  đa ng đ   y trí đẹp    hấp  đối ...</td>\n",
       "      <td>1</td>\n",
       "      <td>48</td>\n",
       "    </tr>\n",
       "    <tr>\n",
       "      <th>1</th>\n",
       "      <td>9.0</td>\n",
       "      <td>aeon   đ  tống  đống  o mm  đ     ngon   r...</td>\n",
       "      <td>1</td>\n",
       "      <td>42</td>\n",
       "    </tr>\n",
       "    <tr>\n",
       "      <th>2</th>\n",
       "      <td>10.0</td>\n",
       "      <td>h ngon  rẻ chê       h   tri tiêm  foodcourt</td>\n",
       "      <td>1</td>\n",
       "      <td>8</td>\n",
       "    </tr>\n",
       "    <tr>\n",
       "      <th>3</th>\n",
       "      <td>9.0</td>\n",
       "      <td>ngon rẻ</td>\n",
       "      <td>1</td>\n",
       "      <td>2</td>\n",
       "    </tr>\n",
       "    <tr>\n",
       "      <th>4</th>\n",
       "      <td>9.6</td>\n",
       "      <td>c  ngập  sushi tttt  h nội     i   ôm  đống...</td>\n",
       "      <td>1</td>\n",
       "      <td>20</td>\n",
       "    </tr>\n",
       "  </tbody>\n",
       "</table>\n",
       "</div>"
      ],
      "text/plain": [
       "       Rate                                             Review  Label  \\\n",
       "Index                                                                   \n",
       "0       9.0   khu ẩm thực  đa ng đ   y trí đẹp    hấp  đối ...      1   \n",
       "1       9.0      aeon   đ  tống  đống  o mm  đ     ngon   r...      1   \n",
       "2      10.0       h ngon  rẻ chê       h   tri tiêm  foodcourt      1   \n",
       "3       9.0                                            ngon rẻ      1   \n",
       "4       9.6     c  ngập  sushi tttt  h nội     i   ôm  đống...      1   \n",
       "\n",
       "       word_count  \n",
       "Index              \n",
       "0              48  \n",
       "1              42  \n",
       "2               8  \n",
       "3               2  \n",
       "4              20  "
      ]
     },
     "execution_count": 20,
     "metadata": {},
     "output_type": "execute_result"
    }
   ],
   "source": [
    "combined_reviews_df.head(5)"
   ]
  },
  {
   "attachments": {},
   "cell_type": "markdown",
   "metadata": {},
   "source": [
    "Let's check out the word count distribution for each label dataset again"
   ]
  },
  {
   "cell_type": "code",
   "execution_count": 21,
   "metadata": {},
   "outputs": [],
   "source": [
    "# Positive overview\n",
    "positive_df = combined_reviews_df[combined_reviews_df['Label'] == 1]\n",
    "\n",
    "# Negative overview\n",
    "negative_df = combined_reviews_df[combined_reviews_df['Label'] == -1]\n",
    "\n",
    "# Neutral overview\n",
    "neutral_df = combined_reviews_df[combined_reviews_df['Label'] == 0]"
   ]
  },
  {
   "cell_type": "code",
   "execution_count": 22,
   "metadata": {},
   "outputs": [
    {
     "data": {
      "image/png": "[encoded data removed]",
      "text/plain": [
       "<Figure size 500x500 with 1 Axes>"
      ]
     },
     "metadata": {},
     "output_type": "display_data"
    },
    {
     "data": {
      "text/html": [
       "<pre style=\"white-space:pre;overflow-x:auto;line-height:normal;font-family:Menlo,'DejaVu Sans Mono',consolas,'Courier New',monospace\"><span style=\"font-weight: bold\">[</span>\n",
       "    <span style=\"font-weight: bold\">{</span><span style=\"color: #008000; text-decoration-color: #008000\">'bin_lower'</span>: <span style=\"color: #008080; text-decoration-color: #008080; font-weight: bold\">0.0</span>, <span style=\"color: #008000; text-decoration-color: #008000\">'bin_upper'</span>: <span style=\"color: #008080; text-decoration-color: #008080; font-weight: bold\">49.4</span>, <span style=\"color: #008000; text-decoration-color: #008000\">'value'</span>: <span style=\"color: #008080; text-decoration-color: #008080; font-weight: bold\">2046.0</span>, <span style=\"color: #008000; text-decoration-color: #008000\">'percentage'</span>: <span style=\"color: #008080; text-decoration-color: #008080; font-weight: bold\">0.74</span><span style=\"font-weight: bold\">}</span>,\n",
       "    <span style=\"font-weight: bold\">{</span><span style=\"color: #008000; text-decoration-color: #008000\">'bin_lower'</span>: <span style=\"color: #008080; text-decoration-color: #008080; font-weight: bold\">49.4</span>, <span style=\"color: #008000; text-decoration-color: #008000\">'bin_upper'</span>: <span style=\"color: #008080; text-decoration-color: #008080; font-weight: bold\">98.8</span>, <span style=\"color: #008000; text-decoration-color: #008000\">'value'</span>: <span style=\"color: #008080; text-decoration-color: #008080; font-weight: bold\">565.0</span>, <span style=\"color: #008000; text-decoration-color: #008000\">'percentage'</span>: <span style=\"color: #008080; text-decoration-color: #008080; font-weight: bold\">0.2</span><span style=\"font-weight: bold\">}</span>,\n",
       "    <span style=\"font-weight: bold\">{</span><span style=\"color: #008000; text-decoration-color: #008000\">'bin_lower'</span>: <span style=\"color: #008080; text-decoration-color: #008080; font-weight: bold\">98.8</span>, <span style=\"color: #008000; text-decoration-color: #008000\">'bin_upper'</span>: <span style=\"color: #008080; text-decoration-color: #008080; font-weight: bold\">148.2</span>, <span style=\"color: #008000; text-decoration-color: #008000\">'value'</span>: <span style=\"color: #008080; text-decoration-color: #008080; font-weight: bold\">120.0</span>, <span style=\"color: #008000; text-decoration-color: #008000\">'percentage'</span>: <span style=\"color: #008080; text-decoration-color: #008080; font-weight: bold\">0.04</span><span style=\"font-weight: bold\">}</span>,\n",
       "    <span style=\"font-weight: bold\">{</span><span style=\"color: #008000; text-decoration-color: #008000\">'bin_lower'</span>: <span style=\"color: #008080; text-decoration-color: #008080; font-weight: bold\">148.2</span>, <span style=\"color: #008000; text-decoration-color: #008000\">'bin_upper'</span>: <span style=\"color: #008080; text-decoration-color: #008080; font-weight: bold\">197.6</span>, <span style=\"color: #008000; text-decoration-color: #008000\">'value'</span>: <span style=\"color: #008080; text-decoration-color: #008080; font-weight: bold\">28.0</span>, <span style=\"color: #008000; text-decoration-color: #008000\">'percentage'</span>: <span style=\"color: #008080; text-decoration-color: #008080; font-weight: bold\">0.01</span><span style=\"font-weight: bold\">}</span>,\n",
       "    <span style=\"font-weight: bold\">{</span><span style=\"color: #008000; text-decoration-color: #008000\">'bin_lower'</span>: <span style=\"color: #008080; text-decoration-color: #008080; font-weight: bold\">197.6</span>, <span style=\"color: #008000; text-decoration-color: #008000\">'bin_upper'</span>: <span style=\"color: #008080; text-decoration-color: #008080; font-weight: bold\">247.0</span>, <span style=\"color: #008000; text-decoration-color: #008000\">'value'</span>: <span style=\"color: #008080; text-decoration-color: #008080; font-weight: bold\">10.0</span>, <span style=\"color: #008000; text-decoration-color: #008000\">'percentage'</span>: <span style=\"color: #008080; text-decoration-color: #008080; font-weight: bold\">0.0</span><span style=\"font-weight: bold\">}</span>,\n",
       "    <span style=\"font-weight: bold\">{</span><span style=\"color: #008000; text-decoration-color: #008000\">'bin_lower'</span>: <span style=\"color: #008080; text-decoration-color: #008080; font-weight: bold\">247.0</span>, <span style=\"color: #008000; text-decoration-color: #008000\">'bin_upper'</span>: <span style=\"color: #008080; text-decoration-color: #008080; font-weight: bold\">296.4</span>, <span style=\"color: #008000; text-decoration-color: #008000\">'value'</span>: <span style=\"color: #008080; text-decoration-color: #008080; font-weight: bold\">5.0</span>, <span style=\"color: #008000; text-decoration-color: #008000\">'percentage'</span>: <span style=\"color: #008080; text-decoration-color: #008080; font-weight: bold\">0.0</span><span style=\"font-weight: bold\">}</span>,\n",
       "    <span style=\"font-weight: bold\">{</span><span style=\"color: #008000; text-decoration-color: #008000\">'bin_lower'</span>: <span style=\"color: #008080; text-decoration-color: #008080; font-weight: bold\">296.4</span>, <span style=\"color: #008000; text-decoration-color: #008000\">'bin_upper'</span>: <span style=\"color: #008080; text-decoration-color: #008080; font-weight: bold\">345.8</span>, <span style=\"color: #008000; text-decoration-color: #008000\">'value'</span>: <span style=\"color: #008080; text-decoration-color: #008080; font-weight: bold\">2.0</span>, <span style=\"color: #008000; text-decoration-color: #008000\">'percentage'</span>: <span style=\"color: #008080; text-decoration-color: #008080; font-weight: bold\">0.0</span><span style=\"font-weight: bold\">}</span>,\n",
       "    <span style=\"font-weight: bold\">{</span><span style=\"color: #008000; text-decoration-color: #008000\">'bin_lower'</span>: <span style=\"color: #008080; text-decoration-color: #008080; font-weight: bold\">345.8</span>, <span style=\"color: #008000; text-decoration-color: #008000\">'bin_upper'</span>: <span style=\"color: #008080; text-decoration-color: #008080; font-weight: bold\">395.2</span>, <span style=\"color: #008000; text-decoration-color: #008000\">'value'</span>: <span style=\"color: #008080; text-decoration-color: #008080; font-weight: bold\">2.0</span>, <span style=\"color: #008000; text-decoration-color: #008000\">'percentage'</span>: <span style=\"color: #008080; text-decoration-color: #008080; font-weight: bold\">0.0</span><span style=\"font-weight: bold\">}</span>,\n",
       "    <span style=\"font-weight: bold\">{</span><span style=\"color: #008000; text-decoration-color: #008000\">'bin_lower'</span>: <span style=\"color: #008080; text-decoration-color: #008080; font-weight: bold\">395.2</span>, <span style=\"color: #008000; text-decoration-color: #008000\">'bin_upper'</span>: <span style=\"color: #008080; text-decoration-color: #008080; font-weight: bold\">444.6</span>, <span style=\"color: #008000; text-decoration-color: #008000\">'value'</span>: <span style=\"color: #008080; text-decoration-color: #008080; font-weight: bold\">0.0</span>, <span style=\"color: #008000; text-decoration-color: #008000\">'percentage'</span>: <span style=\"color: #008080; text-decoration-color: #008080; font-weight: bold\">0.0</span><span style=\"font-weight: bold\">}</span>,\n",
       "    <span style=\"font-weight: bold\">{</span><span style=\"color: #008000; text-decoration-color: #008000\">'bin_lower'</span>: <span style=\"color: #008080; text-decoration-color: #008080; font-weight: bold\">444.6</span>, <span style=\"color: #008000; text-decoration-color: #008000\">'bin_upper'</span>: <span style=\"color: #008080; text-decoration-color: #008080; font-weight: bold\">494.0</span>, <span style=\"color: #008000; text-decoration-color: #008000\">'value'</span>: <span style=\"color: #008080; text-decoration-color: #008080; font-weight: bold\">1.0</span>, <span style=\"color: #008000; text-decoration-color: #008000\">'percentage'</span>: <span style=\"color: #008080; text-decoration-color: #008080; font-weight: bold\">0.0</span><span style=\"font-weight: bold\">}</span>\n",
       "<span style=\"font-weight: bold\">]</span>\n",
       "</pre>\n"
      ],
      "text/plain": [
       "\u001b[1m[\u001b[0m\n",
       "    \u001b[1m{\u001b[0m\u001b[32m'bin_lower'\u001b[0m: \u001b[1;36m0.0\u001b[0m, \u001b[32m'bin_upper'\u001b[0m: \u001b[1;36m49.4\u001b[0m, \u001b[32m'value'\u001b[0m: \u001b[1;36m2046.0\u001b[0m, \u001b[32m'percentage'\u001b[0m: \u001b[1;36m0.74\u001b[0m\u001b[1m}\u001b[0m,\n",
       "    \u001b[1m{\u001b[0m\u001b[32m'bin_lower'\u001b[0m: \u001b[1;36m49.4\u001b[0m, \u001b[32m'bin_upper'\u001b[0m: \u001b[1;36m98.8\u001b[0m, \u001b[32m'value'\u001b[0m: \u001b[1;36m565.0\u001b[0m, \u001b[32m'percentage'\u001b[0m: \u001b[1;36m0.2\u001b[0m\u001b[1m}\u001b[0m,\n",
       "    \u001b[1m{\u001b[0m\u001b[32m'bin_lower'\u001b[0m: \u001b[1;36m98.8\u001b[0m, \u001b[32m'bin_upper'\u001b[0m: \u001b[1;36m148.2\u001b[0m, \u001b[32m'value'\u001b[0m: \u001b[1;36m120.0\u001b[0m, \u001b[32m'percentage'\u001b[0m: \u001b[1;36m0.04\u001b[0m\u001b[1m}\u001b[0m,\n",
       "    \u001b[1m{\u001b[0m\u001b[32m'bin_lower'\u001b[0m: \u001b[1;36m148.2\u001b[0m, \u001b[32m'bin_upper'\u001b[0m: \u001b[1;36m197.6\u001b[0m, \u001b[32m'value'\u001b[0m: \u001b[1;36m28.0\u001b[0m, \u001b[32m'percentage'\u001b[0m: \u001b[1;36m0.01\u001b[0m\u001b[1m}\u001b[0m,\n",
       "    \u001b[1m{\u001b[0m\u001b[32m'bin_lower'\u001b[0m: \u001b[1;36m197.6\u001b[0m, \u001b[32m'bin_upper'\u001b[0m: \u001b[1;36m247.0\u001b[0m, \u001b[32m'value'\u001b[0m: \u001b[1;36m10.0\u001b[0m, \u001b[32m'percentage'\u001b[0m: \u001b[1;36m0.0\u001b[0m\u001b[1m}\u001b[0m,\n",
       "    \u001b[1m{\u001b[0m\u001b[32m'bin_lower'\u001b[0m: \u001b[1;36m247.0\u001b[0m, \u001b[32m'bin_upper'\u001b[0m: \u001b[1;36m296.4\u001b[0m, \u001b[32m'value'\u001b[0m: \u001b[1;36m5.0\u001b[0m, \u001b[32m'percentage'\u001b[0m: \u001b[1;36m0.0\u001b[0m\u001b[1m}\u001b[0m,\n",
       "    \u001b[1m{\u001b[0m\u001b[32m'bin_lower'\u001b[0m: \u001b[1;36m296.4\u001b[0m, \u001b[32m'bin_upper'\u001b[0m: \u001b[1;36m345.8\u001b[0m, \u001b[32m'value'\u001b[0m: \u001b[1;36m2.0\u001b[0m, \u001b[32m'percentage'\u001b[0m: \u001b[1;36m0.0\u001b[0m\u001b[1m}\u001b[0m,\n",
       "    \u001b[1m{\u001b[0m\u001b[32m'bin_lower'\u001b[0m: \u001b[1;36m345.8\u001b[0m, \u001b[32m'bin_upper'\u001b[0m: \u001b[1;36m395.2\u001b[0m, \u001b[32m'value'\u001b[0m: \u001b[1;36m2.0\u001b[0m, \u001b[32m'percentage'\u001b[0m: \u001b[1;36m0.0\u001b[0m\u001b[1m}\u001b[0m,\n",
       "    \u001b[1m{\u001b[0m\u001b[32m'bin_lower'\u001b[0m: \u001b[1;36m395.2\u001b[0m, \u001b[32m'bin_upper'\u001b[0m: \u001b[1;36m444.6\u001b[0m, \u001b[32m'value'\u001b[0m: \u001b[1;36m0.0\u001b[0m, \u001b[32m'percentage'\u001b[0m: \u001b[1;36m0.0\u001b[0m\u001b[1m}\u001b[0m,\n",
       "    \u001b[1m{\u001b[0m\u001b[32m'bin_lower'\u001b[0m: \u001b[1;36m444.6\u001b[0m, \u001b[32m'bin_upper'\u001b[0m: \u001b[1;36m494.0\u001b[0m, \u001b[32m'value'\u001b[0m: \u001b[1;36m1.0\u001b[0m, \u001b[32m'percentage'\u001b[0m: \u001b[1;36m0.0\u001b[0m\u001b[1m}\u001b[0m\n",
       "\u001b[1m]\u001b[0m\n"
      ]
     },
     "metadata": {},
     "output_type": "display_data"
    },
    {
     "data": {
      "image/png": "[encoded data removed]",
      "text/plain": [
       "<Figure size 500x500 with 1 Axes>"
      ]
     },
     "metadata": {},
     "output_type": "display_data"
    },
    {
     "data": {
      "text/html": [
       "<pre style=\"white-space:pre;overflow-x:auto;line-height:normal;font-family:Menlo,'DejaVu Sans Mono',consolas,'Courier New',monospace\"><span style=\"font-weight: bold\">[</span>\n",
       "    <span style=\"font-weight: bold\">{</span><span style=\"color: #008000; text-decoration-color: #008000\">'bin_lower'</span>: <span style=\"color: #008080; text-decoration-color: #008080; font-weight: bold\">0.0</span>, <span style=\"color: #008000; text-decoration-color: #008000\">'bin_upper'</span>: <span style=\"color: #008080; text-decoration-color: #008080; font-weight: bold\">37.4</span>, <span style=\"color: #008000; text-decoration-color: #008000\">'value'</span>: <span style=\"color: #008080; text-decoration-color: #008080; font-weight: bold\">1330.0</span>, <span style=\"color: #008000; text-decoration-color: #008000\">'percentage'</span>: <span style=\"color: #008080; text-decoration-color: #008080; font-weight: bold\">0.55</span><span style=\"font-weight: bold\">}</span>,\n",
       "    <span style=\"font-weight: bold\">{</span><span style=\"color: #008000; text-decoration-color: #008000\">'bin_lower'</span>: <span style=\"color: #008080; text-decoration-color: #008080; font-weight: bold\">37.4</span>, <span style=\"color: #008000; text-decoration-color: #008000\">'bin_upper'</span>: <span style=\"color: #008080; text-decoration-color: #008080; font-weight: bold\">74.8</span>, <span style=\"color: #008000; text-decoration-color: #008000\">'value'</span>: <span style=\"color: #008080; text-decoration-color: #008080; font-weight: bold\">672.0</span>, <span style=\"color: #008000; text-decoration-color: #008000\">'percentage'</span>: <span style=\"color: #008080; text-decoration-color: #008080; font-weight: bold\">0.28</span><span style=\"font-weight: bold\">}</span>,\n",
       "    <span style=\"font-weight: bold\">{</span><span style=\"color: #008000; text-decoration-color: #008000\">'bin_lower'</span>: <span style=\"color: #008080; text-decoration-color: #008080; font-weight: bold\">74.8</span>, <span style=\"color: #008000; text-decoration-color: #008000\">'bin_upper'</span>: <span style=\"color: #008080; text-decoration-color: #008080; font-weight: bold\">112.2</span>, <span style=\"color: #008000; text-decoration-color: #008000\">'value'</span>: <span style=\"color: #008080; text-decoration-color: #008080; font-weight: bold\">243.0</span>, <span style=\"color: #008000; text-decoration-color: #008000\">'percentage'</span>: <span style=\"color: #008080; text-decoration-color: #008080; font-weight: bold\">0.1</span><span style=\"font-weight: bold\">}</span>,\n",
       "    <span style=\"font-weight: bold\">{</span><span style=\"color: #008000; text-decoration-color: #008000\">'bin_lower'</span>: <span style=\"color: #008080; text-decoration-color: #008080; font-weight: bold\">112.2</span>, <span style=\"color: #008000; text-decoration-color: #008000\">'bin_upper'</span>: <span style=\"color: #008080; text-decoration-color: #008080; font-weight: bold\">149.6</span>, <span style=\"color: #008000; text-decoration-color: #008000\">'value'</span>: <span style=\"color: #008080; text-decoration-color: #008080; font-weight: bold\">92.0</span>, <span style=\"color: #008000; text-decoration-color: #008000\">'percentage'</span>: <span style=\"color: #008080; text-decoration-color: #008080; font-weight: bold\">0.04</span><span style=\"font-weight: bold\">}</span>,\n",
       "    <span style=\"font-weight: bold\">{</span><span style=\"color: #008000; text-decoration-color: #008000\">'bin_lower'</span>: <span style=\"color: #008080; text-decoration-color: #008080; font-weight: bold\">149.6</span>, <span style=\"color: #008000; text-decoration-color: #008000\">'bin_upper'</span>: <span style=\"color: #008080; text-decoration-color: #008080; font-weight: bold\">187.0</span>, <span style=\"color: #008000; text-decoration-color: #008000\">'value'</span>: <span style=\"color: #008080; text-decoration-color: #008080; font-weight: bold\">34.0</span>, <span style=\"color: #008000; text-decoration-color: #008000\">'percentage'</span>: <span style=\"color: #008080; text-decoration-color: #008080; font-weight: bold\">0.01</span><span style=\"font-weight: bold\">}</span>,\n",
       "    <span style=\"font-weight: bold\">{</span><span style=\"color: #008000; text-decoration-color: #008000\">'bin_lower'</span>: <span style=\"color: #008080; text-decoration-color: #008080; font-weight: bold\">187.0</span>, <span style=\"color: #008000; text-decoration-color: #008000\">'bin_upper'</span>: <span style=\"color: #008080; text-decoration-color: #008080; font-weight: bold\">224.4</span>, <span style=\"color: #008000; text-decoration-color: #008000\">'value'</span>: <span style=\"color: #008080; text-decoration-color: #008080; font-weight: bold\">25.0</span>, <span style=\"color: #008000; text-decoration-color: #008000\">'percentage'</span>: <span style=\"color: #008080; text-decoration-color: #008080; font-weight: bold\">0.01</span><span style=\"font-weight: bold\">}</span>,\n",
       "    <span style=\"font-weight: bold\">{</span><span style=\"color: #008000; text-decoration-color: #008000\">'bin_lower'</span>: <span style=\"color: #008080; text-decoration-color: #008080; font-weight: bold\">224.4</span>, <span style=\"color: #008000; text-decoration-color: #008000\">'bin_upper'</span>: <span style=\"color: #008080; text-decoration-color: #008080; font-weight: bold\">261.8</span>, <span style=\"color: #008000; text-decoration-color: #008000\">'value'</span>: <span style=\"color: #008080; text-decoration-color: #008080; font-weight: bold\">12.0</span>, <span style=\"color: #008000; text-decoration-color: #008000\">'percentage'</span>: <span style=\"color: #008080; text-decoration-color: #008080; font-weight: bold\">0.0</span><span style=\"font-weight: bold\">}</span>,\n",
       "    <span style=\"font-weight: bold\">{</span><span style=\"color: #008000; text-decoration-color: #008000\">'bin_lower'</span>: <span style=\"color: #008080; text-decoration-color: #008080; font-weight: bold\">261.8</span>, <span style=\"color: #008000; text-decoration-color: #008000\">'bin_upper'</span>: <span style=\"color: #008080; text-decoration-color: #008080; font-weight: bold\">299.2</span>, <span style=\"color: #008000; text-decoration-color: #008000\">'value'</span>: <span style=\"color: #008080; text-decoration-color: #008080; font-weight: bold\">3.0</span>, <span style=\"color: #008000; text-decoration-color: #008000\">'percentage'</span>: <span style=\"color: #008080; text-decoration-color: #008080; font-weight: bold\">0.0</span><span style=\"font-weight: bold\">}</span>,\n",
       "    <span style=\"font-weight: bold\">{</span><span style=\"color: #008000; text-decoration-color: #008000\">'bin_lower'</span>: <span style=\"color: #008080; text-decoration-color: #008080; font-weight: bold\">299.2</span>, <span style=\"color: #008000; text-decoration-color: #008000\">'bin_upper'</span>: <span style=\"color: #008080; text-decoration-color: #008080; font-weight: bold\">336.6</span>, <span style=\"color: #008000; text-decoration-color: #008000\">'value'</span>: <span style=\"color: #008080; text-decoration-color: #008080; font-weight: bold\">1.0</span>, <span style=\"color: #008000; text-decoration-color: #008000\">'percentage'</span>: <span style=\"color: #008080; text-decoration-color: #008080; font-weight: bold\">0.0</span><span style=\"font-weight: bold\">}</span>,\n",
       "    <span style=\"font-weight: bold\">{</span><span style=\"color: #008000; text-decoration-color: #008000\">'bin_lower'</span>: <span style=\"color: #008080; text-decoration-color: #008080; font-weight: bold\">336.6</span>, <span style=\"color: #008000; text-decoration-color: #008000\">'bin_upper'</span>: <span style=\"color: #008080; text-decoration-color: #008080; font-weight: bold\">374.0</span>, <span style=\"color: #008000; text-decoration-color: #008000\">'value'</span>: <span style=\"color: #008080; text-decoration-color: #008080; font-weight: bold\">4.0</span>, <span style=\"color: #008000; text-decoration-color: #008000\">'percentage'</span>: <span style=\"color: #008080; text-decoration-color: #008080; font-weight: bold\">0.0</span><span style=\"font-weight: bold\">}</span>\n",
       "<span style=\"font-weight: bold\">]</span>\n",
       "</pre>\n"
      ],
      "text/plain": [
       "\u001b[1m[\u001b[0m\n",
       "    \u001b[1m{\u001b[0m\u001b[32m'bin_lower'\u001b[0m: \u001b[1;36m0.0\u001b[0m, \u001b[32m'bin_upper'\u001b[0m: \u001b[1;36m37.4\u001b[0m, \u001b[32m'value'\u001b[0m: \u001b[1;36m1330.0\u001b[0m, \u001b[32m'percentage'\u001b[0m: \u001b[1;36m0.55\u001b[0m\u001b[1m}\u001b[0m,\n",
       "    \u001b[1m{\u001b[0m\u001b[32m'bin_lower'\u001b[0m: \u001b[1;36m37.4\u001b[0m, \u001b[32m'bin_upper'\u001b[0m: \u001b[1;36m74.8\u001b[0m, \u001b[32m'value'\u001b[0m: \u001b[1;36m672.0\u001b[0m, \u001b[32m'percentage'\u001b[0m: \u001b[1;36m0.28\u001b[0m\u001b[1m}\u001b[0m,\n",
       "    \u001b[1m{\u001b[0m\u001b[32m'bin_lower'\u001b[0m: \u001b[1;36m74.8\u001b[0m, \u001b[32m'bin_upper'\u001b[0m: \u001b[1;36m112.2\u001b[0m, \u001b[32m'value'\u001b[0m: \u001b[1;36m243.0\u001b[0m, \u001b[32m'percentage'\u001b[0m: \u001b[1;36m0.1\u001b[0m\u001b[1m}\u001b[0m,\n",
       "    \u001b[1m{\u001b[0m\u001b[32m'bin_lower'\u001b[0m: \u001b[1;36m112.2\u001b[0m, \u001b[32m'bin_upper'\u001b[0m: \u001b[1;36m149.6\u001b[0m, \u001b[32m'value'\u001b[0m: \u001b[1;36m92.0\u001b[0m, \u001b[32m'percentage'\u001b[0m: \u001b[1;36m0.04\u001b[0m\u001b[1m}\u001b[0m,\n",
       "    \u001b[1m{\u001b[0m\u001b[32m'bin_lower'\u001b[0m: \u001b[1;36m149.6\u001b[0m, \u001b[32m'bin_upper'\u001b[0m: \u001b[1;36m187.0\u001b[0m, \u001b[32m'value'\u001b[0m: \u001b[1;36m34.0\u001b[0m, \u001b[32m'percentage'\u001b[0m: \u001b[1;36m0.01\u001b[0m\u001b[1m}\u001b[0m,\n",
       "    \u001b[1m{\u001b[0m\u001b[32m'bin_lower'\u001b[0m: \u001b[1;36m187.0\u001b[0m, \u001b[32m'bin_upper'\u001b[0m: \u001b[1;36m224.4\u001b[0m, \u001b[32m'value'\u001b[0m: \u001b[1;36m25.0\u001b[0m, \u001b[32m'percentage'\u001b[0m: \u001b[1;36m0.01\u001b[0m\u001b[1m}\u001b[0m,\n",
       "    \u001b[1m{\u001b[0m\u001b[32m'bin_lower'\u001b[0m: \u001b[1;36m224.4\u001b[0m, \u001b[32m'bin_upper'\u001b[0m: \u001b[1;36m261.8\u001b[0m, \u001b[32m'value'\u001b[0m: \u001b[1;36m12.0\u001b[0m, \u001b[32m'percentage'\u001b[0m: \u001b[1;36m0.0\u001b[0m\u001b[1m}\u001b[0m,\n",
       "    \u001b[1m{\u001b[0m\u001b[32m'bin_lower'\u001b[0m: \u001b[1;36m261.8\u001b[0m, \u001b[32m'bin_upper'\u001b[0m: \u001b[1;36m299.2\u001b[0m, \u001b[32m'value'\u001b[0m: \u001b[1;36m3.0\u001b[0m, \u001b[32m'percentage'\u001b[0m: \u001b[1;36m0.0\u001b[0m\u001b[1m}\u001b[0m,\n",
       "    \u001b[1m{\u001b[0m\u001b[32m'bin_lower'\u001b[0m: \u001b[1;36m299.2\u001b[0m, \u001b[32m'bin_upper'\u001b[0m: \u001b[1;36m336.6\u001b[0m, \u001b[32m'value'\u001b[0m: \u001b[1;36m1.0\u001b[0m, \u001b[32m'percentage'\u001b[0m: \u001b[1;36m0.0\u001b[0m\u001b[1m}\u001b[0m,\n",
       "    \u001b[1m{\u001b[0m\u001b[32m'bin_lower'\u001b[0m: \u001b[1;36m336.6\u001b[0m, \u001b[32m'bin_upper'\u001b[0m: \u001b[1;36m374.0\u001b[0m, \u001b[32m'value'\u001b[0m: \u001b[1;36m4.0\u001b[0m, \u001b[32m'percentage'\u001b[0m: \u001b[1;36m0.0\u001b[0m\u001b[1m}\u001b[0m\n",
       "\u001b[1m]\u001b[0m\n"
      ]
     },
     "metadata": {},
     "output_type": "display_data"
    },
    {
     "data": {
      "image/png": "[encoded data removed]",
      "text/plain": [
       "<Figure size 500x500 with 1 Axes>"
      ]
     },
     "metadata": {},
     "output_type": "display_data"
    },
    {
     "data": {
      "text/html": [
       "<pre style=\"white-space:pre;overflow-x:auto;line-height:normal;font-family:Menlo,'DejaVu Sans Mono',consolas,'Courier New',monospace\"><span style=\"font-weight: bold\">[</span>\n",
       "    <span style=\"font-weight: bold\">{</span><span style=\"color: #008000; text-decoration-color: #008000\">'bin_lower'</span>: <span style=\"color: #008080; text-decoration-color: #008080; font-weight: bold\">0.0</span>, <span style=\"color: #008000; text-decoration-color: #008000\">'bin_upper'</span>: <span style=\"color: #008080; text-decoration-color: #008080; font-weight: bold\">39.8</span>, <span style=\"color: #008000; text-decoration-color: #008000\">'value'</span>: <span style=\"color: #008080; text-decoration-color: #008080; font-weight: bold\">509.0</span>, <span style=\"color: #008000; text-decoration-color: #008000\">'percentage'</span>: <span style=\"color: #008080; text-decoration-color: #008080; font-weight: bold\">0.71</span><span style=\"font-weight: bold\">}</span>,\n",
       "    <span style=\"font-weight: bold\">{</span><span style=\"color: #008000; text-decoration-color: #008000\">'bin_lower'</span>: <span style=\"color: #008080; text-decoration-color: #008080; font-weight: bold\">39.8</span>, <span style=\"color: #008000; text-decoration-color: #008000\">'bin_upper'</span>: <span style=\"color: #008080; text-decoration-color: #008080; font-weight: bold\">79.6</span>, <span style=\"color: #008000; text-decoration-color: #008000\">'value'</span>: <span style=\"color: #008080; text-decoration-color: #008080; font-weight: bold\">156.0</span>, <span style=\"color: #008000; text-decoration-color: #008000\">'percentage'</span>: <span style=\"color: #008080; text-decoration-color: #008080; font-weight: bold\">0.22</span><span style=\"font-weight: bold\">}</span>,\n",
       "    <span style=\"font-weight: bold\">{</span><span style=\"color: #008000; text-decoration-color: #008000\">'bin_lower'</span>: <span style=\"color: #008080; text-decoration-color: #008080; font-weight: bold\">79.6</span>, <span style=\"color: #008000; text-decoration-color: #008000\">'bin_upper'</span>: <span style=\"color: #008080; text-decoration-color: #008080; font-weight: bold\">119.4</span>, <span style=\"color: #008000; text-decoration-color: #008000\">'value'</span>: <span style=\"color: #008080; text-decoration-color: #008080; font-weight: bold\">35.0</span>, <span style=\"color: #008000; text-decoration-color: #008000\">'percentage'</span>: <span style=\"color: #008080; text-decoration-color: #008080; font-weight: bold\">0.05</span><span style=\"font-weight: bold\">}</span>,\n",
       "    <span style=\"font-weight: bold\">{</span><span style=\"color: #008000; text-decoration-color: #008000\">'bin_lower'</span>: <span style=\"color: #008080; text-decoration-color: #008080; font-weight: bold\">119.4</span>, <span style=\"color: #008000; text-decoration-color: #008000\">'bin_upper'</span>: <span style=\"color: #008080; text-decoration-color: #008080; font-weight: bold\">159.2</span>, <span style=\"color: #008000; text-decoration-color: #008000\">'value'</span>: <span style=\"color: #008080; text-decoration-color: #008080; font-weight: bold\">8.0</span>, <span style=\"color: #008000; text-decoration-color: #008000\">'percentage'</span>: <span style=\"color: #008080; text-decoration-color: #008080; font-weight: bold\">0.01</span><span style=\"font-weight: bold\">}</span>,\n",
       "    <span style=\"font-weight: bold\">{</span><span style=\"color: #008000; text-decoration-color: #008000\">'bin_lower'</span>: <span style=\"color: #008080; text-decoration-color: #008080; font-weight: bold\">159.2</span>, <span style=\"color: #008000; text-decoration-color: #008000\">'bin_upper'</span>: <span style=\"color: #008080; text-decoration-color: #008080; font-weight: bold\">199.0</span>, <span style=\"color: #008000; text-decoration-color: #008000\">'value'</span>: <span style=\"color: #008080; text-decoration-color: #008080; font-weight: bold\">4.0</span>, <span style=\"color: #008000; text-decoration-color: #008000\">'percentage'</span>: <span style=\"color: #008080; text-decoration-color: #008080; font-weight: bold\">0.01</span><span style=\"font-weight: bold\">}</span>,\n",
       "    <span style=\"font-weight: bold\">{</span><span style=\"color: #008000; text-decoration-color: #008000\">'bin_lower'</span>: <span style=\"color: #008080; text-decoration-color: #008080; font-weight: bold\">199.0</span>, <span style=\"color: #008000; text-decoration-color: #008000\">'bin_upper'</span>: <span style=\"color: #008080; text-decoration-color: #008080; font-weight: bold\">238.8</span>, <span style=\"color: #008000; text-decoration-color: #008000\">'value'</span>: <span style=\"color: #008080; text-decoration-color: #008080; font-weight: bold\">0.0</span>, <span style=\"color: #008000; text-decoration-color: #008000\">'percentage'</span>: <span style=\"color: #008080; text-decoration-color: #008080; font-weight: bold\">0.0</span><span style=\"font-weight: bold\">}</span>,\n",
       "    <span style=\"font-weight: bold\">{</span><span style=\"color: #008000; text-decoration-color: #008000\">'bin_lower'</span>: <span style=\"color: #008080; text-decoration-color: #008080; font-weight: bold\">238.8</span>, <span style=\"color: #008000; text-decoration-color: #008000\">'bin_upper'</span>: <span style=\"color: #008080; text-decoration-color: #008080; font-weight: bold\">278.6</span>, <span style=\"color: #008000; text-decoration-color: #008000\">'value'</span>: <span style=\"color: #008080; text-decoration-color: #008080; font-weight: bold\">1.0</span>, <span style=\"color: #008000; text-decoration-color: #008000\">'percentage'</span>: <span style=\"color: #008080; text-decoration-color: #008080; font-weight: bold\">0.0</span><span style=\"font-weight: bold\">}</span>,\n",
       "    <span style=\"font-weight: bold\">{</span><span style=\"color: #008000; text-decoration-color: #008000\">'bin_lower'</span>: <span style=\"color: #008080; text-decoration-color: #008080; font-weight: bold\">278.6</span>, <span style=\"color: #008000; text-decoration-color: #008000\">'bin_upper'</span>: <span style=\"color: #008080; text-decoration-color: #008080; font-weight: bold\">318.4</span>, <span style=\"color: #008000; text-decoration-color: #008000\">'value'</span>: <span style=\"color: #008080; text-decoration-color: #008080; font-weight: bold\">0.0</span>, <span style=\"color: #008000; text-decoration-color: #008000\">'percentage'</span>: <span style=\"color: #008080; text-decoration-color: #008080; font-weight: bold\">0.0</span><span style=\"font-weight: bold\">}</span>,\n",
       "    <span style=\"font-weight: bold\">{</span><span style=\"color: #008000; text-decoration-color: #008000\">'bin_lower'</span>: <span style=\"color: #008080; text-decoration-color: #008080; font-weight: bold\">318.4</span>, <span style=\"color: #008000; text-decoration-color: #008000\">'bin_upper'</span>: <span style=\"color: #008080; text-decoration-color: #008080; font-weight: bold\">358.2</span>, <span style=\"color: #008000; text-decoration-color: #008000\">'value'</span>: <span style=\"color: #008080; text-decoration-color: #008080; font-weight: bold\">1.0</span>, <span style=\"color: #008000; text-decoration-color: #008000\">'percentage'</span>: <span style=\"color: #008080; text-decoration-color: #008080; font-weight: bold\">0.0</span><span style=\"font-weight: bold\">}</span>,\n",
       "    <span style=\"font-weight: bold\">{</span><span style=\"color: #008000; text-decoration-color: #008000\">'bin_lower'</span>: <span style=\"color: #008080; text-decoration-color: #008080; font-weight: bold\">358.2</span>, <span style=\"color: #008000; text-decoration-color: #008000\">'bin_upper'</span>: <span style=\"color: #008080; text-decoration-color: #008080; font-weight: bold\">398.0</span>, <span style=\"color: #008000; text-decoration-color: #008000\">'value'</span>: <span style=\"color: #008080; text-decoration-color: #008080; font-weight: bold\">1.0</span>, <span style=\"color: #008000; text-decoration-color: #008000\">'percentage'</span>: <span style=\"color: #008080; text-decoration-color: #008080; font-weight: bold\">0.0</span><span style=\"font-weight: bold\">}</span>\n",
       "<span style=\"font-weight: bold\">]</span>\n",
       "</pre>\n"
      ],
      "text/plain": [
       "\u001b[1m[\u001b[0m\n",
       "    \u001b[1m{\u001b[0m\u001b[32m'bin_lower'\u001b[0m: \u001b[1;36m0.0\u001b[0m, \u001b[32m'bin_upper'\u001b[0m: \u001b[1;36m39.8\u001b[0m, \u001b[32m'value'\u001b[0m: \u001b[1;36m509.0\u001b[0m, \u001b[32m'percentage'\u001b[0m: \u001b[1;36m0.71\u001b[0m\u001b[1m}\u001b[0m,\n",
       "    \u001b[1m{\u001b[0m\u001b[32m'bin_lower'\u001b[0m: \u001b[1;36m39.8\u001b[0m, \u001b[32m'bin_upper'\u001b[0m: \u001b[1;36m79.6\u001b[0m, \u001b[32m'value'\u001b[0m: \u001b[1;36m156.0\u001b[0m, \u001b[32m'percentage'\u001b[0m: \u001b[1;36m0.22\u001b[0m\u001b[1m}\u001b[0m,\n",
       "    \u001b[1m{\u001b[0m\u001b[32m'bin_lower'\u001b[0m: \u001b[1;36m79.6\u001b[0m, \u001b[32m'bin_upper'\u001b[0m: \u001b[1;36m119.4\u001b[0m, \u001b[32m'value'\u001b[0m: \u001b[1;36m35.0\u001b[0m, \u001b[32m'percentage'\u001b[0m: \u001b[1;36m0.05\u001b[0m\u001b[1m}\u001b[0m,\n",
       "    \u001b[1m{\u001b[0m\u001b[32m'bin_lower'\u001b[0m: \u001b[1;36m119.4\u001b[0m, \u001b[32m'bin_upper'\u001b[0m: \u001b[1;36m159.2\u001b[0m, \u001b[32m'value'\u001b[0m: \u001b[1;36m8.0\u001b[0m, \u001b[32m'percentage'\u001b[0m: \u001b[1;36m0.01\u001b[0m\u001b[1m}\u001b[0m,\n",
       "    \u001b[1m{\u001b[0m\u001b[32m'bin_lower'\u001b[0m: \u001b[1;36m159.2\u001b[0m, \u001b[32m'bin_upper'\u001b[0m: \u001b[1;36m199.0\u001b[0m, \u001b[32m'value'\u001b[0m: \u001b[1;36m4.0\u001b[0m, \u001b[32m'percentage'\u001b[0m: \u001b[1;36m0.01\u001b[0m\u001b[1m}\u001b[0m,\n",
       "    \u001b[1m{\u001b[0m\u001b[32m'bin_lower'\u001b[0m: \u001b[1;36m199.0\u001b[0m, \u001b[32m'bin_upper'\u001b[0m: \u001b[1;36m238.8\u001b[0m, \u001b[32m'value'\u001b[0m: \u001b[1;36m0.0\u001b[0m, \u001b[32m'percentage'\u001b[0m: \u001b[1;36m0.0\u001b[0m\u001b[1m}\u001b[0m,\n",
       "    \u001b[1m{\u001b[0m\u001b[32m'bin_lower'\u001b[0m: \u001b[1;36m238.8\u001b[0m, \u001b[32m'bin_upper'\u001b[0m: \u001b[1;36m278.6\u001b[0m, \u001b[32m'value'\u001b[0m: \u001b[1;36m1.0\u001b[0m, \u001b[32m'percentage'\u001b[0m: \u001b[1;36m0.0\u001b[0m\u001b[1m}\u001b[0m,\n",
       "    \u001b[1m{\u001b[0m\u001b[32m'bin_lower'\u001b[0m: \u001b[1;36m278.6\u001b[0m, \u001b[32m'bin_upper'\u001b[0m: \u001b[1;36m318.4\u001b[0m, \u001b[32m'value'\u001b[0m: \u001b[1;36m0.0\u001b[0m, \u001b[32m'percentage'\u001b[0m: \u001b[1;36m0.0\u001b[0m\u001b[1m}\u001b[0m,\n",
       "    \u001b[1m{\u001b[0m\u001b[32m'bin_lower'\u001b[0m: \u001b[1;36m318.4\u001b[0m, \u001b[32m'bin_upper'\u001b[0m: \u001b[1;36m358.2\u001b[0m, \u001b[32m'value'\u001b[0m: \u001b[1;36m1.0\u001b[0m, \u001b[32m'percentage'\u001b[0m: \u001b[1;36m0.0\u001b[0m\u001b[1m}\u001b[0m,\n",
       "    \u001b[1m{\u001b[0m\u001b[32m'bin_lower'\u001b[0m: \u001b[1;36m358.2\u001b[0m, \u001b[32m'bin_upper'\u001b[0m: \u001b[1;36m398.0\u001b[0m, \u001b[32m'value'\u001b[0m: \u001b[1;36m1.0\u001b[0m, \u001b[32m'percentage'\u001b[0m: \u001b[1;36m0.0\u001b[0m\u001b[1m}\u001b[0m\n",
       "\u001b[1m]\u001b[0m\n"
      ]
     },
     "metadata": {},
     "output_type": "display_data"
    }
   ],
   "source": [
    "plot_distributions(positive_df, \"word_count\", 10, \"Positive Word Dist\")\n",
    "plot_distributions(negative_df, \"word_count\", 10, \"Negative Word Dist\")\n",
    "plot_distributions(neutral_df, \"word_count\", 10, \"Neutral Word Dist\")"
   ]
  },
  {
   "attachments": {},
   "cell_type": "markdown",
   "metadata": {},
   "source": [
    "Hence, through the removal of stopwords, we see that on average, half of the contents were removed. This may help us with reducing the amount of noise introduced into the model."
   ]
  },
  {
   "attachments": {},
   "cell_type": "markdown",
   "metadata": {},
   "source": [
    "### Tokenization"
   ]
  },
  {
   "attachments": {},
   "cell_type": "markdown",
   "metadata": {},
   "source": [
    "Tokenization will be handled with HuggingFace's AutoTokenizer. However, a preview of how the tokenization will look like will be shown below"
   ]
  },
  {
   "cell_type": "code",
   "execution_count": 23,
   "metadata": {},
   "outputs": [
    {
     "name": "stderr",
     "output_type": "stream",
     "text": [
      "Some weights of BertForSequenceClassification were not initialized from the model checkpoint at trituenhantaoio/bert-base-vietnamese-uncased and are newly initialized: ['classifier.weight', 'classifier.bias']\n",
      "You should probably TRAIN this model on a down-stream task to be able to use it for predictions and inference.\n",
      "C:\\Users\\Yixian\\AppData\\Local\\Temp\\ipykernel_25420\\3232213119.py:8: SettingWithCopyWarning: \n",
      "A value is trying to be set on a copy of a slice from a DataFrame.\n",
      "Try using .loc[row_indexer,col_indexer] = value instead\n",
      "\n",
      "See the caveats in the documentation: https://pandas.pydata.org/pandas-docs/stable/user_guide/indexing.html#returning-a-view-versus-a-copy\n",
      "  mini_df[\"Review\"] = mini_df[\"Review\"].apply(tokenizer.tokenize)\n"
     ]
    }
   ],
   "source": [
    "from transformers import BertForSequenceClassification\n",
    "from transformers import BertTokenizer\n",
    "\n",
    "checkpoint = \"trituenhantaoio/bert-base-vietnamese-uncased\"\n",
    "model = BertForSequenceClassification.from_pretrained(checkpoint)\n",
    "tokenizer = BertTokenizer.from_pretrained(checkpoint)\n",
    "\n",
    "mini_df = combined_reviews_df.head(5)\n",
    "mini_df[\"Review\"] = mini_df[\"Review\"].apply(tokenizer.tokenize)"
   ]
  },
  {
   "cell_type": "code",
   "execution_count": 25,
   "metadata": {},
   "outputs": [
    {
     "data": {
      "text/html": [
       "<div>\n",
       "<style scoped>\n",
       "    .dataframe tbody tr th:only-of-type {\n",
       "        vertical-align: middle;\n",
       "    }\n",
       "\n",
       "    .dataframe tbody tr th {\n",
       "        vertical-align: top;\n",
       "    }\n",
       "\n",
       "    .dataframe thead th {\n",
       "        text-align: right;\n",
       "    }\n",
       "</style>\n",
       "<table border=\"1\" class=\"dataframe\">\n",
       "  <thead>\n",
       "    <tr style=\"text-align: right;\">\n",
       "      <th></th>\n",
       "      <th>Rate</th>\n",
       "      <th>Review</th>\n",
       "      <th>Label</th>\n",
       "      <th>word_count</th>\n",
       "    </tr>\n",
       "    <tr>\n",
       "      <th>Index</th>\n",
       "      <th></th>\n",
       "      <th></th>\n",
       "      <th></th>\n",
       "      <th></th>\n",
       "    </tr>\n",
       "  </thead>\n",
       "  <tbody>\n",
       "    <tr>\n",
       "      <th>0</th>\n",
       "      <td>9.0</td>\n",
       "      <td>[khu, am, thu, ##c, đa, ng, đ, y, tri, đe, ##p...</td>\n",
       "      <td>1</td>\n",
       "      <td>48</td>\n",
       "    </tr>\n",
       "    <tr>\n",
       "      <th>1</th>\n",
       "      <td>9.0</td>\n",
       "      <td>[aeon, đ, ton, ##g, đong, o, mm, đ, ngon, re, ...</td>\n",
       "      <td>1</td>\n",
       "      <td>42</td>\n",
       "    </tr>\n",
       "    <tr>\n",
       "      <th>2</th>\n",
       "      <td>10.0</td>\n",
       "      <td>[h, ngon, re, che, h, tri, tie, ##m, food, ##c...</td>\n",
       "      <td>1</td>\n",
       "      <td>8</td>\n",
       "    </tr>\n",
       "    <tr>\n",
       "      <th>3</th>\n",
       "      <td>9.0</td>\n",
       "      <td>[ngon, re]</td>\n",
       "      <td>1</td>\n",
       "      <td>2</td>\n",
       "    </tr>\n",
       "    <tr>\n",
       "      <th>4</th>\n",
       "      <td>9.6</td>\n",
       "      <td>[c, nga, ##p, sushi, tttt, h, noi, i, om, đong...</td>\n",
       "      <td>1</td>\n",
       "      <td>20</td>\n",
       "    </tr>\n",
       "  </tbody>\n",
       "</table>\n",
       "</div>"
      ],
      "text/plain": [
       "       Rate                                             Review  Label  \\\n",
       "Index                                                                   \n",
       "0       9.0  [khu, am, thu, ##c, đa, ng, đ, y, tri, đe, ##p...      1   \n",
       "1       9.0  [aeon, đ, ton, ##g, đong, o, mm, đ, ngon, re, ...      1   \n",
       "2      10.0  [h, ngon, re, che, h, tri, tie, ##m, food, ##c...      1   \n",
       "3       9.0                                         [ngon, re]      1   \n",
       "4       9.6  [c, nga, ##p, sushi, tttt, h, noi, i, om, đong...      1   \n",
       "\n",
       "       word_count  \n",
       "Index              \n",
       "0              48  \n",
       "1              42  \n",
       "2               8  \n",
       "3               2  \n",
       "4              20  "
      ]
     },
     "execution_count": 25,
     "metadata": {},
     "output_type": "execute_result"
    }
   ],
   "source": [
    "mini_df.head(5)"
   ]
  },
  {
   "attachments": {},
   "cell_type": "markdown",
   "metadata": {},
   "source": [
    "# Preparing new data\n",
    "- We load the above pandas dataframe in Arrow format\n",
    "- Following that, we split the dataset into train, val and tes"
   ]
  },
  {
   "cell_type": "code",
   "execution_count": 78,
   "metadata": {},
   "outputs": [
    {
     "data": {
      "text/plain": [
       "Dataset({\n",
       "    features: ['Rate', 'Review', 'Label', 'word_count', 'Index'],\n",
       "    num_rows: 5910\n",
       "})"
      ]
     },
     "execution_count": 78,
     "metadata": {},
     "output_type": "execute_result"
    }
   ],
   "source": [
    "from datasets import Dataset\n",
    "\n",
    "# Shuffle the dataset\n",
    "combined_reviews_df = combined_reviews_df.sample(frac=1)\n",
    "\n",
    "# Convert to Arrow format\n",
    "reviews_dataset = Dataset.from_pandas(combined_reviews_df)\n",
    "reviews_dataset"
   ]
  },
  {
   "cell_type": "code",
   "execution_count": 79,
   "metadata": {},
   "outputs": [
    {
     "data": {
      "text/plain": [
       "DatasetDict({\n",
       "    train: Dataset({\n",
       "        features: ['Rate', 'Review', 'Label', 'word_count', 'Index'],\n",
       "        num_rows: 3782\n",
       "    })\n",
       "    validation: Dataset({\n",
       "        features: ['Rate', 'Review', 'Label', 'word_count', 'Index'],\n",
       "        num_rows: 946\n",
       "    })\n",
       "    test: Dataset({\n",
       "        features: ['Rate', 'Review', 'Label', 'word_count', 'Index'],\n",
       "        num_rows: 1182\n",
       "    })\n",
       "})"
      ]
     },
     "execution_count": 79,
     "metadata": {},
     "output_type": "execute_result"
    }
   ],
   "source": [
    "# Split into train and test\n",
    "reviews_dataset = reviews_dataset.train_test_split(train_size=0.8, seed=42)\n",
    "\n",
    "# Split train into train and val\n",
    "cleaned_reviews_dataset = reviews_dataset[\"train\"].train_test_split(train_size=0.8, seed=42)\n",
    "# Rename \"test\" to \"validation\"\n",
    "cleaned_reviews_dataset[\"validation\"] = cleaned_reviews_dataset.pop(\"test\")\n",
    "# Add back original \"test\" data\n",
    "cleaned_reviews_dataset[\"test\"] = reviews_dataset[\"test\"]\n",
    "\n",
    "cleaned_reviews_dataset\n"
   ]
  },
  {
   "attachments": {},
   "cell_type": "markdown",
   "metadata": {},
   "source": [
    "# Modelling"
   ]
  },
  {
   "cell_type": "code",
   "execution_count": 80,
   "metadata": {},
   "outputs": [
    {
     "name": "stderr",
     "output_type": "stream",
     "text": [
      "loading configuration file config.json from cache at C:\\Users\\Yixian/.cache\\huggingface\\hub\\models--trituenhantaoio--bert-base-vietnamese-uncased\\snapshots\\b1a91594cd7d15a9e76bf92656ca9b79f8e66505\\config.json\n",
      "Model config BertConfig {\n",
      "  \"_name_or_path\": \"trituenhantaoio/bert-base-vietnamese-uncased\",\n",
      "  \"attention_probs_dropout_prob\": 0.1,\n",
      "  \"classifier_dropout\": null,\n",
      "  \"directionality\": \"bidi\",\n",
      "  \"gradient_checkpointing\": false,\n",
      "  \"hidden_act\": \"gelu\",\n",
      "  \"hidden_dropout_prob\": 0.1,\n",
      "  \"hidden_size\": 768,\n",
      "  \"initializer_range\": 0.02,\n",
      "  \"intermediate_size\": 3072,\n",
      "  \"layer_norm_eps\": 1e-12,\n",
      "  \"max_position_embeddings\": 512,\n",
      "  \"model_type\": \"bert\",\n",
      "  \"num_attention_heads\": 12,\n",
      "  \"num_hidden_layers\": 12,\n",
      "  \"pad_token_id\": 0,\n",
      "  \"pooler_fc_size\": 768,\n",
      "  \"pooler_num_attention_heads\": 12,\n",
      "  \"pooler_num_fc_layers\": 3,\n",
      "  \"pooler_size_per_head\": 128,\n",
      "  \"pooler_type\": \"first_token_transform\",\n",
      "  \"position_embedding_type\": \"absolute\",\n",
      "  \"transformers_version\": \"4.25.1\",\n",
      "  \"type_vocab_size\": 2,\n",
      "  \"use_cache\": true,\n",
      "  \"vocab_size\": 32000\n",
      "}\n",
      "\n",
      "loading file vocab.txt from cache at C:\\Users\\Yixian/.cache\\huggingface\\hub\\models--trituenhantaoio--bert-base-vietnamese-uncased\\snapshots\\b1a91594cd7d15a9e76bf92656ca9b79f8e66505\\vocab.txt\n",
      "loading file tokenizer.json from cache at None\n",
      "loading file added_tokens.json from cache at None\n",
      "loading file special_tokens_map.json from cache at C:\\Users\\Yixian/.cache\\huggingface\\hub\\models--trituenhantaoio--bert-base-vietnamese-uncased\\snapshots\\b1a91594cd7d15a9e76bf92656ca9b79f8e66505\\special_tokens_map.json\n",
      "loading file tokenizer_config.json from cache at C:\\Users\\Yixian/.cache\\huggingface\\hub\\models--trituenhantaoio--bert-base-vietnamese-uncased\\snapshots\\b1a91594cd7d15a9e76bf92656ca9b79f8e66505\\tokenizer_config.json\n",
      "loading configuration file config.json from cache at C:\\Users\\Yixian/.cache\\huggingface\\hub\\models--trituenhantaoio--bert-base-vietnamese-uncased\\snapshots\\b1a91594cd7d15a9e76bf92656ca9b79f8e66505\\config.json\n",
      "Model config BertConfig {\n",
      "  \"_name_or_path\": \"trituenhantaoio/bert-base-vietnamese-uncased\",\n",
      "  \"attention_probs_dropout_prob\": 0.1,\n",
      "  \"classifier_dropout\": null,\n",
      "  \"directionality\": \"bidi\",\n",
      "  \"gradient_checkpointing\": false,\n",
      "  \"hidden_act\": \"gelu\",\n",
      "  \"hidden_dropout_prob\": 0.1,\n",
      "  \"hidden_size\": 768,\n",
      "  \"initializer_range\": 0.02,\n",
      "  \"intermediate_size\": 3072,\n",
      "  \"layer_norm_eps\": 1e-12,\n",
      "  \"max_position_embeddings\": 512,\n",
      "  \"model_type\": \"bert\",\n",
      "  \"num_attention_heads\": 12,\n",
      "  \"num_hidden_layers\": 12,\n",
      "  \"pad_token_id\": 0,\n",
      "  \"pooler_fc_size\": 768,\n",
      "  \"pooler_num_attention_heads\": 12,\n",
      "  \"pooler_num_fc_layers\": 3,\n",
      "  \"pooler_size_per_head\": 128,\n",
      "  \"pooler_type\": \"first_token_transform\",\n",
      "  \"position_embedding_type\": \"absolute\",\n",
      "  \"transformers_version\": \"4.25.1\",\n",
      "  \"type_vocab_size\": 2,\n",
      "  \"use_cache\": true,\n",
      "  \"vocab_size\": 32000\n",
      "}\n",
      "\n",
      "loading configuration file config.json from cache at C:\\Users\\Yixian/.cache\\huggingface\\hub\\models--trituenhantaoio--bert-base-vietnamese-uncased\\snapshots\\b1a91594cd7d15a9e76bf92656ca9b79f8e66505\\config.json\n",
      "Model config BertConfig {\n",
      "  \"_name_or_path\": \"trituenhantaoio/bert-base-vietnamese-uncased\",\n",
      "  \"attention_probs_dropout_prob\": 0.1,\n",
      "  \"classifier_dropout\": null,\n",
      "  \"directionality\": \"bidi\",\n",
      "  \"gradient_checkpointing\": false,\n",
      "  \"hidden_act\": \"gelu\",\n",
      "  \"hidden_dropout_prob\": 0.1,\n",
      "  \"hidden_size\": 768,\n",
      "  \"initializer_range\": 0.02,\n",
      "  \"intermediate_size\": 3072,\n",
      "  \"layer_norm_eps\": 1e-12,\n",
      "  \"max_position_embeddings\": 512,\n",
      "  \"model_type\": \"bert\",\n",
      "  \"num_attention_heads\": 12,\n",
      "  \"num_hidden_layers\": 12,\n",
      "  \"pad_token_id\": 0,\n",
      "  \"pooler_fc_size\": 768,\n",
      "  \"pooler_num_attention_heads\": 12,\n",
      "  \"pooler_num_fc_layers\": 3,\n",
      "  \"pooler_size_per_head\": 128,\n",
      "  \"pooler_type\": \"first_token_transform\",\n",
      "  \"position_embedding_type\": \"absolute\",\n",
      "  \"transformers_version\": \"4.25.1\",\n",
      "  \"type_vocab_size\": 2,\n",
      "  \"use_cache\": true,\n",
      "  \"vocab_size\": 32000\n",
      "}\n",
      "\n"
     ]
    },
    {
     "data": {
      "application/vnd.jupyter.widget-view+json": {
       "model_id": "ad2ac4ef201e4e8caf5733204380cff7",
       "version_major": 2,
       "version_minor": 0
      },
      "text/plain": [
       "  0%|          | 0/4 [00:00<?, ?ba/s]"
      ]
     },
     "metadata": {},
     "output_type": "display_data"
    },
    {
     "name": "stderr",
     "output_type": "stream",
     "text": [
      "Asking to truncate to max_length but no maximum length is provided and the model has no predefined maximum length. Default to no truncation.\n"
     ]
    },
    {
     "data": {
      "application/vnd.jupyter.widget-view+json": {
       "model_id": "9231748da8494afface3114a852e8f12",
       "version_major": 2,
       "version_minor": 0
      },
      "text/plain": [
       "  0%|          | 0/1 [00:00<?, ?ba/s]"
      ]
     },
     "metadata": {},
     "output_type": "display_data"
    },
    {
     "data": {
      "application/vnd.jupyter.widget-view+json": {
       "model_id": "00fca83dedda4c47b39111025ce16232",
       "version_major": 2,
       "version_minor": 0
      },
      "text/plain": [
       "  0%|          | 0/2 [00:00<?, ?ba/s]"
      ]
     },
     "metadata": {},
     "output_type": "display_data"
    }
   ],
   "source": [
    "from datasets import load_dataset\n",
    "from transformers import AutoTokenizer, DataCollatorWithPadding\n",
    "\n",
    "checkpoint = \"trituenhantaoio/bert-base-vietnamese-uncased\"\n",
    "tokenizer = AutoTokenizer.from_pretrained(checkpoint)\n",
    "\n",
    "def tokenize_function(example):\n",
    "    return tokenizer(example[\"Review\"], truncation=True)\n",
    "\n",
    "tokenized_datasets = cleaned_reviews_dataset.map(tokenize_function, batched=True)\n",
    "data_collator = DataCollatorWithPadding(tokenizer=tokenizer)"
   ]
  },
  {
   "cell_type": "code",
   "execution_count": 81,
   "metadata": {},
   "outputs": [],
   "source": [
    "# Process the dataset\n",
    "\n",
    "# Drop unused columns\n",
    "toknized_datasets = tokenized_datasets.remove_columns(['Rate', 'Review', 'word_count', 'Index'])\n",
    "# Rename label column\n",
    "tokenized_datasets = tokenized_datasets.rename_column('Label', 'label')\n",
    "# Set to PyTorch tensors\n",
    "tokenized_datasets.set_format(\"torch\")"
   ]
  },
  {
   "cell_type": "code",
   "execution_count": 82,
   "metadata": {},
   "outputs": [
    {
     "data": {
      "text/plain": [
       "DatasetDict({\n",
       "    train: Dataset({\n",
       "        features: ['Rate', 'Review', 'label', 'word_count', 'Index', 'input_ids', 'token_type_ids', 'attention_mask'],\n",
       "        num_rows: 3782\n",
       "    })\n",
       "    validation: Dataset({\n",
       "        features: ['Rate', 'Review', 'label', 'word_count', 'Index', 'input_ids', 'token_type_ids', 'attention_mask'],\n",
       "        num_rows: 946\n",
       "    })\n",
       "    test: Dataset({\n",
       "        features: ['Rate', 'Review', 'label', 'word_count', 'Index', 'input_ids', 'token_type_ids', 'attention_mask'],\n",
       "        num_rows: 1182\n",
       "    })\n",
       "})"
      ]
     },
     "execution_count": 82,
     "metadata": {},
     "output_type": "execute_result"
    }
   ],
   "source": [
    "tokenized_datasets"
   ]
  },
  {
   "cell_type": "code",
   "execution_count": 83,
   "metadata": {},
   "outputs": [
    {
     "name": "stderr",
     "output_type": "stream",
     "text": [
      "PyTorch: setting up devices\n",
      "The default value for the training argument `--report_to` will change in v5 (from all installed integrations to none). In v5, you will need to use `--report_to all` to get the same behavior as now. You should start updating your code and make this info disappear :-).\n",
      "loading configuration file config.json from cache at C:\\Users\\Yixian/.cache\\huggingface\\hub\\models--trituenhantaoio--bert-base-vietnamese-uncased\\snapshots\\b1a91594cd7d15a9e76bf92656ca9b79f8e66505\\config.json\n",
      "Model config BertConfig {\n",
      "  \"_name_or_path\": \"trituenhantaoio/bert-base-vietnamese-uncased\",\n",
      "  \"attention_probs_dropout_prob\": 0.1,\n",
      "  \"classifier_dropout\": null,\n",
      "  \"directionality\": \"bidi\",\n",
      "  \"gradient_checkpointing\": false,\n",
      "  \"hidden_act\": \"gelu\",\n",
      "  \"hidden_dropout_prob\": 0.1,\n",
      "  \"hidden_size\": 768,\n",
      "  \"id2label\": {\n",
      "    \"0\": \"LABEL_0\",\n",
      "    \"1\": \"LABEL_1\",\n",
      "    \"2\": \"LABEL_2\"\n",
      "  },\n",
      "  \"initializer_range\": 0.02,\n",
      "  \"intermediate_size\": 3072,\n",
      "  \"label2id\": {\n",
      "    \"LABEL_0\": 0,\n",
      "    \"LABEL_1\": 1,\n",
      "    \"LABEL_2\": 2\n",
      "  },\n",
      "  \"layer_norm_eps\": 1e-12,\n",
      "  \"max_position_embeddings\": 512,\n",
      "  \"model_type\": \"bert\",\n",
      "  \"num_attention_heads\": 12,\n",
      "  \"num_hidden_layers\": 12,\n",
      "  \"pad_token_id\": 0,\n",
      "  \"pooler_fc_size\": 768,\n",
      "  \"pooler_num_attention_heads\": 12,\n",
      "  \"pooler_num_fc_layers\": 3,\n",
      "  \"pooler_size_per_head\": 128,\n",
      "  \"pooler_type\": \"first_token_transform\",\n",
      "  \"position_embedding_type\": \"absolute\",\n",
      "  \"transformers_version\": \"4.25.1\",\n",
      "  \"type_vocab_size\": 2,\n",
      "  \"use_cache\": true,\n",
      "  \"vocab_size\": 32000\n",
      "}\n",
      "\n",
      "loading weights file pytorch_model.bin from cache at C:\\Users\\Yixian/.cache\\huggingface\\hub\\models--trituenhantaoio--bert-base-vietnamese-uncased\\snapshots\\b1a91594cd7d15a9e76bf92656ca9b79f8e66505\\pytorch_model.bin\n",
      "All model checkpoint weights were used when initializing BertForSequenceClassification.\n",
      "\n",
      "Some weights of BertForSequenceClassification were not initialized from the model checkpoint at trituenhantaoio/bert-base-vietnamese-uncased and are newly initialized: ['classifier.weight', 'classifier.bias']\n",
      "You should probably TRAIN this model on a down-stream task to be able to use it for predictions and inference.\n"
     ]
    },
    {
     "ename": "RuntimeError",
     "evalue": "false INTERNAL ASSERT FAILED at \"..\\\\c10/cuda/CUDAGraphsC10Utils.h\":74, please report a bug to PyTorch. Unknown CUDA graph CaptureStatus-1253107459",
     "output_type": "error",
     "traceback": [
      "\u001b[1;31m---------------------------------------------------------------------------\u001b[0m",
      "\u001b[1;31mRuntimeError\u001b[0m                              Traceback (most recent call last)",
      "Cell \u001b[1;32mIn[83], line 13\u001b[0m\n\u001b[0;32m      5\u001b[0m model \u001b[39m=\u001b[39m AutoModelForSequenceClassification\u001b[39m.\u001b[39mfrom_pretrained(checkpoint, num_labels\u001b[39m=\u001b[39m\u001b[39m3\u001b[39m)\n\u001b[0;32m      7\u001b[0m \u001b[39m# def compute_metrics(eval_preds):\u001b[39;00m\n\u001b[0;32m      8\u001b[0m \u001b[39m#     metric = evaluate.load(\"glue\", \"sst2\")\u001b[39;00m\n\u001b[0;32m      9\u001b[0m \u001b[39m#     logits, labels = eval_preds\u001b[39;00m\n\u001b[0;32m     10\u001b[0m \u001b[39m#     predictions = np.argmax(logits, axis=-1)\u001b[39;00m\n\u001b[0;32m     11\u001b[0m \u001b[39m#     return metric.compute(predictions=predictions, references=labels)\u001b[39;00m\n\u001b[1;32m---> 13\u001b[0m sst_trainer \u001b[39m=\u001b[39m Trainer(\n\u001b[0;32m     14\u001b[0m     model,\n\u001b[0;32m     15\u001b[0m     args\u001b[39m=\u001b[39;49msst_training_args,\n\u001b[0;32m     16\u001b[0m     train_dataset\u001b[39m=\u001b[39;49mtokenized_datasets[\u001b[39m\"\u001b[39;49m\u001b[39mtrain\u001b[39;49m\u001b[39m\"\u001b[39;49m],\n\u001b[0;32m     17\u001b[0m     eval_dataset\u001b[39m=\u001b[39;49mtokenized_datasets[\u001b[39m\"\u001b[39;49m\u001b[39mvalidation\u001b[39;49m\u001b[39m\"\u001b[39;49m],\n\u001b[0;32m     18\u001b[0m     data_collator\u001b[39m=\u001b[39;49mdata_collator,\n\u001b[0;32m     19\u001b[0m     tokenizer\u001b[39m=\u001b[39;49mtokenizer,\n\u001b[0;32m     20\u001b[0m     \u001b[39m# compute_metrics=compute_metrics,\u001b[39;49;00m\n\u001b[0;32m     21\u001b[0m )\n\u001b[0;32m     23\u001b[0m sst_trainer\u001b[39m.\u001b[39mtrain()\n",
      "File \u001b[1;32mc:\\Users\\Yixian\\miniconda3\\envs\\machine-learning\\lib\\site-packages\\transformers\\trainer.py:315\u001b[0m, in \u001b[0;36mTrainer.__init__\u001b[1;34m(self, model, args, data_collator, train_dataset, eval_dataset, tokenizer, model_init, compute_metrics, callbacks, optimizers, preprocess_logits_for_metrics)\u001b[0m\n\u001b[0;32m    313\u001b[0m \u001b[39mself\u001b[39m\u001b[39m.\u001b[39margs \u001b[39m=\u001b[39m args\n\u001b[0;32m    314\u001b[0m \u001b[39m# Seed must be set before instantiating the model when using model\u001b[39;00m\n\u001b[1;32m--> 315\u001b[0m enable_full_determinism(\u001b[39mself\u001b[39m\u001b[39m.\u001b[39margs\u001b[39m.\u001b[39mseed) \u001b[39mif\u001b[39;00m \u001b[39mself\u001b[39m\u001b[39m.\u001b[39margs\u001b[39m.\u001b[39mfull_determinism \u001b[39melse\u001b[39;00m set_seed(\u001b[39mself\u001b[39;49m\u001b[39m.\u001b[39;49margs\u001b[39m.\u001b[39;49mseed)\n\u001b[0;32m    316\u001b[0m \u001b[39mself\u001b[39m\u001b[39m.\u001b[39mhp_name \u001b[39m=\u001b[39m \u001b[39mNone\u001b[39;00m\n\u001b[0;32m    317\u001b[0m \u001b[39mself\u001b[39m\u001b[39m.\u001b[39mdeepspeed \u001b[39m=\u001b[39m \u001b[39mNone\u001b[39;00m\n",
      "File \u001b[1;32mc:\\Users\\Yixian\\miniconda3\\envs\\machine-learning\\lib\\site-packages\\transformers\\trainer_utils.py:94\u001b[0m, in \u001b[0;36mset_seed\u001b[1;34m(seed)\u001b[0m\n\u001b[0;32m     92\u001b[0m \u001b[39mif\u001b[39;00m is_torch_available():\n\u001b[0;32m     93\u001b[0m     torch\u001b[39m.\u001b[39mmanual_seed(seed)\n\u001b[1;32m---> 94\u001b[0m     torch\u001b[39m.\u001b[39;49mcuda\u001b[39m.\u001b[39;49mmanual_seed_all(seed)\n\u001b[0;32m     95\u001b[0m     \u001b[39m# ^^ safe to call this function even if cuda is not available\u001b[39;00m\n\u001b[0;32m     96\u001b[0m \u001b[39mif\u001b[39;00m is_tf_available():\n",
      "File \u001b[1;32mc:\\Users\\Yixian\\miniconda3\\envs\\machine-learning\\lib\\site-packages\\torch\\cuda\\random.py:113\u001b[0m, in \u001b[0;36mmanual_seed_all\u001b[1;34m(seed)\u001b[0m\n\u001b[0;32m    110\u001b[0m         default_generator \u001b[39m=\u001b[39m torch\u001b[39m.\u001b[39mcuda\u001b[39m.\u001b[39mdefault_generators[i]\n\u001b[0;32m    111\u001b[0m         default_generator\u001b[39m.\u001b[39mmanual_seed(seed)\n\u001b[1;32m--> 113\u001b[0m _lazy_call(cb, seed_all\u001b[39m=\u001b[39;49m\u001b[39mTrue\u001b[39;49;00m)\n",
      "File \u001b[1;32mc:\\Users\\Yixian\\miniconda3\\envs\\machine-learning\\lib\\site-packages\\torch\\cuda\\__init__.py:165\u001b[0m, in \u001b[0;36m_lazy_call\u001b[1;34m(callable, **kwargs)\u001b[0m\n\u001b[0;32m    163\u001b[0m \u001b[39mdef\u001b[39;00m \u001b[39m_lazy_call\u001b[39m(callable, \u001b[39m*\u001b[39m\u001b[39m*\u001b[39mkwargs):\n\u001b[0;32m    164\u001b[0m     \u001b[39mif\u001b[39;00m is_initialized():\n\u001b[1;32m--> 165\u001b[0m         callable()\n\u001b[0;32m    166\u001b[0m     \u001b[39melse\u001b[39;00m:\n\u001b[0;32m    167\u001b[0m         \u001b[39m# TODO(torch_deploy): this accesses linecache, which attempts to read the\u001b[39;00m\n\u001b[0;32m    168\u001b[0m         \u001b[39m# file system to get traceback info. Patch linecache or do something\u001b[39;00m\n\u001b[0;32m    169\u001b[0m         \u001b[39m# else here if this ends up being important.\u001b[39;00m\n\u001b[0;32m    170\u001b[0m         \u001b[39mglobal\u001b[39;00m _lazy_seed_tracker\n",
      "File \u001b[1;32mc:\\Users\\Yixian\\miniconda3\\envs\\machine-learning\\lib\\site-packages\\torch\\cuda\\random.py:111\u001b[0m, in \u001b[0;36mmanual_seed_all.<locals>.cb\u001b[1;34m()\u001b[0m\n\u001b[0;32m    109\u001b[0m \u001b[39mfor\u001b[39;00m i \u001b[39min\u001b[39;00m \u001b[39mrange\u001b[39m(device_count()):\n\u001b[0;32m    110\u001b[0m     default_generator \u001b[39m=\u001b[39m torch\u001b[39m.\u001b[39mcuda\u001b[39m.\u001b[39mdefault_generators[i]\n\u001b[1;32m--> 111\u001b[0m     default_generator\u001b[39m.\u001b[39;49mmanual_seed(seed)\n",
      "\u001b[1;31mRuntimeError\u001b[0m: false INTERNAL ASSERT FAILED at \"..\\\\c10/cuda/CUDAGraphsC10Utils.h\":74, please report a bug to PyTorch. Unknown CUDA graph CaptureStatus-1253107459"
     ]
    }
   ],
   "source": [
    "from transformers import AutoModelForSequenceClassification, Trainer, TrainingArguments\n",
    "import evaluate\n",
    "\n",
    "sst_training_args = TrainingArguments(\"sst-trainer\", evaluation_strategy=\"epoch\", per_device_train_batch_size=8)\n",
    "model = AutoModelForSequenceClassification.from_pretrained(checkpoint, num_labels=3)\n",
    "\n",
    "# def compute_metrics(eval_preds):\n",
    "#     metric = evaluate.load(\"glue\", \"sst2\")\n",
    "#     logits, labels = eval_preds\n",
    "#     predictions = np.argmax(logits, axis=-1)\n",
    "#     return metric.compute(predictions=predictions, references=labels)\n",
    "\n",
    "sst_trainer = Trainer(\n",
    "    model,\n",
    "    args=sst_training_args,\n",
    "    train_dataset=tokenized_datasets[\"train\"],\n",
    "    eval_dataset=tokenized_datasets[\"validation\"],\n",
    "    data_collator=data_collator,\n",
    "    tokenizer=tokenizer,\n",
    "    # compute_metrics=compute_metrics,\n",
    ")\n",
    "\n",
    "sst_trainer.train()"
   ]
  },
  {
   "cell_type": "code",
   "execution_count": null,
   "metadata": {},
   "outputs": [],
   "source": []
  }
 ],
 "metadata": {
  "kernelspec": {
   "display_name": "machine-learning",
   "language": "python",
   "name": "python3"
  },
  "language_info": {
   "codemirror_mode": {
    "name": "ipython",
    "version": 3
   },
   "file_extension": ".py",
   "mimetype": "text/x-python",
   "name": "python",
   "nbconvert_exporter": "python",
   "pygments_lexer": "ipython3",
   "version": "3.10.4"
  },
  "orig_nbformat": 4,
  "vscode": {
   "interpreter": {
    "hash": "3319592c658da5e3f94cb820cf6e0f05462b74bfcef602eaf0ba14276884bff4"
   }
  }
 },
 "nbformat": 4,
 "nbformat_minor": 2
}
