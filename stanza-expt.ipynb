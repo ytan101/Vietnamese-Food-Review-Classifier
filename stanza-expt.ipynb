{
 "cells": [
  {
   "cell_type": "code",
   "execution_count": 1,
   "metadata": {},
   "outputs": [
    {
     "data": {
      "application/vnd.jupyter.widget-view+json": {
       "model_id": "160f1b56b37148bba8a542e59726ebf7",
       "version_major": 2,
       "version_minor": 0
      },
      "text/plain": [
       "Downloading https://raw.githubusercontent.com/stanfordnlp/stanza-resources/main/resources_1.4.1.json:   0%|   …"
      ]
     },
     "metadata": {},
     "output_type": "display_data"
    },
    {
     "name": "stderr",
     "output_type": "stream",
     "text": [
      "2023-01-09 21:30:24 INFO: Downloading default packages for language: en (English) ...\n",
      "2023-01-09 21:30:25 INFO: File exists: /Users/yixiantan/stanza_resources/en/default.zip\n",
      "2023-01-09 21:30:28 INFO: Finished downloading models and saved to /Users/yixiantan/stanza_resources.\n",
      "2023-01-09 21:30:28 INFO: Checking for updates to resources.json in case models have been updated.  Note: this behavior can be turned off with download_method=None or download_method=DownloadMethod.REUSE_RESOURCES\n"
     ]
    },
    {
     "data": {
      "application/vnd.jupyter.widget-view+json": {
       "model_id": "bb3e0ca4903345c1b6317c4ec4b27342",
       "version_major": 2,
       "version_minor": 0
      },
      "text/plain": [
       "Downloading https://raw.githubusercontent.com/stanfordnlp/stanza-resources/main/resources_1.4.1.json:   0%|   …"
      ]
     },
     "metadata": {},
     "output_type": "display_data"
    },
    {
     "name": "stderr",
     "output_type": "stream",
     "text": [
      "2023-01-09 21:30:30 INFO: Loading these models for language: en (English):\n",
      "============================\n",
      "| Processor    | Package   |\n",
      "----------------------------\n",
      "| tokenize     | combined  |\n",
      "| pos          | combined  |\n",
      "| lemma        | combined  |\n",
      "| depparse     | combined  |\n",
      "| sentiment    | sstplus   |\n",
      "| constituency | wsj       |\n",
      "| ner          | ontonotes |\n",
      "============================\n",
      "\n",
      "2023-01-09 21:30:30 INFO: Use device: cpu\n",
      "2023-01-09 21:30:30 INFO: Loading: tokenize\n",
      "2023-01-09 21:30:30 INFO: Loading: pos\n",
      "2023-01-09 21:30:30 INFO: Loading: lemma\n",
      "2023-01-09 21:30:30 INFO: Loading: depparse\n",
      "2023-01-09 21:30:30 INFO: Loading: sentiment\n",
      "2023-01-09 21:30:30 INFO: Loading: constituency\n",
      "2023-01-09 21:30:30 INFO: Loading: ner\n",
      "2023-01-09 21:30:31 INFO: Done loading processors!\n"
     ]
    }
   ],
   "source": [
    "import stanza\n",
    "\n",
    "# proxies = {'http': 'http://ip:port', 'https': 'http://ip:port'}\n",
    "stanza.download('en')\n",
    "nlp=  stanza.Pipeline('en')"
   ]
  },
  {
   "cell_type": "code",
   "execution_count": 39,
   "metadata": {},
   "outputs": [
    {
     "data": {
      "text/plain": [
       "[\n",
       "  {\n",
       "    \"id\": 1,\n",
       "    \"text\": \"The\",\n",
       "    \"lemma\": \"the\",\n",
       "    \"upos\": \"DET\",\n",
       "    \"xpos\": \"DT\",\n",
       "    \"feats\": \"Definite=Def|PronType=Art\",\n",
       "    \"head\": 3,\n",
       "    \"deprel\": \"det\",\n",
       "    \"start_char\": 0,\n",
       "    \"end_char\": 3,\n",
       "    \"ner\": \"O\",\n",
       "    \"multi_ner\": [\n",
       "      \"O\"\n",
       "    ]\n",
       "  },\n",
       "  {\n",
       "    \"id\": 2,\n",
       "    \"text\": \"cheap\",\n",
       "    \"lemma\": \"cheap\",\n",
       "    \"upos\": \"ADJ\",\n",
       "    \"xpos\": \"JJ\",\n",
       "    \"feats\": \"Degree=Pos\",\n",
       "    \"head\": 3,\n",
       "    \"deprel\": \"amod\",\n",
       "    \"start_char\": 4,\n",
       "    \"end_char\": 9,\n",
       "    \"ner\": \"O\",\n",
       "    \"multi_ner\": [\n",
       "      \"O\"\n",
       "    ]\n",
       "  },\n",
       "  {\n",
       "    \"id\": 3,\n",
       "    \"text\": \"laptop\",\n",
       "    \"lemma\": \"laptop\",\n",
       "    \"upos\": \"NOUN\",\n",
       "    \"xpos\": \"NN\",\n",
       "    \"feats\": \"Number=Sing\",\n",
       "    \"head\": 6,\n",
       "    \"deprel\": \"nsubj\",\n",
       "    \"start_char\": 10,\n",
       "    \"end_char\": 16,\n",
       "    \"ner\": \"O\",\n",
       "    \"multi_ner\": [\n",
       "      \"O\"\n",
       "    ]\n",
       "  },\n",
       "  {\n",
       "    \"id\": 4,\n",
       "    \"text\": \"is\",\n",
       "    \"lemma\": \"be\",\n",
       "    \"upos\": \"AUX\",\n",
       "    \"xpos\": \"VBZ\",\n",
       "    \"feats\": \"Mood=Ind|Number=Sing|Person=3|Tense=Pres|VerbForm=Fin\",\n",
       "    \"head\": 6,\n",
       "    \"deprel\": \"cop\",\n",
       "    \"start_char\": 17,\n",
       "    \"end_char\": 19,\n",
       "    \"ner\": \"O\",\n",
       "    \"multi_ner\": [\n",
       "      \"O\"\n",
       "    ]\n",
       "  },\n",
       "  {\n",
       "    \"id\": 5,\n",
       "    \"text\": \"very\",\n",
       "    \"lemma\": \"very\",\n",
       "    \"upos\": \"ADV\",\n",
       "    \"xpos\": \"RB\",\n",
       "    \"head\": 6,\n",
       "    \"deprel\": \"advmod\",\n",
       "    \"start_char\": 20,\n",
       "    \"end_char\": 24,\n",
       "    \"ner\": \"O\",\n",
       "    \"multi_ner\": [\n",
       "      \"O\"\n",
       "    ]\n",
       "  },\n",
       "  {\n",
       "    \"id\": 6,\n",
       "    \"text\": \"slow\",\n",
       "    \"lemma\": \"slow\",\n",
       "    \"upos\": \"ADJ\",\n",
       "    \"xpos\": \"JJ\",\n",
       "    \"feats\": \"Degree=Pos\",\n",
       "    \"head\": 0,\n",
       "    \"deprel\": \"root\",\n",
       "    \"start_char\": 25,\n",
       "    \"end_char\": 29,\n",
       "    \"ner\": \"O\",\n",
       "    \"multi_ner\": [\n",
       "      \"O\"\n",
       "    ]\n",
       "  },\n",
       "  {\n",
       "    \"id\": 7,\n",
       "    \"text\": \".\",\n",
       "    \"lemma\": \".\",\n",
       "    \"upos\": \"PUNCT\",\n",
       "    \"xpos\": \".\",\n",
       "    \"head\": 6,\n",
       "    \"deprel\": \"punct\",\n",
       "    \"start_char\": 29,\n",
       "    \"end_char\": 30,\n",
       "    \"ner\": \"O\",\n",
       "    \"multi_ner\": [\n",
       "      \"O\"\n",
       "    ]\n",
       "  }\n",
       "]"
      ]
     },
     "execution_count": 39,
     "metadata": {},
     "output_type": "execute_result"
    }
   ],
   "source": [
    "doc = nlp(\"The cheap laptop is very slow.\")\n",
    "# doc.sentences[0].print_dependencies()\n",
    "doc.sentences[0]"
   ]
  },
  {
   "cell_type": "code",
   "execution_count": 36,
   "metadata": {},
   "outputs": [],
   "source": [
    "# Extracting adjectives\n",
    "processed = doc.sentences[0]\n",
    "adjectives = [word.lemma for word in doc.sentences[0].words if word.upos == \"ADJ\"]"
   ]
  },
  {
   "cell_type": "code",
   "execution_count": 37,
   "metadata": {},
   "outputs": [
    {
     "name": "stdout",
     "output_type": "stream",
     "text": [
      "['cheap']\n"
     ]
    }
   ],
   "source": [
    "print(adjectives)"
   ]
  },
  {
   "attachments": {},
   "cell_type": "markdown",
   "metadata": {},
   "source": [
    "## 50 random sentences from IMDB Dataset"
   ]
  },
  {
   "cell_type": "code",
   "execution_count": 73,
   "metadata": {},
   "outputs": [
    {
     "name": "stderr",
     "output_type": "stream",
     "text": [
      "Using custom data configuration default-37f8cdc2103c6b6c\n",
      "Found cached dataset csv (/Users/yixiantan/.cache/huggingface/datasets/csv/default-37f8cdc2103c6b6c/0.0.0/6b34fb8fcf56f7c8ba51dc895bfa2bfbe43546f190a60fcf74bb5e8afdcc2317)\n"
     ]
    },
    {
     "data": {
      "application/vnd.jupyter.widget-view+json": {
       "model_id": "cf759f1c344f42b193f1f224d4b544d2",
       "version_major": 2,
       "version_minor": 0
      },
      "text/plain": [
       "  0%|          | 0/1 [00:00<?, ?it/s]"
      ]
     },
     "metadata": {},
     "output_type": "display_data"
    }
   ],
   "source": [
    "from datasets import load_dataset\n",
    "\n",
    "data_files = {\"data\": \"imdb_dataset.csv\"}\n",
    "imdb_dataset = load_dataset(\"csv\", data_files = data_files)"
   ]
  },
  {
   "cell_type": "code",
   "execution_count": 74,
   "metadata": {},
   "outputs": [
    {
     "name": "stderr",
     "output_type": "stream",
     "text": [
      "Loading cached shuffled indices for dataset at /Users/yixiantan/.cache/huggingface/datasets/csv/default-37f8cdc2103c6b6c/0.0.0/6b34fb8fcf56f7c8ba51dc895bfa2bfbe43546f190a60fcf74bb5e8afdcc2317/cache-7cb455eb0777f4d7.arrow\n"
     ]
    },
    {
     "data": {
      "application/vnd.jupyter.widget-view+json": {
       "model_id": "ad49f948ddfc4e8bb212bbe1db03d1b9",
       "version_major": 2,
       "version_minor": 0
      },
      "text/plain": [
       "  0%|          | 0/50000 [00:00<?, ?ex/s]"
      ]
     },
     "metadata": {},
     "output_type": "display_data"
    },
    {
     "data": {
      "application/vnd.jupyter.widget-view+json": {
       "model_id": "28be2d707189424daf634860cd03e152",
       "version_major": 2,
       "version_minor": 0
      },
      "text/plain": [
       "  0%|          | 0/50000 [00:00<?, ?ex/s]"
      ]
     },
     "metadata": {},
     "output_type": "display_data"
    },
    {
     "data": {
      "application/vnd.jupyter.widget-view+json": {
       "model_id": "cc1e9bfc8d144cdba812e2e0f36778d9",
       "version_major": 2,
       "version_minor": 0
      },
      "text/plain": [
       "  0%|          | 0/50000 [00:00<?, ?ex/s]"
      ]
     },
     "metadata": {},
     "output_type": "display_data"
    }
   ],
   "source": [
    "import html\n",
    "\n",
    "# Random sample\n",
    "imdb_sample = imdb_dataset[\"data\"].shuffle(seed=5)\n",
    "imdb_sample[\"review\"]\n",
    "\n",
    "# Convert html unicode from reviews\n",
    "imdb_dataset = imdb_dataset.map(lambda x: {\"review\": html.unescape(x[\"review\"])})\n",
    "\n",
    "# Remove line breaks\n",
    "imdb_dataset = imdb_dataset.map(lambda x: {\"review\": x[\"review\"].replace(\"<br />\", \" \")})\n",
    "\n",
    "# # Replace apostrophes\n",
    "# imdb_dataset = imdb_dataset.map(lambda x: {\"review\": x[\"review\"].replace(\"\\\\'\", \"?\")})\n",
    "\n",
    "# Set all to lowercase\n",
    "imdb_dataset = imdb_dataset.map(lambda x: {\"review\": x[\"review\"].lower()})"
   ]
  },
  {
   "cell_type": "code",
   "execution_count": 85,
   "metadata": {},
   "outputs": [
    {
     "data": {
      "text/plain": [
       "[\"one of the other reviewers has mentioned that after watching just 1 oz episode you'll be hooked\",\n",
       " 'they are right, as this is exactly what happened with me',\n",
       " ' the first thing that struck me about oz was its brutality and unflinching scenes of violence, which set in right from the word go',\n",
       " 'trust me, this is not a show for the faint hearted or timid',\n",
       " 'this show pulls no punches with regards to drugs, sex or violence']"
      ]
     },
     "execution_count": 85,
     "metadata": {},
     "output_type": "execute_result"
    }
   ],
   "source": [
    "sentences = []\n",
    "\n",
    "# Get all sentences in the dataset\n",
    "for review in imdb_dataset[\"data\"][\"review\"]:\n",
    "    sentences.extend(review.split(\". \"))\n",
    "\n",
    "sentences[:5]"
   ]
  },
  {
   "cell_type": "code",
   "execution_count": null,
   "metadata": {},
   "outputs": [],
   "source": []
  }
 ],
 "metadata": {
  "kernelspec": {
   "display_name": "huggingface",
   "language": "python",
   "name": "python3"
  },
  "language_info": {
   "codemirror_mode": {
    "name": "ipython",
    "version": 3
   },
   "file_extension": ".py",
   "mimetype": "text/x-python",
   "name": "python",
   "nbconvert_exporter": "python",
   "pygments_lexer": "ipython3",
   "version": "3.10.8"
  },
  "orig_nbformat": 4,
  "vscode": {
   "interpreter": {
    "hash": "943c9cdb8fdac91d2e7cf1f57f480bf6eb148bff6eac0f2d618fd745b4047cc3"
   }
  }
 },
 "nbformat": 4,
 "nbformat_minor": 2
}
